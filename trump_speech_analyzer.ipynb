{
 "cells": [
  {
   "cell_type": "code",
   "execution_count": 1,
   "metadata": {
    "collapsed": true
   },
   "outputs": [],
   "source": [
    "%matplotlib inline"
   ]
  },
  {
   "cell_type": "code",
   "execution_count": 2,
   "metadata": {
    "collapsed": true
   },
   "outputs": [],
   "source": [
    "import matplotlib.pyplot as plt\n",
    "from bs4 import BeautifulSoup\n",
    "import requests\n",
    "import datefinder\n",
    "import spacy\n",
    "import pandas as pd\n",
    "from gensim import corpora, models, similarities\n",
    "from gensim.utils import simple_preprocess\n",
    "from gensim.parsing.preprocessing import STOPWORDS\n",
    "from textblob import TextBlob\n",
    "import numpy as np\n",
    "from sklearn import (manifold, datasets, decomposition, ensemble, discriminant_analysis, random_projection)\n",
    "from gensim.summarization import (summarize, keywords)\n",
    "from sklearn.metrics.pairwise import pairwise_distances"
   ]
  },
  {
   "cell_type": "code",
   "execution_count": 3,
   "metadata": {
    "collapsed": false
   },
   "outputs": [
    {
     "name": "stdout",
     "output_type": "stream",
     "text": [
      "2.0.6\n"
     ]
    }
   ],
   "source": [
    "from plotly import __version__\n",
    "from plotly.offline import download_plotlyjs, init_notebook_mode, plot, iplot\n",
    "\n",
    "print __version__ # requires version >= 1.9.0\n",
    "\n",
    "from plotly.graph_objs import Scatter, Figure, Layout\n",
    "import plotly.plotly as py\n",
    "import plotly.graph_objs as go"
   ]
  },
  {
   "cell_type": "code",
   "execution_count": 4,
   "metadata": {
    "collapsed": false
   },
   "outputs": [
    {
     "data": {
      "text/html": [
       "<script>requirejs.config({paths: { 'plotly': ['https://cdn.plot.ly/plotly-latest.min']},});if(!window.Plotly) {{require(['plotly'],function(plotly) {window.Plotly=plotly;});}}</script>"
      ],
      "text/vnd.plotly.v1+html": [
       "<script>requirejs.config({paths: { 'plotly': ['https://cdn.plot.ly/plotly-latest.min']},});if(!window.Plotly) {{require(['plotly'],function(plotly) {window.Plotly=plotly;});}}</script>"
      ]
     },
     "metadata": {},
     "output_type": "display_data"
    }
   ],
   "source": [
    "init_notebook_mode(connected=True)"
   ]
  },
  {
   "cell_type": "code",
   "execution_count": 5,
   "metadata": {
    "collapsed": true
   },
   "outputs": [],
   "source": [
    "stops = set([s for s in STOPWORDS])\n",
    "\n",
    "# adding corpus-specific stopwords to gensim's default stopwords:\n",
    "customstops = set(['applause','booing','inaudible','cheers','laughter'])\n",
    "stops = stops.union(customstops)"
   ]
  },
  {
   "cell_type": "code",
   "execution_count": 6,
   "metadata": {
    "collapsed": false
   },
   "outputs": [],
   "source": [
    "def tokenize(text):\n",
    "    return [token for token in simple_preprocess(text) if token not in stops]\n",
    "\n",
    "def get_speech(doc):\n",
    "    length = 0\n",
    "    segs = doc.split(\"\\n\\n\\n\")\n",
    "    for i in segs:\n",
    "        if len(i) > length:\n",
    "            length = len(i)\n",
    "    speech=[i for i in segs if len(i)==length]\n",
    "    return speech[0]\n",
    "\n",
    "def get_date(d):\n",
    "    matches = list(datefinder.find_dates(d))\n",
    "    if len(matches)>0:\n",
    "        return matches[0]\n",
    "    else:\n",
    "        return \"no date found\"\n",
    "    \n",
    "def get_ne_list(doc):\n",
    "    return [e.text for e in list(nlp(doc).ents)]"
   ]
  },
  {
   "cell_type": "code",
   "execution_count": 7,
   "metadata": {
    "collapsed": true
   },
   "outputs": [],
   "source": [
    "nlp = spacy.load('en')"
   ]
  },
  {
   "cell_type": "code",
   "execution_count": 8,
   "metadata": {
    "collapsed": false
   },
   "outputs": [],
   "source": [
    "html = requests.get(\"http://www.presidency.ucsb.edu/2016_election_speeches.php?candidate=45&campaign=2016TRUMP&doctype=5000\")\n",
    "\n",
    "soup = BeautifulSoup(html.text, 'html.parser')\n",
    "\n",
    "links = []\n",
    "for a in soup.find_all('a'):\n",
    "    if a['href'].startswith(\"../ws/index.php?pid=\"):\n",
    "        links.append(a['href'])\n",
    "\n",
    "links = list(set([l.replace(\"../ws/index.php?\",\"http://www.presidency.ucsb.edu/ws/?\") for l in links]))"
   ]
  },
  {
   "cell_type": "code",
   "execution_count": 9,
   "metadata": {
    "collapsed": true
   },
   "outputs": [],
   "source": [
    "speeches = []\n",
    "citations = []\n",
    "\n",
    "for l in links:\n",
    "    doc = requests.get(l)\n",
    "    docsoup = BeautifulSoup(doc.text, 'html.parser')\n",
    "    speech = get_speech(docsoup.get_text())\n",
    "    speeches.append(speech.split(\"\\nCitation:\")[0])\n",
    "    citations.append(speech.split(\"\\nCitation:\")[1])\n",
    "    \n",
    "dates = [get_date(c) for c in citations]"
   ]
  },
  {
   "cell_type": "code",
   "execution_count": 10,
   "metadata": {
    "collapsed": false
   },
   "outputs": [],
   "source": [
    "sentiment = [TextBlob(s).sentiment.polarity for s in speeches]"
   ]
  },
  {
   "cell_type": "code",
   "execution_count": 11,
   "metadata": {
    "collapsed": false
   },
   "outputs": [
    {
     "name": "stdout",
     "output_type": "stream",
     "text": [
      "Highest Sentiment Speech:\n",
      " Donald J. Trump: \"Remarks at Great Faith International Ministries in Detroit, Michigan,\" September 3, 2016. Online by Gerhard Peters and John T. Woolley, The American Presidency Project. http://www.presidency.ucsb.edu/ws/?pid=119199.\n",
      "\n",
      "======================================\n",
      "\n",
      "Lowest Sentiment Speech:\n",
      " Donald J. Trump: \"Remarks at the Jeffco Fairgrounds Event Center in Golden, Colorado,\" October 29, 2016. Online by Gerhard Peters and John T. Woolley, The American Presidency Project. http://www.presidency.ucsb.edu/ws/?pid=119181.\n"
     ]
    }
   ],
   "source": [
    "print(\"Highest Sentiment Speech:\")\n",
    "print(citations[pd.Series(sentiment).idxmax()])\n",
    "print('\\n======================================\\n')\n",
    "print(\"Lowest Sentiment Speech:\")\n",
    "print(citations[pd.Series(sentiment).idxmin()])"
   ]
  },
  {
   "cell_type": "code",
   "execution_count": 12,
   "metadata": {
    "collapsed": true
   },
   "outputs": [],
   "source": [
    "entities = []\n",
    "\n",
    "for s in speeches:\n",
    "    ents = nlp(s).ents\n",
    "    for e in ents:\n",
    "        entities.append((e.label_, e.text))\n",
    "\n",
    "s = pd.Series(entities)"
   ]
  },
  {
   "cell_type": "code",
   "execution_count": 13,
   "metadata": {
    "collapsed": false
   },
   "outputs": [],
   "source": [
    "speeches_token_list = [tokenize(s) for s in speeches]\n",
    "# speeches_ne_list = [get_ne_list(s) for s in speeches]\n",
    "\n",
    "# dictionary = corpora.Dictionary(speeches_ne_list)\n",
    "dictionary = corpora.Dictionary(speeches_token_list)\n",
    "\n",
    "# corpus = [dictionary.doc2bow(s) for s in speeches_ne_list]\n",
    "corpus = [dictionary.doc2bow(s) for s in speeches_token_list]"
   ]
  },
  {
   "cell_type": "code",
   "execution_count": 14,
   "metadata": {
    "collapsed": true
   },
   "outputs": [],
   "source": [
    "# transform the corpus from bag-of-words to Tfidf:\n",
    "tfidf = models.TfidfModel(corpus)\n",
    "corpus_tfidf = tfidf[corpus]"
   ]
  },
  {
   "cell_type": "code",
   "execution_count": 15,
   "metadata": {
    "collapsed": false
   },
   "outputs": [
    {
     "name": "stdout",
     "output_type": "stream",
     "text": [
      "     topic_0       topic_1     topic_2   topic_3      topic_4       topic_5  \\\n",
      "0   donating         cyber          va  question       israel         folks   \n",
      "1    indiana  philadelphia   hampshire     maine     michigan          ohio   \n",
      "2     follow          navy    veterans     looks      detroit       winning   \n",
      "3         ll       student       flint    donald        flint      fighting   \n",
      "4       know  pennsylvania      legion    estate       growth         think   \n",
      "5      tired       machine    michigan    pueblo       reince            ll   \n",
      "6      folks       defense       gonna      code         baby          know   \n",
      "7      think         guard       water  colorado  palestinian      ericsson   \n",
      "8         ok           war         tpp   african        folks    corruption   \n",
      "9        lot        health     veteran    future        guard         legal   \n",
      "10     loans       attacks      follow    heroes        think         farms   \n",
      "11  carolina         gonna   employers      said         know         voice   \n",
      "12     coast          kids      health     issue           ok     questions   \n",
      "13      mike     brilliant       korea      mike        japan        debate   \n",
      "14  fighting         false   childcare   detroit           ll       florida   \n",
      "15      said  universities     warfare   company         tell           got   \n",
      "16  audience         story        care     party       schoen        johnny   \n",
      "17       big       develop    donating  michigan      results       tonight   \n",
      "18  students         islam        paid       ubs        tough  unbelievable   \n",
      "19     gonna      teachers  production  children          tax          mike   \n",
      "20    phrase      students     missile    russia        south          mean   \n",
      "21  speeches        allies         act    police         iran            ok   \n",
      "22   college     milwaukee       drugs       tax         said           lot   \n",
      "23   believe        effort          ll     fight        party          isis   \n",
      "24  michigan   information      access      tell         deal       reforms   \n",
      "\n",
      "      topic_6  \n",
      "0       haiti  \n",
      "1     jackson  \n",
      "2      bishop  \n",
      "3     florida  \n",
      "4   wikileaks  \n",
      "5       gonna  \n",
      "6     arizona  \n",
      "7          dr  \n",
      "8        know  \n",
      "9          ll  \n",
      "10    african  \n",
      "11      think  \n",
      "12   clintons  \n",
      "13   officers  \n",
      "14    illegal  \n",
      "15     pastor  \n",
      "16      folks  \n",
      "17   criminal  \n",
      "18     emails  \n",
      "19       tell  \n",
      "20    believe  \n",
      "21     bernie  \n",
      "22       said  \n",
      "23    amnesty  \n",
      "24     crimes  \n"
     ]
    }
   ],
   "source": [
    "lda = models.LdaModel(corpus_tfidf, id2word=dictionary, num_topics=7)\n",
    "\n",
    "# using pandas to collect topics in nice tabular format\n",
    "topn=25\n",
    "index = range(topn)\n",
    "df = pd.DataFrame(index=index)\n",
    "for i in range(lda.num_topics):\n",
    "    t = [w[0] for w in lda.show_topic(i, topn=topn)]\n",
    "    df['topic_%s' % i] = pd.Series(t)\n",
    "\n",
    "print(df)"
   ]
  },
  {
   "cell_type": "code",
   "execution_count": 16,
   "metadata": {
    "collapsed": false
   },
   "outputs": [],
   "source": [
    "D = np.empty((0,300))\n",
    "\n",
    "for d in speeches:\n",
    "    D = np.vstack([D,nlp(d).vector])"
   ]
  },
  {
   "cell_type": "code",
   "execution_count": 17,
   "metadata": {
    "collapsed": false
   },
   "outputs": [],
   "source": [
    "# t-SNE embedding\n",
    "tsne = manifold.TSNE(n_components=2, init='pca', random_state=0)\n",
    "D_tsne = tsne.fit_transform(D)"
   ]
  },
  {
   "cell_type": "code",
   "execution_count": 18,
   "metadata": {
    "collapsed": true
   },
   "outputs": [],
   "source": [
    "def get_keywords(s):\n",
    "    try:\n",
    "        return keywords(s, ratio=0.1)\n",
    "    except:\n",
    "        return 'na'"
   ]
  },
  {
   "cell_type": "code",
   "execution_count": 19,
   "metadata": {
    "collapsed": true
   },
   "outputs": [],
   "source": [
    "kwds = [get_keywords(s) for s in speeches]"
   ]
  },
  {
   "cell_type": "code",
   "execution_count": 20,
   "metadata": {
    "collapsed": false
   },
   "outputs": [
    {
     "data": {
      "application/vnd.plotly.v1+json": {
       "data": [
        {
         "hoverinfo": "text",
         "marker": {
          "line": {
           "width": 1
          },
          "opacity": 0.3,
          "size": 8
         },
         "mode": "markers",
         "text": [
          "0<br>applause\nact\namericans\namerican\ntaxes\ntax\nfederal\nnew\nlike\ncountry\ncountries\nmilitary\ntime\ntimes\ngreat\npeople\njob\njobs\nmillion\ntremendous\ntrade\ntrading\nyears\nyear\nstates\nstate\nstated\ngood\npublic\neducation\ncare\ncareful\nnation\nprivate\nnational security\nmassive\nestablishment\nestablishes\nestablish\ninfrastructure\ntotally\ntotal\nincluded\nincluding\ninclude\nplan\nplace\nplaced\ncommunities\ncommunity\nfar\nsavings\nofficials\ndepartment\nend\nends\naction\nactions\ndifferent\nnumber\nnumbers\nchange\nvoter\nvoters\nchoice\nrestore\nrestoring\nwall\ngovernment\nplaying\nclinton\ncriminal\nlocal\nhealth\nwonder\nwonderful\ndeal\ndeals\nchildcare",
          "1<br>hillary\namerican\namericans\ntrade\namerica\ncountry\ncountries\nclinton\nclintons\ntaxes\ntax\njobs\neconomic\ndeal\ndeals end\nschools\nschool\nforeign\ndrugs\ndrug\nreagan\nborders\nborder\nlike\nstart\nstarting\nstarted\nregulations\nregulation\nold\nsave\nimmigration\nimmigrant\nmillions\nmillion\nnafta\nmeans\nmeaning\nincludes\nincluding\ngrowth\ngovernment\nallowing\nallows\nallowed\ncorruption\ncorrupt\npresident",
          "2<br>college\ncolleges\namericans\namerican\nstudents\nschools\nschool\nyear\nyears\nstudent loans\njobs\njob\nloan\nmillions\nmillion\ntaxes\ntax\nincludes\nincluding foreign\nnew\nadministration\nadministrators\nadministrative\nhillary\ntuition\nrepayment\nlike\nprogram\nprograms\ngreat\ndebt\ngovernment\ncost\ncosts\nprivate\ntimes\ntime\npolitical\nequity\neconomy\nyoung\nfalse\nfalsely",
          "3<br>applause\ngreat\npeople\nthank\nthanks\nmike\nreince\nworked\nwork\nunbelievable\nnation\nnational\nnations\ntremendous\ntremendously\nbrother\nbrothers\nrudy\nfantastic\nlooking\nlook\nbeautiful\nbrighter\ncommon\nreligions\nsecretariat",
          "4<br>israel\niran\nterror\nterrorism\npalestinians\nstate\nstates\npalestinian terrorist\ndeal\ndeals\ntotally\ntotal\nbelieve\nminister\npresident\npeople\namerican\namericans\noffering\noffer\nknow\nknowing\nthank\nproblem\ngreat\nyears\nyear\njewish\ntime\ntimes\nlike\nmilitary nuclear\ncapability\nweapons\nterrorists\nsingle\nanti\nmaybe\nkerry\nally\napplies\napplying",
          "5<br>drugs\ndrug\nhillary\nclinton\nclintons\namerican\namericans\nlike\njobs\ntrade\ntreatment\ntreatments\ntaxes\ntax\ncountry\ncountries\nopioid\namerica\ndeal\nmike\naddicted\naddiction\naddictive\ncriminals\ncriminal\nstarted\nstart\nstarting\nprescribe opioids\ncorruption\ncorrupt\ndeals reduce\ncome\njustice\njustices\nrecovery\nimmigration\nimmigrant\nimmigrants\nmedia\nheroin\nprescribers\nprescribing\nprescribed\nbring\nbringing\nuse\nregulations\nregulation\ntimes\ntime\nexpanding\nexpand\ngovernment\ngovernments\ntraffickers\nnafta\ncrime\ncrimes\nend",
          "6<br>clinton\nclintons\namericans\namerican\nemails\nemailed\ngovernments\ngovernment\ngovernance\namerica\nhillary\nforeign\ntaxpayer\npeople\nlike\nmills\nnews\nnew\nhaiti\nenforcement secret\nspecial\nstreet\nsanders",
          "7<br>applause\nhillary\ngreat state\nstates\nbooing\npeople\namerican\namericans\nright\njobs\njob killing\nobamacare\ntaxes\ntax\nclinton\namerica\nthank\nthanking\nair\ntaxed nation\ncorrupt\ncorruption\nwars\nwar\nleave\nleaving\nillegal\nsafe\ncriminal\ngood\nprobably\nlet\nbig\ncommunity\ncommunities\ncountry\ncountries\njohnny\ndemocratic\ndemocrats\nlife\ntrade\nforeign\nimmigration\nimmigrant\ncities\nnew\ncare\nbegin\nbeginning\nbegins\narmed\nhistory\nplaces\nplace",
          "8<br>applause\nimmigrant\nimmigration\nimmigrants\nnew\nrefugee\nisis attack\npresident\nclinton\nclintons\namericans\namerican\namericanism\nrecruits refugees\nstates\nstate\npeople\nterrorism\nterror\nattacked\nattacks\nattackers\ncommon\nforeign\nnation\nnations\nmilitary recruiting\nthings\nthing\nwar\nislamic\nislam\nabsolute\nabsolutely\nterrorist\nsupport\nsupported\nscreening\nscreen\nlikely\nlike\nliked\nmass\nvisas\nvisa\nworld radical\nincluding\nincludes\ninclude\nofficers\noffice\noffices\ngreat\ntotal\ntotally\nmoral\nwarning\nwarned\nwarn\nintelligence\nwounded\nwounding\nyear terrorists\nkilled\nkilling\nkillings\nunbelievable\ndeath\nold\nsanctions\nrights\nright\nmuslim\ninternational\nradicalization\nobama\nforced\nforces\nforceful\nlarge\nsaid\nmistakes\nmistake\nway\ngirls\nallies\nally\nthank\nnecessary\nequally\ndecisions\ndecision\ndecisive\nbombing\nbomb\nyears\nideology\nideological\npower\npowers\nfar\ntoday\niran\nfrance\nchristians driven\ncountries\ncountry\ncommunism\ncommunity\ncommunication\ntook\nimmediate\nimmediately\nchristian\namerica\ndays",
          "9<br>american\namericans\nnew\ndollar\ndollars\ntax\ntaxes\ngovernment\nwomen\npeople\nschool\nschools\ngreat\ncitizens\ncitizen\nlike\nlikes\neducation\ncoming\ncome\njob\njobs\nhillary\nstarts\nstart\nstarting\nstarted\nfamily\nfamilies\namerica\nenergy\ntrade\ntrading\nyear\nyears\nlive\nlives\nliving\nfund\nstate\nstates\nfederal\npublic\ncommunities\ncommunity\nrevolution\nbest\nsecure\nsecurity\nclinton\nclintons\ndrug\ndrugs\nhome\nhomes\nstudent\nstudents\nprosperity\nprosperous\nincomes\ncities\ncity\nsaying",
          "10<br>school\nschools\namericanism\namerican\neducation\nfailing\namericans living\nstudents\nstudent\nnew\nfailed policies\nforeign\ncountry\ncountries\ngovernment\nbillions\nbillion\nspend\nspends\nspending\nstate\nstates\ntrade\ntrading\nnation\nnational\npolicy\nfederal\nlong\nlive\nlives\ndollars\ndollar\npublic\ngreat\nprivate\ncity\ncities\nmillion\nbaltimore\njob\njobs\nemails\nemail\nemailing\nclassified\nhillary\ncommunity\ncommunities\nproduced millions\npeople\nproduces\nproduce\nchoice\nchildren\nopportunity\nopportunities\nnationwide\npay\npays\nteachers\nteacher\nradical\ncoming\ncomes",
          "11<br>cheers\ngreat\napplause\npeople\nlaughter\nright\nrights\namerican\namericans\nschool\nschools\njobs\njob\nbig\ntime\ntimes\nphyllis\nmassive\nlike\nlikes\nliking\neducation\ngovernment\nremember\ndifferent\ndifference\ndifferently\nhillary\nisis\nsaid\nways\nway\nthings\nthing\ngenerations\ngeneral\ngenerals\ntremendous\njudges\njudge\nchristians\nchristian\nchristianity\nbetter\npower\npowerful\nstates\nstate\nfamily\nfamilies\nreligious\nbelieve\nprobably\nnuclear\nemails\nwarfare\ntoday\nlove\nloved\nclinton\npercent\ngod\naccount\naccounts\npoverty\namerica\nturn\nturned\nturns\nmillions\nmillion\nchoice\nissues\nissue\namendment\ngot\nmatt\nfaith\nfailing\nfailed\nfail\nknow\nknows",
          "12<br>american\namericans\nclinton\nclintons\nhillary\nmilitary\nforeign\npeople\ngreat\njobs\njob\nsecurity\nsecure\ngod\ninclude\nincluded\nincludes\nincluding\ndifferences\ndifferent\nlaw\ntrade\namerica\nright\nrights\ncalled\nsmallest\nfbi\nactive\nactivity\nschools\nschool\nprogram\nprograms\nfailed\nfails\nfailing\nwars\nwar\nsupported\nsupport\nsupporting\nsafe\nconfidential new\nwords\nword\ntoday\nyears\nyear\ncountry\ncountries\nrepublican\ndestroy phones\ndestroyed\ncreated\ncreating\ncreate",
          "13<br>american\namericanism\namericans\namerica\nnew\nveterans\nveteran\nwork\nworking\nincluding\nincludes\nrespect\ngreat\ncommander\ncommanders\ncare\nstate\nstates\njob\njobs\nwant\nwants\nillegal\ngovernment\nmeans\nscreening\nreform\nreforming\ntoday\ndrugs\nemail\nfederal",
          "14<br>energy\namericans\namerican\ntax\ntaxes\nnew\njobs\njob\neconomic\nincluding\nincludes\ninclude\nplan\nplans\nnatural\ncoal\ncountry\ncountries\nrestrictions\nrestriction\nrestrict\nprojects\nfederal\nfederally\npolicing\npolice\nshale\nshales\nproduction\ngas\namerica\nsafe\nsafely\nstate\nstates\ngrowth\nobama\naction\nactions\nviolent\nclinton\nsafety\noil\nclean\nvirginia\nagenda\nagendas\nbusiness\nbusinesses\npercent\ncrime\ncity\ncities\ntrillion\ntrillions\nincrease\ninfrastructure\noffshoring\noffshore\nproduce\nproduced",
          "15<br>americans\namerican\nnew\ntrade\npeople\njobs\nhillary\njob regulations\ncity\ncities\nwater\ncomes\ncome\ncoming\nsingle\nfree\npolitical\nstates\nstate\nclinton\nproduction\nproducts inside\ninsiders\nfailure\nfailures\ntaking\nregulation\nmassive\nbillion\nbring\nbringing\nstart\nstarted\nmillions\nmillion\nchina\nruling\nquality",
          "16<br>families\nwork\nworking\ntax\ntaxes\nchildcare\nchild care\nparent\nparents\nincome\nfamily outlined\nfunds\nfund\nincluding\nincludes\npolicy\npolicies\nproviding\nprovide\nprovided\ncountry\nplans\nplan\nbetter\ncongresswoman\nsavings\nsave\ntoday\naccount\naccounts\nlower\namerican\namericans\noutlining\noutline\nsolutions\nsolution\npaid\nregulatory\ndollar\ndollars\nfederal\ncredit",
          "17<br>american\namericans\nhillary\nclinton\ntrade\nright\njobs\nnew\nschool\nschools\njob regulations\ngreat\nmillions\nmillion\nincluding\nincludes\ncome\nimmediately\ngovernment\npresident\npresidential\nregulation\nprosperity\nprosperous\nchildren\nbetter\namerica\nlawful\nlaw\npolicy\ncountry\nwant\ntax\nlife\nphones\nsaid\nlove",
          "18<br>defensive\ndefenses\nnew\nmilitary\namerican\namericans\nstate\nstates\ndefense spending\nnational\nnations\nnation\ngovernment\nwars\nwar\npolicy\npolicies\namerica\ncyber\nmissile\ncombat\nadditional\naddition\nclinton\nbillion\nyears\nyear\ncurrent\ncurrently\nships\nship\nincluding\nlaw\nlaws\nobama\nbudget\niran\nbased\nbase\nhillary\ntechnology\ntechnologies\ntechnological\nisis\nsecurity\nenergy\noffice\nwarfare\nrebuild\nrebuilding\nadversaries\ngenerals active\ntook\nspend\ngeneration\ngenerous\npromoting\npromote\ntrillion\ncrucial\nserver",
          "19<br>american\namericans\nclinton\nclintons\ncrime\ncrimes\nhillary\nmassive\ngovernment\nnew\njobs\njob\nemail\nemails\nsafe community\ncountry\ncorrupt\npeople\ncorruption relates\ntime\nchildren\ncommunities\npresident\nmillions\nmillion\ncriminal\nlaw\nlaws\nconcerning\nfuture\nscandal\nscandalous\ndays\nday\nlie\npoverty\nappoint\nappointing\nimmigrants\nimmigration\nbig\nofficers\noffice\noffices\nofficer\nreceived classified\ncompletely\ndepartment",
          "20<br>american\namericans\njobs\njob\nhillary\ntrade\ntrading\nclinton\ntimes\ntime\nlaw\nlaws\nfuture\ncitizens\ncitizen\nlive\nliving\nlives\nopportunity\nopportunities\ncountry\ncountries\nmedia\nnation\nnational\nnations\ngovernment\nspeaking\nspeak\npersonal\nnafta\nmilitary\nschools\nschool\npeople\nlike\nequal\nequally\nterrorism\nterrorizing\ndemocrats\ndemocratic\namerica\npresident\npresidency\nnew\nimmigrants\nimmigration\nimmigrant\ninstead\ninnocent\nparents\nparent\nthing\nthings\ngood\nemail\nemails\nfighting\nfight\nchange\nmillions\nmillion\ntotally\nmichelle",
          "21<br>applause tell\npeople\npeoples\nlike\nlikes\nclinton\nclintons\nright\ngreat\namerican\namericans\nhillary\nsaid\nbig\ntotally\ntotal\nbooing\nfolks\ndeals\ndeal\ndealing\nwant\nwants\nthing\nthings\ntime\ntimes\nlook\nstate\nstates\nknow\nknows\nnew\ndebates\ndebate\ncountry\ncountries\namerica\ncriminal\nsomebody\ngood news\nremember\nwon\npercent\njobs\njob\ntrade\neverybody\nlittle\nthink\nthinks\ntoday\nborders\nborder\ntaxes\ntax\ncalled\ncalling\ncalls\nlooking young guy hey\nwork\nworking\nworked\nworks\ninformation\ntrump\ncomes\ncome\ncoming\ngovernment\ngovernments\nobama\nbeautiful\ngreatest\nrepublican\nrepublicans\ncommon\nbetter\nlet\nopen\nplace\nsecurity\nsecure\nnumber\nnumbers\nnumbered\ncorrupt\ncorruption\nclean\nbelieve\nbelieves\nbeliever\ngoing\ngot\ntelling\ntells\npolitical\npolitics\nyears\nyear\ngetting\ngets\nimmigration\nimmigrant\nflorida",
          "22<br>great\nnew\nthank\nrights\nright\npeople\neconomic\neconomics\neconomically\namerica\nschool\nschools\namerican\namazing\nlike\nchristian\nben\ngod\ngoing",
          "23<br>new\nnews\namerican\namericans\nclinton\njobs\njob\nhillary\ntrade deals\nforeign\ngovernment\ngovernments\nreforms\ninsider\ninsiders\nenergy\ntelecom\ninterests\npay\npaying\nmillions\nmillion\nericsson\nbacked\ngetting\ndeal\neconomic\nplan\nplans\nadministration\ncountries\ncountry\nchange\nimmigration\nohio\ncompanies\ncompany",
          "24<br>people\nimmigrated\nimmigration\nimmigrants\nimmigrant\namericans\namerican\nradical\nradicalization\nradicalism\nradicalized\namerica\nsupport\nsupports\nsupported\nsupportive\ncommunity\ncommunism\ncommunities\nterrorist\nterrorists\nislamic\nislam\nlaws\ngay\ngays\npresident\nclinton\nstated\nstates\nstate\nsecurity\nhillary\ncountry\ncountries\nbetter\nlarge\nnato\nterrorism\nterror\nlaw admit\ninside\noverseas\nisis\nplan\nplans\nplanning\nissues\nissue\nissued\nnew\nparents\nparent\nnation\nnational\nincreased\nincrease\nnumbers\nnumber\npolicy\npolicies\npolitically\npolitical\nwomen\nmuslims\nmuslim\nadmitted\nadmits\nadmitting\nguns\ngun",
          "25<br>american\namericans\namerica\nhillary\nenforcement\nenforce\nnew\nimmigration\nimmigrate\nimmigrants\nclinton\ndeals\ndeal\ntrade\nofficers\noffice\nvote\nvoting\nvotes\nthings\nthing\nobamacare\nyears\nyear\ncountry\ncountries\nsupported\nsupports\nsupport\nsupporter\nlike\ntaxes\ntax\nvisas\nvisa\nchina\nstate\nstates\nnation\nnationals\nlatino\nlatinos\nschools\nschool\namnesty\njobs\njob\ncriminal\ncriminals\nshooter\nmillions\nmillion\nmassive\nmassively\nbusinesses\nbusiness\npresident\nthousands\ncompanies\nillegal",
          "26<br>americans\namerican\nhillary\nclinton\npeople\nattacks\nattack\nmembers\ncitizens safe\nsecurity\nsecured\nlife work\ninsiders attacking\ngovernment\nworking\ncampaign\nstates\nstate\nlaw\nlaws\nfund\nfunding\ncity\ncities\nnew\nisis\ninsider\nplanned\nplan\nfailing\nfailed\nschools\nschool\namerica\nsexist\ncrime\ndifferent",
          "27<br>hillary\nclinton\nclintons\nnew\namerican\namericans\npeople\namerica\npresided\npresident\npushing\npush\nmassive\nfailed\nchange\ntax\ntaxes\nlet\nendless\nwages\nwage\ntrade\nfriend\nfriends\nwords\namazing\nreal\nworkers\npersonal\nperson\ncome\ncoming\ncomes\ndollars\ndollar\nsingle\nmissile\ndefense\njobs\npolitical failure\nchina\ngetting\ngets\nnation\nnational\ncountry\ncountries\nlike\nfailures\ncore\ndefend\nputin\ninsiders\nnuclear\neconomic",
          "28<br>american\namericans\ncountry\ncountries\ncriminal\nimmigration\nimmigrant\nimmigrants\nborder\nborders\nvisa\nvisas\npeople\njustice\nforced\nforce\nforceful\nday\ndays\nnational\nnation\ncitizens\nfederal\nhillary\nopen\nreleased\nreleases\nperiod\namnesty\narrive\ncrimes\ncrime",
          "29<br>donald\nquestions\nquestion\ninaudible\npeople\ngreat\nsaid\nthing\nthings\nlike\nlikes\nyes\ncountry\ncountries\ntrump\npresident\npresidency\npresidents\ngets\ngetting\ntime\ntimes\nago\nclinton\nbig\nguy\nguys\njohn\nnews\nnew\nhillary\ndifferent\ndifference\nknow\nknows\njob\njobs\nputin\ntotally\ntotal\nrussia\ncase\ncases\nlook\nlooks\nlooked\nlooking\nprobably\ngood\nnumbers\nnumber\ntrade\ngoing\ntremendous\nbiggest\nchina\nright\nrights\nstarted\nstart\nnato\nsomebody\ngeneral\ncampaign\ncampaigns\nmassive\ndevelopers\ndevelopments\ndeveloper\ndevelop\nmaybe\nobama\ntalk\ntalking\ntalked\ngovernment\nahead\nnight\ntelevision\npage\npages\nlied\nlies\nlet\nletting\nrepublican\nmike",
          "30<br>american\namericans\nnew\nnews\nhillary\nclinton\nclintons\npeople\namerica\njobs\njob\ncountry\ncountries\nbig\ncome\nstreet\nstreets\npolitical\ngreat\nregulations\nregulation\nyear\nyears\nnation\nnational\nnationalities\ngetting\ncitizens\nunleashed\nunleash\nofficers\noffice\nschool\nschools\ndeals\nmedia\nsave\nfailed\nvote\nvoting\nhomicide\naccess\nmillions\nmillion\nstate\nstates\nislamic",
          "31<br>american\namericans\nclinton\nclintons\nnew government\nhillary\nstarts\nstart\nstarting\nstarted\npolicy\npolicies\nstreet\nstreets\npeople\ngetting\ntrade\nbig\ninterests\ntrump\nsupport\nsupports\ncoming\ncome\nregulation\nregulations\nincluding\nincludes\nschools\nschool\ndeals\nsingle\ncities\ncity\namerica\nlike\nfinancial\nrecent\nrecently\ncountry\ncountries\nclass\njobs\njob\nsave\nfighting\nfight\naccess",
          "32<br>american\namericans\nnew\ntaxes\nenergy\nmassive tax\nincludes\nincluding\nincluded\ndollars\ndollar\ngreat\namerica\nwomen\nclinton\nclintons\noffice\noffices\nschool\nschools\nbig\nstate\nstates\nstarts\nstart\nstarting\nstarted\ntoday\npeople\ntrade\nsavings\nsave\nfederal\nforgotten\nunleash\nunleashed\nnation\nnational\ncoming\ncome\nincome\nreduce\nspecial\njobs\njob\nhillary\nfunds\nfund\ndrug\ndrugs\nquality\nhealth\ngrant",
          "33<br>american\namericans\nmillions\nmillion\namerica\nstate\nstates\nclintons\nclinton policies\njobs\njob\npolicy\nhillary\ncountry\npoliticians\nfuture\nlaw\nliving\nlive\nlives\ncivil\ncitizen\ncitizens\nchildren\nprovided\nprovide\nproviding\ncrime\nworld\ntrump\nlooks\nlook\ninsiders\nschools\nschool\nviolence\nyears\nyear\nbest\nfreedom\nnafta\neffective",
          "34<br>american\namericans\ntaxes\ntax\njobs\njob\nnew\ngreat\nlaw\nlaws\namerica\nschool\nschools\ncities\ncity\nincludes\nincluding\nclintons\nclinton\nafrican middle\ncommunities\ncommunity\nchange\nfailed\nfailing\ntrade\nnearly\neducation\ngreatest\nmassive\ncompany\ncompanies\nhillary\nsavings\nsaved\nsave\nequally\nglass\nproposing\npropose\nproposal\nfinancial reforms\npeople\nreform\nopponent\nopponents\nworkers\ndetroit\ninfrastructure\nbusiness\nbusinesses\nnation\nnational\nnations\nwages\nasking",
          "35<br>americans\namericanism\nnew\ntrade\ntaxes\ntaxing\ntax\njobs\njob\namerican economic\ngrowth\nregulations\nregulating\nregulation\nplan\nplans\nmillion\nmillions\nenergy\ngreat\namerica\nclinton\nincomes\nincome\npeople\ninfrastructure\npolicy\npolicies\nfederal\nincluding\nincludes\ndollar\ndollars\nproduction\nproduct\nproductive\nwealth\nyears\nyear\ncome\ncomes\ncoming\nsavings\nsave\nsaved\ncalls\ncompletely\ncomplete\nnation\nnational\nrate\nrates\nworking\nwork\nworked\nbusiness\nreforms\nreform\nreduce\nreduces\nreduced\nsingle\ncare\neconomy\ncost\ncosts\nproperty\nclass\npower\nbenefit\nearned\nearning\nentitlements",
          "36<br>american\namericans\njobs\nnew\ncrime job\ntrade\nschools\nschool\nrefugee\nrefugees\ntax\ntaxes\ncomes\ncome\ncoming\nsafe\npeople\nregulations\nregulation\ngovernment\nmillions\nmillion\ngreat\nfamilies\nfamily\nhelp\nhelping\nfree children\nstate\nstates\niowa\npoverty\ncongress\nnation\nnational\nhillary\ndemocrat\ndemocratic\nclinton\npolicy\npolicies\nincomes\nprovide\nproviding\nlowers\nlower\nsingle\nbenefits\nway\nopponent",
          "37<br>applause\namerican\namericans\nbooing\npeople\njobs\njob\nclinton\ndeal\nmedia\nthank\nisis\nstate\nstates\nhillary\ntotally\ntotal\ntrade deals\npolicies\npolicy\nright\nfolks\namerica\nworld\nhappening\nhappen\nhappened\nlike\nhorrible\nhorribly\nenergy\ncontrol\ncontrols\nsaw\ndemocratic\ndemocrats\ncitizens\ncitizen\ncountry\ncountries\nnew\npolling\npolls\nrefugee\nrefugees\nforeign\nnation\nnationals\nnational\nlarge\nlargely\ndisastrous\nglobalism\nglobal\nday\ndays\nplay\nplaying\nbig donors\nmississippi\nfuture\ntaxes\nbad\npolitical\npolitically\ntime\ntimes\nwages\nvote\nvoted\nvoting\nvotes",
          "38<br>applause\npeople\nright\nrights\ngreat\nterrorism\nterror\nhillary\nlike\nlikes\nliked\nsaid\ntime\ntimes\nthink\nthinking\nbig\nisis\neverybody\nfolks\nknow\nknows\nknowing\ncountry\ncountries\ndifferent\ndifferences\ntotal\ntotally\nwant\nwanted\nwants\nsenate\nsenator\nobama\ncome\ncoming\ncomes\nstate\nstates\ntrump\npercent\nclinton\nclintons\nraising\nraise\npay\npaying\nnew\nnews\nstarted\nstart\nstarting\nguy\nguys\ndonald\ngood\nmilitary\nlook\nlooking\nraised tremendous\ngreatest\nreal\ntough\ndeal\ndeals\nday\ndays\nprobably\nprimaries\nprimary\nrefugees\nrefugee\nbillion\nbillions\ntax\ntaxes\nlong\nworked\nworks\nworking\nwork\nworkings\npolitics\npolitical\nlargely\nlarge\nremember\ntoday\nputin\noil\nsaying\nsays\nplace\nplaces\nmillion\nmillions\nlove\nloving\nreagan\ntrade\njapan\nwall\nwalls\neconomic\neconomically",
          "39<br>applause\ngreat\namerican\namericans\npeople\npremium\ncare\njob\njobs\ninsurance\ninsurers\nhealth\nobamacare\nbelieved\nbelieve\nbelieving\npennsylvania premiums\nclinton\ntotally\nworkers\nincredible\nbringing\nbring\ntax\ntaxes\nprice\nprices\nwork\nworking\nstate\nstates\npolitical\npolitics\nthank\nthanks\nschool\nschools\nlike\nfamilies\nfamily\nplan\ncongress\nmaster\ndeal\nprivate\ndoctor\ndoctors",
          "40<br>applause\npeople\nright\ngreat\ntaxes\ntax\ngood\nhillary\nlike\nliked\nknow\nknows\nsaid\nobama\ngot\nfolks\nbig\nlook\nlooks\nlooked\nlooking\nbad\ngonna\nbusinesses\nbusiness\nwant\nwanted\nwanting\nwants\npercent\nnew\nworking\nwork\nworked\nthank\namericans\namerican\ncountry\ncountries\njustices\njustice\nhappens\nhappen\nhappening\nhappened\nnumber\nnumbers\nway\nthings\nthing\nmillion\nmillions\nreal\ngeneral\ngun\nguns\nguy\nguys\ntime\ntimes\nfrance\namerica\nbeautiful\nlittle\neconomic\njob\njobs\ndifferent\nproblem\nproblems\ngoing\nair\nclinton\nago\nnational\nprobably\ncoming\ncome\ncomes\nstate\nstates",
          "41<br>hillary\namerican\namericans\nclintons\njobs\njob\namerica\nclinton wants\nnew\ndeal\nmichigan\ndemocrats\ndemocratic\ndemocrat\ntrade\nrefugees\nrefugee\nincludes\nincluding\nwant\nchina\nschoen\nemails\nemail\ncriminal\nbelieve\nbelieving\nbelieves\nhouse\nlaid\nwashington\nrich\nstate\nstates\nchange\nschools\nschool\nradicalism\nradical\nfailing\nfailed\ngreat\nnafta\npolitical\nwar\nwars\ntax\ntaxes\npremium\ncrime\nillegal\nsupporters\nsupport\nsupported",
          "42<br>american\namericans\namerica\nclinton\nclintons\nincludes\nincluding\nnew\ntax\njobs\njob\ngovernment\nhillary\ncountry\ncountries\ntrade\nvote\nflorida\nair\nlike\nhouse voting\nplan\nemails\nemail\nmeans\nmeaning\ncoast\nstart\nstarted\nstarting\ndeal\ndeals\nimmigration\nimmigrant\nimmigrants\nnational\nnation\nrepublicans\nrepublican\nend\nends\nending\nforeign\nthing\nthings\nreagan\nenforcement\nson\nhoover\ndepleted\nfather",
          "43<br>people\napplause\nindiana\ntaxes\ntaxed\ntax\ngreat\njobs\njob\nsaid\nleader\nleaders\ngovernor\nmike\ntremendous\npresident\npence\ngot\nclinton\nnew\nthings\nthing\nexecutive\nbig\nincredible\naway\ntotally\ngeneral\nbobby\nobama\nparty\neverybody\ntrump\nmillion\nmillions\npolicy\nfund\nfunding\nschool\nschools\nlike\nlikes\nhillary\ntrade\nhorrible",
          "44<br>hillary\nclinton\nclintons\njobs\njob\nimmigrants\nimmigration\nimmigrant\namericans\namerican\namericanism\nchina\nnew\nisis\namerica\nmillion\nmillions\ndepartment\npolicy\npolicies\ndeals\ndeal\ndealings\ntrade\ngreat\nforeign governments\nstarted\nstart\ncampaign\nsecurity\nradical\ncountry\ncountries\npeople\nmiddle\nregimes\nregime\nmassive\nmendoza\nsecret\nsecrets\nambassador\nnote\nnotes\nwashington\nhanding\nhanded\nhand\nhands\ncome\ncoming\nbusiness\nbusinesses\nmaking\ncompanies\ncompany\nworkers\nworker\nsupported\nsupporters\nsupport\nsupporting\nsupports\nsupporter\npresident\npresidency\nbig\nwomen\ndeath\nrules\nruled\nworld\nstate\nstates\nlarge\nsanctions\ngovernment\ngoverned\nmanufacturing\nmanufactur\nincludes\nincluding\nanti",
          "45<br>immigration\nimmigrants\nimmigrant\namerican\namericans\npeople\ngreat\nillegal\nillegally\nnew\nnews\ncountry\ncountries\ncriminal\ncriminals\nincluding\ninclude\nborder\nborders\nfederal\nlike\nlikely\nvisa\nvisas\nlaws\nlaw\nlawful\nstate\nstates\nnumber\nnumbers\nclinton includes incredible\noffice\noffices\nofficers\nsecurity\nsecure\ndeported\ndeportation\ndeportable\ndeportations\ndeport\namnesty\namnesties\nenforce\nenforced\nenforcement\nworkers\nworker\nright\nfolks\nhillary\ntalk\ntalks\ntalking\nincredibly\nlegal\nlegally\nlegalized\nwork\nworking\nworked\nworks\nissues\nissue\nissuing\nvets\nvetting\nvetted\nlet\nindividuals\nindividually\npowerful\npower\npowers\nmedia\nadministration\nbelieve\nmillion\nmillions\ncrime\ncrimes\npolicy\npolicies\nyear old\ncrisis\nremoval\nremoved\nremove\nremoving\namerica\nproblem\nproblems\nlocal\nthank\nyears\nnation\nnational\nnations\ndeath\ndeaths\nhome\ntotally\ntotal\nglobe\nbegin\nbeginning\nobama\npresident\nhouse\nhousing\ntimes\ntime\ncomes\ncome\ncoming\nforce\nforced\nspecial\ndirectly\nprogram\nprograms\ninterests\ninteresting\nwant\nwanted\nwanting\nfacing\nface\ntremendous\ntremendously\nsupport\neverybody",
          "46<br>americans\namerican\nnew\nnews\npeople\nhillary\njobs\njob\ntrade deals\ntax\ntaxes\nlike\nbig\namerica\nmillions\nmillion\nclinton\nclintons\nsafe\ncome\nenergy\nstreet\nstreets\nstate\nstates\ndeal\nyears\nyear\nmedia\ninterests\ngets\ngetting immunity\nclass\nislamic\nexecutive\nexecutives\npolitics\npolitical\nvoters\nvoter\nregulations\nregulation",
          "47<br>applause\njobs\njob\namericans\ngreat\ntrade\namerican future\nlike\nbooing\nstate\nstates\ntaxes\ntax\nhillary\nmichigan\ncountry\ncountries\nnews\nnew\ntotal\ntotally\namerica\nlook\nlooks\npolicy\nlost\npeople\ngovernments\ngood\ngoods\nfailing government\nmotor\nmotors announced\nfailed\nrights\nbig\nhappening right\nclinton policies\nscreening\nhappen\nhappened\ntremendous\ntrump\nstrong\ncommon\nrefugee\nrefugees\ntpp\nworker\nworkers\npoliticians\nmoney\naway\ntime\ntimes\ncar\ncars\nisis\nequally\ntoday",
          "48<br>americans\namericanism\ntrade\ntrading\namerica\namerican people\nimmigration\nnew\nnews\nillegal immigrants\ngreat\nimmigrant families\nillegally\nborder\nborders\ntonight\ntaxes\ntax\ngreatest\nwork\nworks\nworking\ndeal\ndeals\ncountry\ncountries\nlaw\nlaws\nlawful\nnearly\njobs\njob\nnation\nnational\nnations\npolicy\npolicies\njustice\njustices\neconomic\nclinton\nmassive\nviolence\nwant\nwants\nforeign\nfamily\nbelieve\nbelievable\nbelieving\nbelievers\nmillion\nmillions\noffice\nofficers\nsupporters\nsupport\nsupported\ncommunities\ncommunity\ncitizens\nsafe\nstate\nstates\nterrorism\nterror\npolitically\npolitical\npolitics\nworkers\nfacts\nfact\nmiddle\nworld\ndifference\ndifferent\nyear\nyears\ngoods\ngood\nprotecting\nprotection\nprotected\nprotect\nprotects\nfree\nrecent\nrecently\nmass\naway\ntotal\ntotally\ncities threaten\nthreatens\nthreatening\nsyria\ncontinue\ncontinued\ntoday\npresidency\npresident\nbad\nbrother\nobama\nfair\nmary\nsarah",
          "49<br>americans\namerican\nclinton\nclintons\nveterans\nveteran\ntime\ntimely\ncare\ninclude\nincluding\nincludes\nincluded\nhillary\ntimes described\nemails\nemployees\nemployee\nsafe\nservice\nrecent email\nreal\nlaw\nlaws\nlawful\nhealth\npublic services\ncities\nmillions\nmillion\ndescribes\nprivate\nrecently\npolice\npolicing\nfederal\npersonal\nperson\nincreasing\nincreased\nincrease\nneeded\nneed\nneeds\ndestroys\ncountry\nreforming\nreforms\nreform\nbad\nwaiting\nwait\nmental\nnote\nnotes\nofficers\ncorporations\ncorporate\namerica\namericas\nfacilities\nfacility\nhighest\nruling\nrules\nsave\nsaving\nsaved\ngiving\nlegislation\nlegislative",
          "50<br>policies\ntrade\namerica\namerican\namericans\nnew foreign policy\npresident\npresidency\nclinton\nislam\nislamic\nstates\nstate\nobama\nmilitary\nfriends\ncommon\ndefense\ncountry\ncountries\nfinancial\nwar\ntoday\nchina\ninterests\ninterested\nwestern\ngreat friend\ndeal\nnational\nnation\nnations\nsecurity\nimporting\nimportant\ninstead\nstruggles\nstruggle\nway\nways\nallies\nally\ngovernment\ntaking\ntakes\nmassive\noil\nbest\nchallengers\nchallenges\nchallenge\nrespect\nrespects\nrespected\nequipment\niran\nbuilding\nbuild\nradical\nclear\njobs\njob\nmissions\nmission\nfinally\nhistory",
          "51<br>applause\nclinton\njob\njobs\namericans\namerican\nisis\nright\npeople\ncountry\ncountries\nhillary\nclintons personal\ngreat\nobamacare\nwants\nwant\nobama\nstate\nstates\nthing\nthings\ntimes\ntime\nold\nbooing\nbrand new\ntotal\ntotally\nforced\nforce\ntaxes\ntax\nimmigration\nimmigrants\nimmigrant\ncorruption\ncorrupt\nwin\nwinning\nlike\nwow\nrefugees\nrefugee\ngood\nohio\nbuildings\nbuild\nbuilding\nperson\nnafta\nwikileaks\nwikileak\nimportant\nthink\ndonald\nago\nwars\nwar\ntrade\ngetting\nmassive\nmassively\nyears\nyear\ngod\nadults\nterm\nterms",
          "52<br>applause\npeople\nright\nbooing\ngreat\nlike\nbig\npolitics\nhillary\nnew\nnews\nclinton\nclintons\nwin\nwinning\njobs\nsaid\ncorrupt political\ngets\ngetting\ngood\ngoods\namerica\nnational\nnations\nnation\nstart\nstarted\nstarting\nstate\nstates\nfolks\ngreatest\njob deal\ntoday\ntrade\nplace\nplaces\nhorrible\ncorruption\ngeneral\ngenerations\ngenerals\nsafe\ncountry\ncountries\ntime\ntimes\namerican\namericans\nmassive\nnorth\nlook\nlooked\nthing\nthings\nthinking\nthink\ncarolina\npercent tax\ntaxes\nlaughter\ntrump\nmilitary\nyears\nyear\nwent\nobamacare\nobama\nreal\ndeals\ndealing\nenergy\nold\nmike\ncities",
          "53<br>trump\ngreat\npeople\napplause country\nchina\nright\nbig\ngood\nlike\nnew\nnews\nbillion\ncountries\ngot\nmilitary\nneed\nneeds\ntrillion\nmexico\nway\nmanufacturing\nmanufacturer\nmanufactured\nsaid\nwant\nwants\nwanted\nwall\nnumber\nthings\nthing\nairports\nairport\neverybody\nobamacare\nreal\nnice\nbuilds walls\nthousands\ndeal\ndeals\njobs\njob\nfully\nzero\nbuild\nbuilding\nbuildings\niraq\nold\ngonna\nperson\nsomebody\nbridges\nbridge\nfree\nbeat\nbeating\npresident\nstates\nstate\ncars\ncar\namerica\namericas",
          "54<br>hillary\nclinton\nclintons\ngovernment\ngovernments\namerica\ncountry\ncountries\ntrade\nimmigration\nimmigrants\namerican\namericans\nquote\nobama\ncitizens\ncitizen\nelection\nelections\nelected\ncome\ncomes\nvoting\nvote\nvotes\nofficials\nofficial\nforeign\nexecutive\nclassified\ncorruption\ncorrupt\nexpand\nexpanding\nenforcement\ncriminal\nmillion\nmillions\nsecurity\nsecure\nsaid\npresident\ndemocrats\ndemocratic\nkennedy\ncontrol\ncontrols\nend illegal\nstate\nstates\nsupporting\nsupport\nvoters\nvoter\nnon\nmeans\nmeaning\nborders\nborder",
          "55<br>american\namericans\namerica\nclinton\nlike\njobs\njob\nyears\nyear\ncountry\npeople\nhillary supporters\ntrade\nthings\nthing\nforeign countries\nfailed\nfailing\ndeals\ndeal\nold\ncriminal\ngovernment\ncitizens\ntaxes\ntax\nimmigration\nimmigrant\nimmigrants\noffice\nofficer\nofficers\nunleashing\nunleashed\nunleash\nschools\nschool\nnation\nnationals\nborder\nborders\ngreat\nnew\nend\npublic\nstudents\nshooter\nsupported\nsupporter\nsupport\nfactories\npresident\nopen\nfederal\nmassive\nmassively\nobama\nveterans\nveteran\nhomicide\nsarah\naffordable",
          "56<br>americans\namerican\namerica\njob\njobs\nclinton\nhillary\ntrade\ncountry\nlike\nforeign countries\nyears\nyear\ndeals\ndeal\nnew\nimmigration\nimmigrant\nimmigrants\ncriminal\nvote\nvoting\ntaxes\ntax\nfailed\nfailing\nthings\nthing\nstate\nstates\ncome\nnation\nnationals\nold\npeople\nmassive\nmassively\noffice\nofficer\nofficers\nborder\nborders\ngreat\nfactories\nsecure\nsecurity\nschools\nschool\nlatinos\nlatino\npresidential\ncitizens\ncitizen\nshooter\nisis\nobamacare\nopen\nfederal\nveterans\nveteran\nlost\nwages\nworld\nsarah\njustice\njustices\nhuge",
          "57<br>american\namericans\ntrade\njob\njobs\nelection\nelections\nelected\nmillion\nmillions\nlike\nhillary\namerica\nvoters\nvoter\ngovernment\ncountry\ncountries\nclinton\nnation\nnational\nyears\nyear\nborder\nborders\nstate\nstates\nimmigration\nimmigrant\nillegal immigrants\nofficials\nvoting\nvote\nquestion\nquestions\nquestionable\nrefugees\nrefugee\ntaxes\ntax\nbig\npeople\nforeign\ninterests\ncities\ncompanies\nohio\ncriminal\ncitizens\ncitizen",
          "58<br>american\namericans\ntrade\njob\njobs\ncountries\ncountry\ngovernment\nyears\nyear\nhillary\nforeign\nmillion\nmillions\namerica\nlike\nnation\nnational\nnearly\nold\nincluding\ninclude\nincludes\nincluded\nbureaucracy\nbureaucracies\ndeals end illegal\ndeal\nreforms\nreform\nofficials\ncompanies\nborder\nborders\nstate\nstates\nvoting\nvote\nraised\nraising\nnorth\nbig",
          "59<br>hillary\namerican\namericans\njobs\njob\ncorruption\ncorrupt\namerica\ncriminal\npeople\nlike\ngovernment\nobamacare\ncountry\ncountries\njustice\njustices\npremiums\npremium\nillegal\nnew\nfuture\nfutures\ntrade\ntaxes\ntax\nvoter\nvoters\nclinton\nclintons\nair\ndemocratic\nhighest\ndemocrats\ncancer\nregulation\nkris\noffice\nofficers\nofficer\nyear\nyears\nlosing\nlose\nfighter\nfighters\nstop\nstopped\nforeign\ndeported\ndeportation\ndeport\nnational\nnation\naffordable\ncrimes\ncrime\nlives\nlive\nliving\nwent",
          "60<br>american\namericans\nhillary\njobs\njob\nmichigan\nclinton\nschools\nschool\ndeal\nnew\nnews\ntrade deals\nstate\nstates\ncountry\ncountries\namerica\ninterests\ntpp\ncorrupt\ncorruption\ncomes\ncoming\ncome\nstreet\nlike\npolicies\npolicy\nimmunity\nclass\npolitical\npolitics\nwork\nworking\ndonors\ntax\ntaxes\nmillion\ngreat\npaid\ndetroit\njustice\njustices\nman\nlifting\nregulations\nregulation",
          "61<br>people\nclinton\nclintons\ngreat\ntimes\ntime\nmedia\npower\npowers\npowerful\nfalse\nattack\nattacks\nattacking\nglobalization\npolitics\nstories\nstory\ncontrol\ncorrupt political\nnew government controlled\ncorruption\ncorrupted\nglobal special\ninvolves\ninvolved\njobs\ncriminals\ncriminal\nsuccessful\ntowns\nlike\nlikes\nlikely\nworking\nworked\nwork\nyear\nyears\nmassive\nludicrous\nfinancial\nstate\nstates\nstated\ntrade\nlies\nlied\ndiscredited\nneed\nneeds",
          "62<br>hillary\ncorruption\ncorrupt\ngovernment\ngovernments\nlegal\npublic\nassociates\nvoters\nvoter\npolitical\ndeliberate\nconfidential\ngetting\nlied",
          "63<br>applause\namerican people\nnew\nnews\ngreat\nlike\nhillary\npercent\nbooing\njobs\njob\nobamacare\namericans\ntime\ntimes\nincluding\nincluded\nincludes\nstate\nstates\nclinton\nbig\ndeals\ndeal\ngeneral\nright\nyear\nyears\nsaid\nleaving\nleave\ngrowth\nnational\nnation\nwant\nwants\nwanted\nisis\nmoney\ncampaign\ncampaigning\ntrade\nwin\nwinning\ngot\npremiums\npremium\ncome\ncomes\ncoming\ncompanies\ncompany\ncountry\ncountries\ncorruption\ncorrupt\ndrugs\ndrug\ngood\ngreatly\nborders\nborder\njonathan\nsarah\ncare\ngonna\npersonal\nperson\nmean\nmeans\nknow\nknows\nhampshire\ntrump\nmillion\nlarge\nreal",
          "64<br>americans\namerican\nnew\nnews\nhillary\njobs\njob\nimmigration\nimmigrants\npeople\nwords\nword\nclinton\ntrade\nislamic\nislam\npolicy\npolicies\ncoming\ncome\noverseas\nmilitary\nwarfare\namerica\ncountry\ncountries\nisis\nmurder\nmurdering\ndeals\ndeal\ncity\ncities\nsupporters\nsupport\nsupported\ndestroy\ndestroying\ndefeated\ndefeat\nrefugees\nbillion\nenergy\nfailures\nfailure\nlarge",
          "65<br>american\namericans\njob\nbring jobs\nnew\nnews\npeople\npolicies\npolicy\ncity\ncities\ncommunity\ncommunities safe\ncountry\nsafely\npoliticians\nlaw\nlaws\nbad\nhillary\nhurt\nhurts\nhurting\nyears\nyear\npolice\npolicing\ncitizens\ncitizen\ncrime\ngood\nold politician\ntimes\ntime\nforeign\nrudy\nfuture\nmedia\nopportunities\nopportunity\ninnocent\ninsider\ninsiders\npolitical\nnearly\nequal\nequally\nstates\nstate\namerica\nsecurity\nsecure\nwashington\nemail\nterrorism\nterrorizing\nviolent\nfavor\nfavors",
          "66<br>tax\ntaxes\nhillary\namerica\njobs\njob\npeople\ngreat\nimmigrant\nimmigration\nimmigrants\ntime\ntimes\nmassive\nclinton\nclintons\nbusiness\nbusinesses\namerican\namericans\ngovernment\ntrade deals\nprivate\ndeal\nlike\nschools\nschool\nmilitary\ntoday\ndollar\ndollars\ncriminal\nbank\nbanks\nforeign\nlaws\nlaw\nlawful\nincluding\nsafe\ncolorado\ncompany\ncompanies\neconomic revitalization\nrevitalized\nrevitalize\nfail\nfailing\nfailed\ncorruption\ncorrupt\ncorrupted\nreal estate\nillegal\nnation\nnationals\nnational\nsupports\nsupporter\nsupport\ndrugs\ndrug\nthing\nthings\ntough\nshooter\nofficial\nofficials\nlives\nliving\nstarting\nstarted",
          "67<br>americans\namerican\npeople\nnew\ncome\ncomes\ncoming\nregulations\nregulation\ncountry\njobs\njob\nmillions\nmillion\nschool\nschools\nstates\nstate\nobama\ndeal\nmilitary\ntrade deals\nwant\ndisastrous\nplay\nnafta\nofficers\noffices\noffice\ncity\ncities\nrich\ndemocratic\nhispanic\nlaw\nlaws\npublic\nregime\nreform\nstreet",
          "68<br>american\namericans\ntaxes\ntax\ntaxed\njobs\njob\nnew\nclinton\npolicy\npolicies\nhillary\neconomic\nenergy\ntrade deals like\nbusiness\nbusinesses\nregulation\nregulations\nregulate\nregulated\nnearly\ndetroit\nincreases\nincrease\nincreased\nobama\npercent\nstates\nstate\nstarted\nstart\nkill\nkilled\nworkers\nworker\nmillions\nmillion\ntoday\nincome\nincomes\nlaborers\nlabor\namerica\nreform\nreforms\ngreat national\ncoming\ncome\ncomes\nexpense\nexpensive\nhelp\nhelped power\npowers\nbillion\nbillions\nnationally\nnation\nnations\nstreet\nproduction\nproducts\nproduct\nbig\nannual\nannually\nsave\nsaved\nsaving\nmichigan\ncompanies\ncompany\nadministration\ncity\ncities\npolitical\npolitics\npost\nrun\nrunning\nmotor\nbiggest\nday\ndays\ntpp\nyear\nyears\ndeal\nhome",
          "69<br>applause\nbooing\nright\namerican\namericans\nhillary\npeople\nclinton\nclintons\ngreat state\namerica\nnational\nnations\nnation\nstates\noffice\nofficers\nofficer\ngonna\nsaid\ntotal\ntotally\nsays foreign\ntime\ntimes\nlaw\nmeans\nmean\nmeaning\njobs\njob\nbad\njustice\njustices\nvote\nvotes\nworse\nobamacare\nnews\nnew\nflorida\nobama\ncubans\ncuban\nimmigrant\nimmigration\nimmigrants\nthing like\nthank\ntaxes\ntax\nsaying\ncountry\ncountries\nfolks\nmovement\nlittle\nschool\nschools\nwar\nwars\ngood\npremium\npremiums\nsupported\nsupport\nsupports\nlive\nliving\nlives\nillegal\ncommunities\ncommunity\ncommunication\nremember\nbelieve\nbelievable\nbelieving\nbelieves\nwin\nwinning\nthings\nplace\ncrooked\nborder\nborders\ndebate\ndebates\ncare\nhigh",
          "70<br>like\namerican\namericans\nnew\npennsylvania\namerica\ncountry\ncountries\nregulations\nregulation\nclinton\nnational\nnation\nborders\nborder\nold\njobs\njob\ntrillion\ntrillions\ntaxes\ntax\ntrade\ndepleted\nend illegal\nprivate\nillegally\ngovernment\nworld\nvote\nvoting\nnavy\nsafety\nhillary\nmeans\nmeaning\nphiladelphia\ntrump\nroads\nroad\nislamic\nenforcement",
          "71<br>applause\nright\npeople going\njobs\njob\ngreat\nfolks\nbig\ntrade\nlikes\nlike\nliked\ngood\ntaxes\ntax\ntaxed\nwin\nwins\nwinning\ncountries\nnew\nnews\ncountry look\nsaid\nlooked\nlooking\nguy\nguys\nhappening\nhappened\nhappen\nhappens\npercent\nstates\nstate\nstated\ncompanies\ncompany\nclinton\nthank\nthankful\nwoman\ngot\nbuilding\nbuild\nbuilds\nbuildings\nleft\nsnake\nhillary\nthings\nthing\npretty\nbad\ntalking\ntalk\ntalked\ndeal\ndeals\nplants\nplant\nmoney\nstrong\ndemocratic\ndemocrat\ndemocrats\nsteel\npresident\npresidency\nstory\nreal\nworking\nworked\nwork\nwant\nwants\ntime\ntiming\ntimes\nneed",
          "72<br>applause\npeople\njob\njobs\namerican\namericans\nhillary\ncountry\ncountries\nvoting\nvote\nstate\nstates\namerica great\nsaid\ntrade\ntrump\nnew\nnews\ngovernment corruption\nright\ncorrupt\nclinton\ntaxes big\ntime\ntimes\ntotal\ntotally\npercent\ncitizens\ncitizen\nimmigration\nimmigrants\nillegal\nillegally\ntax\nyears\nyear\nforeign\nrefugees\nrefugee\ncome\ncoming\nmedia\nlatino\nlatinos\neverybody\ndisaster\nsingle\nfolks\nclassified\nofficials\nserver\nincluded\nincluding\nincludes\nelection\nelect\nelected\nthing\nthings\ncolorado\nmilitary\nmillion\nmillions\nlike\ngiving\nstory\nstories\nair\ngood\ngoods\ncriminal",
          "73<br>cyber\nsecurity\nsecure\nnation\ngovernment\ngovernments\nstates\nstate\nbest\namerica national\nlaw\ntechnologies\ntechnology\nattacks\nattacked\nattack\nhacks\nhacked\nreview\nreviews\nmillion\njoint\nbackground\nfederal\nprotected\nprotection\nprotect\ncriminal\npublic\nbasis\nseeking"
         ],
         "type": "scatter",
         "x": [
          34.23779111869901,
          -69.69659466444989,
          -43.27580818561249,
          108.6191274879376,
          151.4034655652076,
          226.93172611567562,
          -7.46603133525577,
          -204.8726940291137,
          -255.40765607767867,
          -126.52554812817789,
          -79.73464355925339,
          78.84997893099595,
          -64.32765910629969,
          -96.08328609944564,
          -100.35779343289806,
          -87.29770690146752,
          2.8143077992910834,
          -104.40686004875823,
          35.50205335693798,
          -6.64423424883608,
          292.95073741334704,
          -26.080355336447578,
          60.04886509961586,
          52.379188450689334,
          -40.574403614761074,
          -41.47915682631137,
          14.436439097269082,
          -95.3855968240593,
          24.864002026374628,
          138.91686272109678,
          -66.52601260562129,
          57.29718743382997,
          197.78146568297024,
          -306.2550558473419,
          -63.907333923136505,
          -28.50577478851163,
          -5.741800292151155,
          105.7264026751019,
          79.47119312566628,
          -150.12039076854788,
          83.7855260153335,
          42.94610770668876,
          -74.2974579729659,
          94.40101405835013,
          -62.958412810251374,
          -30.14782089727698,
          24.89070386167292,
          48.65675308057535,
          21.19144185443969,
          32.392825803568705,
          0.026828726522493768,
          2.538287216006451,
          104.90572879216846,
          76.30576531257033,
          -129.7603629033913,
          -47.91108448057578,
          -30.56979568964648,
          -10.211391858882632,
          -22.57368275542628,
          -65.60205312122577,
          -41.02993019647244,
          277.7804601384695,
          118.2558920991549,
          88.35828146645561,
          -26.593757147321394,
          15.325035598475749,
          131.69030802796252,
          -148.89426625009588,
          -47.35965078479665,
          25.280314319508285,
          -111.81685051356409,
          100.89988595031913,
          -11.696383232279214,
          59.704709057648174
         ],
         "y": [
          59.39687731758685,
          -30.16234091449683,
          -46.619934493136626,
          -12.911473169425072,
          33.56252054459268,
          -521.1123950420249,
          31.944665047264255,
          -356.5124527920074,
          -54.79052727929712,
          38.66172729311684,
          -134.2771512976361,
          1.2361098048109738,
          89.31973349176327,
          -24.410871949454407,
          70.07170799430955,
          8.62442800495341,
          -1.1448058176717106,
          28.216937470403305,
          117.85129748042803,
          60.45796432287958,
          356.7719567149743,
          -125.07659726782506,
          -14.051016178177612,
          -109.56346621351173,
          124.8801461382322,
          68.89265991350707,
          87.31667791388914,
          -62.2089285108561,
          -91.79780695121363,
          -36.313643705841564,
          -61.49762822461577,
          85.90739098722624,
          -56.757928955518594,
          465.00462323288957,
          4.415871538376601,
          -21.414434013546522,
          113.56440703529651,
          -45.112409940353004,
          53.78825161406179,
          0.26664097945333465,
          -28.258923755078843,
          -42.32050176590207,
          35.803196040537216,
          -70.39506867142372,
          -90.24302869336996,
          -77.41756060768171,
          -22.27848008001836,
          39.19452542955529,
          -55.15298572512547,
          5.1726492585802255,
          -30.021113117335112,
          -72.03055865895034,
          42.93474320366964,
          26.691081569376614,
          -39.12292082765737,
          38.216711277774934,
          49.477297231773115,
          -98.45247718526814,
          4.66137581558791,
          59.95678925800018,
          16.749443397508408,
          96.80131401928156,
          82.4502019939999,
          144.18707206305453,
          91.81574251571527,
          -125.17021693865854,
          9.22062468020976,
          51.767765213651806,
          -15.516430944232367,
          29.39537667070702,
          -3.984868630822842,
          16.097742039028645,
          -53.31221011311894,
          -75.56729926828375
         ]
        }
       ],
       "layout": {}
      },
      "text/html": [
       "<div id=\"4f345319-05ee-4fc8-9508-48b857562dcf\" style=\"height: 525px; width: 100%;\" class=\"plotly-graph-div\"></div><script type=\"text/javascript\">require([\"plotly\"], function(Plotly) { window.PLOTLYENV=window.PLOTLYENV || {};window.PLOTLYENV.BASE_URL=\"https://plot.ly\";Plotly.newPlot(\"4f345319-05ee-4fc8-9508-48b857562dcf\", [{\"text\": [\"0<br>applause\\nact\\namericans\\namerican\\ntaxes\\ntax\\nfederal\\nnew\\nlike\\ncountry\\ncountries\\nmilitary\\ntime\\ntimes\\ngreat\\npeople\\njob\\njobs\\nmillion\\ntremendous\\ntrade\\ntrading\\nyears\\nyear\\nstates\\nstate\\nstated\\ngood\\npublic\\neducation\\ncare\\ncareful\\nnation\\nprivate\\nnational security\\nmassive\\nestablishment\\nestablishes\\nestablish\\ninfrastructure\\ntotally\\ntotal\\nincluded\\nincluding\\ninclude\\nplan\\nplace\\nplaced\\ncommunities\\ncommunity\\nfar\\nsavings\\nofficials\\ndepartment\\nend\\nends\\naction\\nactions\\ndifferent\\nnumber\\nnumbers\\nchange\\nvoter\\nvoters\\nchoice\\nrestore\\nrestoring\\nwall\\ngovernment\\nplaying\\nclinton\\ncriminal\\nlocal\\nhealth\\nwonder\\nwonderful\\ndeal\\ndeals\\nchildcare\", \"1<br>hillary\\namerican\\namericans\\ntrade\\namerica\\ncountry\\ncountries\\nclinton\\nclintons\\ntaxes\\ntax\\njobs\\neconomic\\ndeal\\ndeals end\\nschools\\nschool\\nforeign\\ndrugs\\ndrug\\nreagan\\nborders\\nborder\\nlike\\nstart\\nstarting\\nstarted\\nregulations\\nregulation\\nold\\nsave\\nimmigration\\nimmigrant\\nmillions\\nmillion\\nnafta\\nmeans\\nmeaning\\nincludes\\nincluding\\ngrowth\\ngovernment\\nallowing\\nallows\\nallowed\\ncorruption\\ncorrupt\\npresident\", \"2<br>college\\ncolleges\\namericans\\namerican\\nstudents\\nschools\\nschool\\nyear\\nyears\\nstudent loans\\njobs\\njob\\nloan\\nmillions\\nmillion\\ntaxes\\ntax\\nincludes\\nincluding foreign\\nnew\\nadministration\\nadministrators\\nadministrative\\nhillary\\ntuition\\nrepayment\\nlike\\nprogram\\nprograms\\ngreat\\ndebt\\ngovernment\\ncost\\ncosts\\nprivate\\ntimes\\ntime\\npolitical\\nequity\\neconomy\\nyoung\\nfalse\\nfalsely\", \"3<br>applause\\ngreat\\npeople\\nthank\\nthanks\\nmike\\nreince\\nworked\\nwork\\nunbelievable\\nnation\\nnational\\nnations\\ntremendous\\ntremendously\\nbrother\\nbrothers\\nrudy\\nfantastic\\nlooking\\nlook\\nbeautiful\\nbrighter\\ncommon\\nreligions\\nsecretariat\", \"4<br>israel\\niran\\nterror\\nterrorism\\npalestinians\\nstate\\nstates\\npalestinian terrorist\\ndeal\\ndeals\\ntotally\\ntotal\\nbelieve\\nminister\\npresident\\npeople\\namerican\\namericans\\noffering\\noffer\\nknow\\nknowing\\nthank\\nproblem\\ngreat\\nyears\\nyear\\njewish\\ntime\\ntimes\\nlike\\nmilitary nuclear\\ncapability\\nweapons\\nterrorists\\nsingle\\nanti\\nmaybe\\nkerry\\nally\\napplies\\napplying\", \"5<br>drugs\\ndrug\\nhillary\\nclinton\\nclintons\\namerican\\namericans\\nlike\\njobs\\ntrade\\ntreatment\\ntreatments\\ntaxes\\ntax\\ncountry\\ncountries\\nopioid\\namerica\\ndeal\\nmike\\naddicted\\naddiction\\naddictive\\ncriminals\\ncriminal\\nstarted\\nstart\\nstarting\\nprescribe opioids\\ncorruption\\ncorrupt\\ndeals reduce\\ncome\\njustice\\njustices\\nrecovery\\nimmigration\\nimmigrant\\nimmigrants\\nmedia\\nheroin\\nprescribers\\nprescribing\\nprescribed\\nbring\\nbringing\\nuse\\nregulations\\nregulation\\ntimes\\ntime\\nexpanding\\nexpand\\ngovernment\\ngovernments\\ntraffickers\\nnafta\\ncrime\\ncrimes\\nend\", \"6<br>clinton\\nclintons\\namericans\\namerican\\nemails\\nemailed\\ngovernments\\ngovernment\\ngovernance\\namerica\\nhillary\\nforeign\\ntaxpayer\\npeople\\nlike\\nmills\\nnews\\nnew\\nhaiti\\nenforcement secret\\nspecial\\nstreet\\nsanders\", \"7<br>applause\\nhillary\\ngreat state\\nstates\\nbooing\\npeople\\namerican\\namericans\\nright\\njobs\\njob killing\\nobamacare\\ntaxes\\ntax\\nclinton\\namerica\\nthank\\nthanking\\nair\\ntaxed nation\\ncorrupt\\ncorruption\\nwars\\nwar\\nleave\\nleaving\\nillegal\\nsafe\\ncriminal\\ngood\\nprobably\\nlet\\nbig\\ncommunity\\ncommunities\\ncountry\\ncountries\\njohnny\\ndemocratic\\ndemocrats\\nlife\\ntrade\\nforeign\\nimmigration\\nimmigrant\\ncities\\nnew\\ncare\\nbegin\\nbeginning\\nbegins\\narmed\\nhistory\\nplaces\\nplace\", \"8<br>applause\\nimmigrant\\nimmigration\\nimmigrants\\nnew\\nrefugee\\nisis attack\\npresident\\nclinton\\nclintons\\namericans\\namerican\\namericanism\\nrecruits refugees\\nstates\\nstate\\npeople\\nterrorism\\nterror\\nattacked\\nattacks\\nattackers\\ncommon\\nforeign\\nnation\\nnations\\nmilitary recruiting\\nthings\\nthing\\nwar\\nislamic\\nislam\\nabsolute\\nabsolutely\\nterrorist\\nsupport\\nsupported\\nscreening\\nscreen\\nlikely\\nlike\\nliked\\nmass\\nvisas\\nvisa\\nworld radical\\nincluding\\nincludes\\ninclude\\nofficers\\noffice\\noffices\\ngreat\\ntotal\\ntotally\\nmoral\\nwarning\\nwarned\\nwarn\\nintelligence\\nwounded\\nwounding\\nyear terrorists\\nkilled\\nkilling\\nkillings\\nunbelievable\\ndeath\\nold\\nsanctions\\nrights\\nright\\nmuslim\\ninternational\\nradicalization\\nobama\\nforced\\nforces\\nforceful\\nlarge\\nsaid\\nmistakes\\nmistake\\nway\\ngirls\\nallies\\nally\\nthank\\nnecessary\\nequally\\ndecisions\\ndecision\\ndecisive\\nbombing\\nbomb\\nyears\\nideology\\nideological\\npower\\npowers\\nfar\\ntoday\\niran\\nfrance\\nchristians driven\\ncountries\\ncountry\\ncommunism\\ncommunity\\ncommunication\\ntook\\nimmediate\\nimmediately\\nchristian\\namerica\\ndays\", \"9<br>american\\namericans\\nnew\\ndollar\\ndollars\\ntax\\ntaxes\\ngovernment\\nwomen\\npeople\\nschool\\nschools\\ngreat\\ncitizens\\ncitizen\\nlike\\nlikes\\neducation\\ncoming\\ncome\\njob\\njobs\\nhillary\\nstarts\\nstart\\nstarting\\nstarted\\nfamily\\nfamilies\\namerica\\nenergy\\ntrade\\ntrading\\nyear\\nyears\\nlive\\nlives\\nliving\\nfund\\nstate\\nstates\\nfederal\\npublic\\ncommunities\\ncommunity\\nrevolution\\nbest\\nsecure\\nsecurity\\nclinton\\nclintons\\ndrug\\ndrugs\\nhome\\nhomes\\nstudent\\nstudents\\nprosperity\\nprosperous\\nincomes\\ncities\\ncity\\nsaying\", \"10<br>school\\nschools\\namericanism\\namerican\\neducation\\nfailing\\namericans living\\nstudents\\nstudent\\nnew\\nfailed policies\\nforeign\\ncountry\\ncountries\\ngovernment\\nbillions\\nbillion\\nspend\\nspends\\nspending\\nstate\\nstates\\ntrade\\ntrading\\nnation\\nnational\\npolicy\\nfederal\\nlong\\nlive\\nlives\\ndollars\\ndollar\\npublic\\ngreat\\nprivate\\ncity\\ncities\\nmillion\\nbaltimore\\njob\\njobs\\nemails\\nemail\\nemailing\\nclassified\\nhillary\\ncommunity\\ncommunities\\nproduced millions\\npeople\\nproduces\\nproduce\\nchoice\\nchildren\\nopportunity\\nopportunities\\nnationwide\\npay\\npays\\nteachers\\nteacher\\nradical\\ncoming\\ncomes\", \"11<br>cheers\\ngreat\\napplause\\npeople\\nlaughter\\nright\\nrights\\namerican\\namericans\\nschool\\nschools\\njobs\\njob\\nbig\\ntime\\ntimes\\nphyllis\\nmassive\\nlike\\nlikes\\nliking\\neducation\\ngovernment\\nremember\\ndifferent\\ndifference\\ndifferently\\nhillary\\nisis\\nsaid\\nways\\nway\\nthings\\nthing\\ngenerations\\ngeneral\\ngenerals\\ntremendous\\njudges\\njudge\\nchristians\\nchristian\\nchristianity\\nbetter\\npower\\npowerful\\nstates\\nstate\\nfamily\\nfamilies\\nreligious\\nbelieve\\nprobably\\nnuclear\\nemails\\nwarfare\\ntoday\\nlove\\nloved\\nclinton\\npercent\\ngod\\naccount\\naccounts\\npoverty\\namerica\\nturn\\nturned\\nturns\\nmillions\\nmillion\\nchoice\\nissues\\nissue\\namendment\\ngot\\nmatt\\nfaith\\nfailing\\nfailed\\nfail\\nknow\\nknows\", \"12<br>american\\namericans\\nclinton\\nclintons\\nhillary\\nmilitary\\nforeign\\npeople\\ngreat\\njobs\\njob\\nsecurity\\nsecure\\ngod\\ninclude\\nincluded\\nincludes\\nincluding\\ndifferences\\ndifferent\\nlaw\\ntrade\\namerica\\nright\\nrights\\ncalled\\nsmallest\\nfbi\\nactive\\nactivity\\nschools\\nschool\\nprogram\\nprograms\\nfailed\\nfails\\nfailing\\nwars\\nwar\\nsupported\\nsupport\\nsupporting\\nsafe\\nconfidential new\\nwords\\nword\\ntoday\\nyears\\nyear\\ncountry\\ncountries\\nrepublican\\ndestroy phones\\ndestroyed\\ncreated\\ncreating\\ncreate\", \"13<br>american\\namericanism\\namericans\\namerica\\nnew\\nveterans\\nveteran\\nwork\\nworking\\nincluding\\nincludes\\nrespect\\ngreat\\ncommander\\ncommanders\\ncare\\nstate\\nstates\\njob\\njobs\\nwant\\nwants\\nillegal\\ngovernment\\nmeans\\nscreening\\nreform\\nreforming\\ntoday\\ndrugs\\nemail\\nfederal\", \"14<br>energy\\namericans\\namerican\\ntax\\ntaxes\\nnew\\njobs\\njob\\neconomic\\nincluding\\nincludes\\ninclude\\nplan\\nplans\\nnatural\\ncoal\\ncountry\\ncountries\\nrestrictions\\nrestriction\\nrestrict\\nprojects\\nfederal\\nfederally\\npolicing\\npolice\\nshale\\nshales\\nproduction\\ngas\\namerica\\nsafe\\nsafely\\nstate\\nstates\\ngrowth\\nobama\\naction\\nactions\\nviolent\\nclinton\\nsafety\\noil\\nclean\\nvirginia\\nagenda\\nagendas\\nbusiness\\nbusinesses\\npercent\\ncrime\\ncity\\ncities\\ntrillion\\ntrillions\\nincrease\\ninfrastructure\\noffshoring\\noffshore\\nproduce\\nproduced\", \"15<br>americans\\namerican\\nnew\\ntrade\\npeople\\njobs\\nhillary\\njob regulations\\ncity\\ncities\\nwater\\ncomes\\ncome\\ncoming\\nsingle\\nfree\\npolitical\\nstates\\nstate\\nclinton\\nproduction\\nproducts inside\\ninsiders\\nfailure\\nfailures\\ntaking\\nregulation\\nmassive\\nbillion\\nbring\\nbringing\\nstart\\nstarted\\nmillions\\nmillion\\nchina\\nruling\\nquality\", \"16<br>families\\nwork\\nworking\\ntax\\ntaxes\\nchildcare\\nchild care\\nparent\\nparents\\nincome\\nfamily outlined\\nfunds\\nfund\\nincluding\\nincludes\\npolicy\\npolicies\\nproviding\\nprovide\\nprovided\\ncountry\\nplans\\nplan\\nbetter\\ncongresswoman\\nsavings\\nsave\\ntoday\\naccount\\naccounts\\nlower\\namerican\\namericans\\noutlining\\noutline\\nsolutions\\nsolution\\npaid\\nregulatory\\ndollar\\ndollars\\nfederal\\ncredit\", \"17<br>american\\namericans\\nhillary\\nclinton\\ntrade\\nright\\njobs\\nnew\\nschool\\nschools\\njob regulations\\ngreat\\nmillions\\nmillion\\nincluding\\nincludes\\ncome\\nimmediately\\ngovernment\\npresident\\npresidential\\nregulation\\nprosperity\\nprosperous\\nchildren\\nbetter\\namerica\\nlawful\\nlaw\\npolicy\\ncountry\\nwant\\ntax\\nlife\\nphones\\nsaid\\nlove\", \"18<br>defensive\\ndefenses\\nnew\\nmilitary\\namerican\\namericans\\nstate\\nstates\\ndefense spending\\nnational\\nnations\\nnation\\ngovernment\\nwars\\nwar\\npolicy\\npolicies\\namerica\\ncyber\\nmissile\\ncombat\\nadditional\\naddition\\nclinton\\nbillion\\nyears\\nyear\\ncurrent\\ncurrently\\nships\\nship\\nincluding\\nlaw\\nlaws\\nobama\\nbudget\\niran\\nbased\\nbase\\nhillary\\ntechnology\\ntechnologies\\ntechnological\\nisis\\nsecurity\\nenergy\\noffice\\nwarfare\\nrebuild\\nrebuilding\\nadversaries\\ngenerals active\\ntook\\nspend\\ngeneration\\ngenerous\\npromoting\\npromote\\ntrillion\\ncrucial\\nserver\", \"19<br>american\\namericans\\nclinton\\nclintons\\ncrime\\ncrimes\\nhillary\\nmassive\\ngovernment\\nnew\\njobs\\njob\\nemail\\nemails\\nsafe community\\ncountry\\ncorrupt\\npeople\\ncorruption relates\\ntime\\nchildren\\ncommunities\\npresident\\nmillions\\nmillion\\ncriminal\\nlaw\\nlaws\\nconcerning\\nfuture\\nscandal\\nscandalous\\ndays\\nday\\nlie\\npoverty\\nappoint\\nappointing\\nimmigrants\\nimmigration\\nbig\\nofficers\\noffice\\noffices\\nofficer\\nreceived classified\\ncompletely\\ndepartment\", \"20<br>american\\namericans\\njobs\\njob\\nhillary\\ntrade\\ntrading\\nclinton\\ntimes\\ntime\\nlaw\\nlaws\\nfuture\\ncitizens\\ncitizen\\nlive\\nliving\\nlives\\nopportunity\\nopportunities\\ncountry\\ncountries\\nmedia\\nnation\\nnational\\nnations\\ngovernment\\nspeaking\\nspeak\\npersonal\\nnafta\\nmilitary\\nschools\\nschool\\npeople\\nlike\\nequal\\nequally\\nterrorism\\nterrorizing\\ndemocrats\\ndemocratic\\namerica\\npresident\\npresidency\\nnew\\nimmigrants\\nimmigration\\nimmigrant\\ninstead\\ninnocent\\nparents\\nparent\\nthing\\nthings\\ngood\\nemail\\nemails\\nfighting\\nfight\\nchange\\nmillions\\nmillion\\ntotally\\nmichelle\", \"21<br>applause tell\\npeople\\npeoples\\nlike\\nlikes\\nclinton\\nclintons\\nright\\ngreat\\namerican\\namericans\\nhillary\\nsaid\\nbig\\ntotally\\ntotal\\nbooing\\nfolks\\ndeals\\ndeal\\ndealing\\nwant\\nwants\\nthing\\nthings\\ntime\\ntimes\\nlook\\nstate\\nstates\\nknow\\nknows\\nnew\\ndebates\\ndebate\\ncountry\\ncountries\\namerica\\ncriminal\\nsomebody\\ngood news\\nremember\\nwon\\npercent\\njobs\\njob\\ntrade\\neverybody\\nlittle\\nthink\\nthinks\\ntoday\\nborders\\nborder\\ntaxes\\ntax\\ncalled\\ncalling\\ncalls\\nlooking young guy hey\\nwork\\nworking\\nworked\\nworks\\ninformation\\ntrump\\ncomes\\ncome\\ncoming\\ngovernment\\ngovernments\\nobama\\nbeautiful\\ngreatest\\nrepublican\\nrepublicans\\ncommon\\nbetter\\nlet\\nopen\\nplace\\nsecurity\\nsecure\\nnumber\\nnumbers\\nnumbered\\ncorrupt\\ncorruption\\nclean\\nbelieve\\nbelieves\\nbeliever\\ngoing\\ngot\\ntelling\\ntells\\npolitical\\npolitics\\nyears\\nyear\\ngetting\\ngets\\nimmigration\\nimmigrant\\nflorida\", \"22<br>great\\nnew\\nthank\\nrights\\nright\\npeople\\neconomic\\neconomics\\neconomically\\namerica\\nschool\\nschools\\namerican\\namazing\\nlike\\nchristian\\nben\\ngod\\ngoing\", \"23<br>new\\nnews\\namerican\\namericans\\nclinton\\njobs\\njob\\nhillary\\ntrade deals\\nforeign\\ngovernment\\ngovernments\\nreforms\\ninsider\\ninsiders\\nenergy\\ntelecom\\ninterests\\npay\\npaying\\nmillions\\nmillion\\nericsson\\nbacked\\ngetting\\ndeal\\neconomic\\nplan\\nplans\\nadministration\\ncountries\\ncountry\\nchange\\nimmigration\\nohio\\ncompanies\\ncompany\", \"24<br>people\\nimmigrated\\nimmigration\\nimmigrants\\nimmigrant\\namericans\\namerican\\nradical\\nradicalization\\nradicalism\\nradicalized\\namerica\\nsupport\\nsupports\\nsupported\\nsupportive\\ncommunity\\ncommunism\\ncommunities\\nterrorist\\nterrorists\\nislamic\\nislam\\nlaws\\ngay\\ngays\\npresident\\nclinton\\nstated\\nstates\\nstate\\nsecurity\\nhillary\\ncountry\\ncountries\\nbetter\\nlarge\\nnato\\nterrorism\\nterror\\nlaw admit\\ninside\\noverseas\\nisis\\nplan\\nplans\\nplanning\\nissues\\nissue\\nissued\\nnew\\nparents\\nparent\\nnation\\nnational\\nincreased\\nincrease\\nnumbers\\nnumber\\npolicy\\npolicies\\npolitically\\npolitical\\nwomen\\nmuslims\\nmuslim\\nadmitted\\nadmits\\nadmitting\\nguns\\ngun\", \"25<br>american\\namericans\\namerica\\nhillary\\nenforcement\\nenforce\\nnew\\nimmigration\\nimmigrate\\nimmigrants\\nclinton\\ndeals\\ndeal\\ntrade\\nofficers\\noffice\\nvote\\nvoting\\nvotes\\nthings\\nthing\\nobamacare\\nyears\\nyear\\ncountry\\ncountries\\nsupported\\nsupports\\nsupport\\nsupporter\\nlike\\ntaxes\\ntax\\nvisas\\nvisa\\nchina\\nstate\\nstates\\nnation\\nnationals\\nlatino\\nlatinos\\nschools\\nschool\\namnesty\\njobs\\njob\\ncriminal\\ncriminals\\nshooter\\nmillions\\nmillion\\nmassive\\nmassively\\nbusinesses\\nbusiness\\npresident\\nthousands\\ncompanies\\nillegal\", \"26<br>americans\\namerican\\nhillary\\nclinton\\npeople\\nattacks\\nattack\\nmembers\\ncitizens safe\\nsecurity\\nsecured\\nlife work\\ninsiders attacking\\ngovernment\\nworking\\ncampaign\\nstates\\nstate\\nlaw\\nlaws\\nfund\\nfunding\\ncity\\ncities\\nnew\\nisis\\ninsider\\nplanned\\nplan\\nfailing\\nfailed\\nschools\\nschool\\namerica\\nsexist\\ncrime\\ndifferent\", \"27<br>hillary\\nclinton\\nclintons\\nnew\\namerican\\namericans\\npeople\\namerica\\npresided\\npresident\\npushing\\npush\\nmassive\\nfailed\\nchange\\ntax\\ntaxes\\nlet\\nendless\\nwages\\nwage\\ntrade\\nfriend\\nfriends\\nwords\\namazing\\nreal\\nworkers\\npersonal\\nperson\\ncome\\ncoming\\ncomes\\ndollars\\ndollar\\nsingle\\nmissile\\ndefense\\njobs\\npolitical failure\\nchina\\ngetting\\ngets\\nnation\\nnational\\ncountry\\ncountries\\nlike\\nfailures\\ncore\\ndefend\\nputin\\ninsiders\\nnuclear\\neconomic\", \"28<br>american\\namericans\\ncountry\\ncountries\\ncriminal\\nimmigration\\nimmigrant\\nimmigrants\\nborder\\nborders\\nvisa\\nvisas\\npeople\\njustice\\nforced\\nforce\\nforceful\\nday\\ndays\\nnational\\nnation\\ncitizens\\nfederal\\nhillary\\nopen\\nreleased\\nreleases\\nperiod\\namnesty\\narrive\\ncrimes\\ncrime\", \"29<br>donald\\nquestions\\nquestion\\ninaudible\\npeople\\ngreat\\nsaid\\nthing\\nthings\\nlike\\nlikes\\nyes\\ncountry\\ncountries\\ntrump\\npresident\\npresidency\\npresidents\\ngets\\ngetting\\ntime\\ntimes\\nago\\nclinton\\nbig\\nguy\\nguys\\njohn\\nnews\\nnew\\nhillary\\ndifferent\\ndifference\\nknow\\nknows\\njob\\njobs\\nputin\\ntotally\\ntotal\\nrussia\\ncase\\ncases\\nlook\\nlooks\\nlooked\\nlooking\\nprobably\\ngood\\nnumbers\\nnumber\\ntrade\\ngoing\\ntremendous\\nbiggest\\nchina\\nright\\nrights\\nstarted\\nstart\\nnato\\nsomebody\\ngeneral\\ncampaign\\ncampaigns\\nmassive\\ndevelopers\\ndevelopments\\ndeveloper\\ndevelop\\nmaybe\\nobama\\ntalk\\ntalking\\ntalked\\ngovernment\\nahead\\nnight\\ntelevision\\npage\\npages\\nlied\\nlies\\nlet\\nletting\\nrepublican\\nmike\", \"30<br>american\\namericans\\nnew\\nnews\\nhillary\\nclinton\\nclintons\\npeople\\namerica\\njobs\\njob\\ncountry\\ncountries\\nbig\\ncome\\nstreet\\nstreets\\npolitical\\ngreat\\nregulations\\nregulation\\nyear\\nyears\\nnation\\nnational\\nnationalities\\ngetting\\ncitizens\\nunleashed\\nunleash\\nofficers\\noffice\\nschool\\nschools\\ndeals\\nmedia\\nsave\\nfailed\\nvote\\nvoting\\nhomicide\\naccess\\nmillions\\nmillion\\nstate\\nstates\\nislamic\", \"31<br>american\\namericans\\nclinton\\nclintons\\nnew government\\nhillary\\nstarts\\nstart\\nstarting\\nstarted\\npolicy\\npolicies\\nstreet\\nstreets\\npeople\\ngetting\\ntrade\\nbig\\ninterests\\ntrump\\nsupport\\nsupports\\ncoming\\ncome\\nregulation\\nregulations\\nincluding\\nincludes\\nschools\\nschool\\ndeals\\nsingle\\ncities\\ncity\\namerica\\nlike\\nfinancial\\nrecent\\nrecently\\ncountry\\ncountries\\nclass\\njobs\\njob\\nsave\\nfighting\\nfight\\naccess\", \"32<br>american\\namericans\\nnew\\ntaxes\\nenergy\\nmassive tax\\nincludes\\nincluding\\nincluded\\ndollars\\ndollar\\ngreat\\namerica\\nwomen\\nclinton\\nclintons\\noffice\\noffices\\nschool\\nschools\\nbig\\nstate\\nstates\\nstarts\\nstart\\nstarting\\nstarted\\ntoday\\npeople\\ntrade\\nsavings\\nsave\\nfederal\\nforgotten\\nunleash\\nunleashed\\nnation\\nnational\\ncoming\\ncome\\nincome\\nreduce\\nspecial\\njobs\\njob\\nhillary\\nfunds\\nfund\\ndrug\\ndrugs\\nquality\\nhealth\\ngrant\", \"33<br>american\\namericans\\nmillions\\nmillion\\namerica\\nstate\\nstates\\nclintons\\nclinton policies\\njobs\\njob\\npolicy\\nhillary\\ncountry\\npoliticians\\nfuture\\nlaw\\nliving\\nlive\\nlives\\ncivil\\ncitizen\\ncitizens\\nchildren\\nprovided\\nprovide\\nproviding\\ncrime\\nworld\\ntrump\\nlooks\\nlook\\ninsiders\\nschools\\nschool\\nviolence\\nyears\\nyear\\nbest\\nfreedom\\nnafta\\neffective\", \"34<br>american\\namericans\\ntaxes\\ntax\\njobs\\njob\\nnew\\ngreat\\nlaw\\nlaws\\namerica\\nschool\\nschools\\ncities\\ncity\\nincludes\\nincluding\\nclintons\\nclinton\\nafrican middle\\ncommunities\\ncommunity\\nchange\\nfailed\\nfailing\\ntrade\\nnearly\\neducation\\ngreatest\\nmassive\\ncompany\\ncompanies\\nhillary\\nsavings\\nsaved\\nsave\\nequally\\nglass\\nproposing\\npropose\\nproposal\\nfinancial reforms\\npeople\\nreform\\nopponent\\nopponents\\nworkers\\ndetroit\\ninfrastructure\\nbusiness\\nbusinesses\\nnation\\nnational\\nnations\\nwages\\nasking\", \"35<br>americans\\namericanism\\nnew\\ntrade\\ntaxes\\ntaxing\\ntax\\njobs\\njob\\namerican economic\\ngrowth\\nregulations\\nregulating\\nregulation\\nplan\\nplans\\nmillion\\nmillions\\nenergy\\ngreat\\namerica\\nclinton\\nincomes\\nincome\\npeople\\ninfrastructure\\npolicy\\npolicies\\nfederal\\nincluding\\nincludes\\ndollar\\ndollars\\nproduction\\nproduct\\nproductive\\nwealth\\nyears\\nyear\\ncome\\ncomes\\ncoming\\nsavings\\nsave\\nsaved\\ncalls\\ncompletely\\ncomplete\\nnation\\nnational\\nrate\\nrates\\nworking\\nwork\\nworked\\nbusiness\\nreforms\\nreform\\nreduce\\nreduces\\nreduced\\nsingle\\ncare\\neconomy\\ncost\\ncosts\\nproperty\\nclass\\npower\\nbenefit\\nearned\\nearning\\nentitlements\", \"36<br>american\\namericans\\njobs\\nnew\\ncrime job\\ntrade\\nschools\\nschool\\nrefugee\\nrefugees\\ntax\\ntaxes\\ncomes\\ncome\\ncoming\\nsafe\\npeople\\nregulations\\nregulation\\ngovernment\\nmillions\\nmillion\\ngreat\\nfamilies\\nfamily\\nhelp\\nhelping\\nfree children\\nstate\\nstates\\niowa\\npoverty\\ncongress\\nnation\\nnational\\nhillary\\ndemocrat\\ndemocratic\\nclinton\\npolicy\\npolicies\\nincomes\\nprovide\\nproviding\\nlowers\\nlower\\nsingle\\nbenefits\\nway\\nopponent\", \"37<br>applause\\namerican\\namericans\\nbooing\\npeople\\njobs\\njob\\nclinton\\ndeal\\nmedia\\nthank\\nisis\\nstate\\nstates\\nhillary\\ntotally\\ntotal\\ntrade deals\\npolicies\\npolicy\\nright\\nfolks\\namerica\\nworld\\nhappening\\nhappen\\nhappened\\nlike\\nhorrible\\nhorribly\\nenergy\\ncontrol\\ncontrols\\nsaw\\ndemocratic\\ndemocrats\\ncitizens\\ncitizen\\ncountry\\ncountries\\nnew\\npolling\\npolls\\nrefugee\\nrefugees\\nforeign\\nnation\\nnationals\\nnational\\nlarge\\nlargely\\ndisastrous\\nglobalism\\nglobal\\nday\\ndays\\nplay\\nplaying\\nbig donors\\nmississippi\\nfuture\\ntaxes\\nbad\\npolitical\\npolitically\\ntime\\ntimes\\nwages\\nvote\\nvoted\\nvoting\\nvotes\", \"38<br>applause\\npeople\\nright\\nrights\\ngreat\\nterrorism\\nterror\\nhillary\\nlike\\nlikes\\nliked\\nsaid\\ntime\\ntimes\\nthink\\nthinking\\nbig\\nisis\\neverybody\\nfolks\\nknow\\nknows\\nknowing\\ncountry\\ncountries\\ndifferent\\ndifferences\\ntotal\\ntotally\\nwant\\nwanted\\nwants\\nsenate\\nsenator\\nobama\\ncome\\ncoming\\ncomes\\nstate\\nstates\\ntrump\\npercent\\nclinton\\nclintons\\nraising\\nraise\\npay\\npaying\\nnew\\nnews\\nstarted\\nstart\\nstarting\\nguy\\nguys\\ndonald\\ngood\\nmilitary\\nlook\\nlooking\\nraised tremendous\\ngreatest\\nreal\\ntough\\ndeal\\ndeals\\nday\\ndays\\nprobably\\nprimaries\\nprimary\\nrefugees\\nrefugee\\nbillion\\nbillions\\ntax\\ntaxes\\nlong\\nworked\\nworks\\nworking\\nwork\\nworkings\\npolitics\\npolitical\\nlargely\\nlarge\\nremember\\ntoday\\nputin\\noil\\nsaying\\nsays\\nplace\\nplaces\\nmillion\\nmillions\\nlove\\nloving\\nreagan\\ntrade\\njapan\\nwall\\nwalls\\neconomic\\neconomically\", \"39<br>applause\\ngreat\\namerican\\namericans\\npeople\\npremium\\ncare\\njob\\njobs\\ninsurance\\ninsurers\\nhealth\\nobamacare\\nbelieved\\nbelieve\\nbelieving\\npennsylvania premiums\\nclinton\\ntotally\\nworkers\\nincredible\\nbringing\\nbring\\ntax\\ntaxes\\nprice\\nprices\\nwork\\nworking\\nstate\\nstates\\npolitical\\npolitics\\nthank\\nthanks\\nschool\\nschools\\nlike\\nfamilies\\nfamily\\nplan\\ncongress\\nmaster\\ndeal\\nprivate\\ndoctor\\ndoctors\", \"40<br>applause\\npeople\\nright\\ngreat\\ntaxes\\ntax\\ngood\\nhillary\\nlike\\nliked\\nknow\\nknows\\nsaid\\nobama\\ngot\\nfolks\\nbig\\nlook\\nlooks\\nlooked\\nlooking\\nbad\\ngonna\\nbusinesses\\nbusiness\\nwant\\nwanted\\nwanting\\nwants\\npercent\\nnew\\nworking\\nwork\\nworked\\nthank\\namericans\\namerican\\ncountry\\ncountries\\njustices\\njustice\\nhappens\\nhappen\\nhappening\\nhappened\\nnumber\\nnumbers\\nway\\nthings\\nthing\\nmillion\\nmillions\\nreal\\ngeneral\\ngun\\nguns\\nguy\\nguys\\ntime\\ntimes\\nfrance\\namerica\\nbeautiful\\nlittle\\neconomic\\njob\\njobs\\ndifferent\\nproblem\\nproblems\\ngoing\\nair\\nclinton\\nago\\nnational\\nprobably\\ncoming\\ncome\\ncomes\\nstate\\nstates\", \"41<br>hillary\\namerican\\namericans\\nclintons\\njobs\\njob\\namerica\\nclinton wants\\nnew\\ndeal\\nmichigan\\ndemocrats\\ndemocratic\\ndemocrat\\ntrade\\nrefugees\\nrefugee\\nincludes\\nincluding\\nwant\\nchina\\nschoen\\nemails\\nemail\\ncriminal\\nbelieve\\nbelieving\\nbelieves\\nhouse\\nlaid\\nwashington\\nrich\\nstate\\nstates\\nchange\\nschools\\nschool\\nradicalism\\nradical\\nfailing\\nfailed\\ngreat\\nnafta\\npolitical\\nwar\\nwars\\ntax\\ntaxes\\npremium\\ncrime\\nillegal\\nsupporters\\nsupport\\nsupported\", \"42<br>american\\namericans\\namerica\\nclinton\\nclintons\\nincludes\\nincluding\\nnew\\ntax\\njobs\\njob\\ngovernment\\nhillary\\ncountry\\ncountries\\ntrade\\nvote\\nflorida\\nair\\nlike\\nhouse voting\\nplan\\nemails\\nemail\\nmeans\\nmeaning\\ncoast\\nstart\\nstarted\\nstarting\\ndeal\\ndeals\\nimmigration\\nimmigrant\\nimmigrants\\nnational\\nnation\\nrepublicans\\nrepublican\\nend\\nends\\nending\\nforeign\\nthing\\nthings\\nreagan\\nenforcement\\nson\\nhoover\\ndepleted\\nfather\", \"43<br>people\\napplause\\nindiana\\ntaxes\\ntaxed\\ntax\\ngreat\\njobs\\njob\\nsaid\\nleader\\nleaders\\ngovernor\\nmike\\ntremendous\\npresident\\npence\\ngot\\nclinton\\nnew\\nthings\\nthing\\nexecutive\\nbig\\nincredible\\naway\\ntotally\\ngeneral\\nbobby\\nobama\\nparty\\neverybody\\ntrump\\nmillion\\nmillions\\npolicy\\nfund\\nfunding\\nschool\\nschools\\nlike\\nlikes\\nhillary\\ntrade\\nhorrible\", \"44<br>hillary\\nclinton\\nclintons\\njobs\\njob\\nimmigrants\\nimmigration\\nimmigrant\\namericans\\namerican\\namericanism\\nchina\\nnew\\nisis\\namerica\\nmillion\\nmillions\\ndepartment\\npolicy\\npolicies\\ndeals\\ndeal\\ndealings\\ntrade\\ngreat\\nforeign governments\\nstarted\\nstart\\ncampaign\\nsecurity\\nradical\\ncountry\\ncountries\\npeople\\nmiddle\\nregimes\\nregime\\nmassive\\nmendoza\\nsecret\\nsecrets\\nambassador\\nnote\\nnotes\\nwashington\\nhanding\\nhanded\\nhand\\nhands\\ncome\\ncoming\\nbusiness\\nbusinesses\\nmaking\\ncompanies\\ncompany\\nworkers\\nworker\\nsupported\\nsupporters\\nsupport\\nsupporting\\nsupports\\nsupporter\\npresident\\npresidency\\nbig\\nwomen\\ndeath\\nrules\\nruled\\nworld\\nstate\\nstates\\nlarge\\nsanctions\\ngovernment\\ngoverned\\nmanufacturing\\nmanufactur\\nincludes\\nincluding\\nanti\", \"45<br>immigration\\nimmigrants\\nimmigrant\\namerican\\namericans\\npeople\\ngreat\\nillegal\\nillegally\\nnew\\nnews\\ncountry\\ncountries\\ncriminal\\ncriminals\\nincluding\\ninclude\\nborder\\nborders\\nfederal\\nlike\\nlikely\\nvisa\\nvisas\\nlaws\\nlaw\\nlawful\\nstate\\nstates\\nnumber\\nnumbers\\nclinton includes incredible\\noffice\\noffices\\nofficers\\nsecurity\\nsecure\\ndeported\\ndeportation\\ndeportable\\ndeportations\\ndeport\\namnesty\\namnesties\\nenforce\\nenforced\\nenforcement\\nworkers\\nworker\\nright\\nfolks\\nhillary\\ntalk\\ntalks\\ntalking\\nincredibly\\nlegal\\nlegally\\nlegalized\\nwork\\nworking\\nworked\\nworks\\nissues\\nissue\\nissuing\\nvets\\nvetting\\nvetted\\nlet\\nindividuals\\nindividually\\npowerful\\npower\\npowers\\nmedia\\nadministration\\nbelieve\\nmillion\\nmillions\\ncrime\\ncrimes\\npolicy\\npolicies\\nyear old\\ncrisis\\nremoval\\nremoved\\nremove\\nremoving\\namerica\\nproblem\\nproblems\\nlocal\\nthank\\nyears\\nnation\\nnational\\nnations\\ndeath\\ndeaths\\nhome\\ntotally\\ntotal\\nglobe\\nbegin\\nbeginning\\nobama\\npresident\\nhouse\\nhousing\\ntimes\\ntime\\ncomes\\ncome\\ncoming\\nforce\\nforced\\nspecial\\ndirectly\\nprogram\\nprograms\\ninterests\\ninteresting\\nwant\\nwanted\\nwanting\\nfacing\\nface\\ntremendous\\ntremendously\\nsupport\\neverybody\", \"46<br>americans\\namerican\\nnew\\nnews\\npeople\\nhillary\\njobs\\njob\\ntrade deals\\ntax\\ntaxes\\nlike\\nbig\\namerica\\nmillions\\nmillion\\nclinton\\nclintons\\nsafe\\ncome\\nenergy\\nstreet\\nstreets\\nstate\\nstates\\ndeal\\nyears\\nyear\\nmedia\\ninterests\\ngets\\ngetting immunity\\nclass\\nislamic\\nexecutive\\nexecutives\\npolitics\\npolitical\\nvoters\\nvoter\\nregulations\\nregulation\", \"47<br>applause\\njobs\\njob\\namericans\\ngreat\\ntrade\\namerican future\\nlike\\nbooing\\nstate\\nstates\\ntaxes\\ntax\\nhillary\\nmichigan\\ncountry\\ncountries\\nnews\\nnew\\ntotal\\ntotally\\namerica\\nlook\\nlooks\\npolicy\\nlost\\npeople\\ngovernments\\ngood\\ngoods\\nfailing government\\nmotor\\nmotors announced\\nfailed\\nrights\\nbig\\nhappening right\\nclinton policies\\nscreening\\nhappen\\nhappened\\ntremendous\\ntrump\\nstrong\\ncommon\\nrefugee\\nrefugees\\ntpp\\nworker\\nworkers\\npoliticians\\nmoney\\naway\\ntime\\ntimes\\ncar\\ncars\\nisis\\nequally\\ntoday\", \"48<br>americans\\namericanism\\ntrade\\ntrading\\namerica\\namerican people\\nimmigration\\nnew\\nnews\\nillegal immigrants\\ngreat\\nimmigrant families\\nillegally\\nborder\\nborders\\ntonight\\ntaxes\\ntax\\ngreatest\\nwork\\nworks\\nworking\\ndeal\\ndeals\\ncountry\\ncountries\\nlaw\\nlaws\\nlawful\\nnearly\\njobs\\njob\\nnation\\nnational\\nnations\\npolicy\\npolicies\\njustice\\njustices\\neconomic\\nclinton\\nmassive\\nviolence\\nwant\\nwants\\nforeign\\nfamily\\nbelieve\\nbelievable\\nbelieving\\nbelievers\\nmillion\\nmillions\\noffice\\nofficers\\nsupporters\\nsupport\\nsupported\\ncommunities\\ncommunity\\ncitizens\\nsafe\\nstate\\nstates\\nterrorism\\nterror\\npolitically\\npolitical\\npolitics\\nworkers\\nfacts\\nfact\\nmiddle\\nworld\\ndifference\\ndifferent\\nyear\\nyears\\ngoods\\ngood\\nprotecting\\nprotection\\nprotected\\nprotect\\nprotects\\nfree\\nrecent\\nrecently\\nmass\\naway\\ntotal\\ntotally\\ncities threaten\\nthreatens\\nthreatening\\nsyria\\ncontinue\\ncontinued\\ntoday\\npresidency\\npresident\\nbad\\nbrother\\nobama\\nfair\\nmary\\nsarah\", \"49<br>americans\\namerican\\nclinton\\nclintons\\nveterans\\nveteran\\ntime\\ntimely\\ncare\\ninclude\\nincluding\\nincludes\\nincluded\\nhillary\\ntimes described\\nemails\\nemployees\\nemployee\\nsafe\\nservice\\nrecent email\\nreal\\nlaw\\nlaws\\nlawful\\nhealth\\npublic services\\ncities\\nmillions\\nmillion\\ndescribes\\nprivate\\nrecently\\npolice\\npolicing\\nfederal\\npersonal\\nperson\\nincreasing\\nincreased\\nincrease\\nneeded\\nneed\\nneeds\\ndestroys\\ncountry\\nreforming\\nreforms\\nreform\\nbad\\nwaiting\\nwait\\nmental\\nnote\\nnotes\\nofficers\\ncorporations\\ncorporate\\namerica\\namericas\\nfacilities\\nfacility\\nhighest\\nruling\\nrules\\nsave\\nsaving\\nsaved\\ngiving\\nlegislation\\nlegislative\", \"50<br>policies\\ntrade\\namerica\\namerican\\namericans\\nnew foreign policy\\npresident\\npresidency\\nclinton\\nislam\\nislamic\\nstates\\nstate\\nobama\\nmilitary\\nfriends\\ncommon\\ndefense\\ncountry\\ncountries\\nfinancial\\nwar\\ntoday\\nchina\\ninterests\\ninterested\\nwestern\\ngreat friend\\ndeal\\nnational\\nnation\\nnations\\nsecurity\\nimporting\\nimportant\\ninstead\\nstruggles\\nstruggle\\nway\\nways\\nallies\\nally\\ngovernment\\ntaking\\ntakes\\nmassive\\noil\\nbest\\nchallengers\\nchallenges\\nchallenge\\nrespect\\nrespects\\nrespected\\nequipment\\niran\\nbuilding\\nbuild\\nradical\\nclear\\njobs\\njob\\nmissions\\nmission\\nfinally\\nhistory\", \"51<br>applause\\nclinton\\njob\\njobs\\namericans\\namerican\\nisis\\nright\\npeople\\ncountry\\ncountries\\nhillary\\nclintons personal\\ngreat\\nobamacare\\nwants\\nwant\\nobama\\nstate\\nstates\\nthing\\nthings\\ntimes\\ntime\\nold\\nbooing\\nbrand new\\ntotal\\ntotally\\nforced\\nforce\\ntaxes\\ntax\\nimmigration\\nimmigrants\\nimmigrant\\ncorruption\\ncorrupt\\nwin\\nwinning\\nlike\\nwow\\nrefugees\\nrefugee\\ngood\\nohio\\nbuildings\\nbuild\\nbuilding\\nperson\\nnafta\\nwikileaks\\nwikileak\\nimportant\\nthink\\ndonald\\nago\\nwars\\nwar\\ntrade\\ngetting\\nmassive\\nmassively\\nyears\\nyear\\ngod\\nadults\\nterm\\nterms\", \"52<br>applause\\npeople\\nright\\nbooing\\ngreat\\nlike\\nbig\\npolitics\\nhillary\\nnew\\nnews\\nclinton\\nclintons\\nwin\\nwinning\\njobs\\nsaid\\ncorrupt political\\ngets\\ngetting\\ngood\\ngoods\\namerica\\nnational\\nnations\\nnation\\nstart\\nstarted\\nstarting\\nstate\\nstates\\nfolks\\ngreatest\\njob deal\\ntoday\\ntrade\\nplace\\nplaces\\nhorrible\\ncorruption\\ngeneral\\ngenerations\\ngenerals\\nsafe\\ncountry\\ncountries\\ntime\\ntimes\\namerican\\namericans\\nmassive\\nnorth\\nlook\\nlooked\\nthing\\nthings\\nthinking\\nthink\\ncarolina\\npercent tax\\ntaxes\\nlaughter\\ntrump\\nmilitary\\nyears\\nyear\\nwent\\nobamacare\\nobama\\nreal\\ndeals\\ndealing\\nenergy\\nold\\nmike\\ncities\", \"53<br>trump\\ngreat\\npeople\\napplause country\\nchina\\nright\\nbig\\ngood\\nlike\\nnew\\nnews\\nbillion\\ncountries\\ngot\\nmilitary\\nneed\\nneeds\\ntrillion\\nmexico\\nway\\nmanufacturing\\nmanufacturer\\nmanufactured\\nsaid\\nwant\\nwants\\nwanted\\nwall\\nnumber\\nthings\\nthing\\nairports\\nairport\\neverybody\\nobamacare\\nreal\\nnice\\nbuilds walls\\nthousands\\ndeal\\ndeals\\njobs\\njob\\nfully\\nzero\\nbuild\\nbuilding\\nbuildings\\niraq\\nold\\ngonna\\nperson\\nsomebody\\nbridges\\nbridge\\nfree\\nbeat\\nbeating\\npresident\\nstates\\nstate\\ncars\\ncar\\namerica\\namericas\", \"54<br>hillary\\nclinton\\nclintons\\ngovernment\\ngovernments\\namerica\\ncountry\\ncountries\\ntrade\\nimmigration\\nimmigrants\\namerican\\namericans\\nquote\\nobama\\ncitizens\\ncitizen\\nelection\\nelections\\nelected\\ncome\\ncomes\\nvoting\\nvote\\nvotes\\nofficials\\nofficial\\nforeign\\nexecutive\\nclassified\\ncorruption\\ncorrupt\\nexpand\\nexpanding\\nenforcement\\ncriminal\\nmillion\\nmillions\\nsecurity\\nsecure\\nsaid\\npresident\\ndemocrats\\ndemocratic\\nkennedy\\ncontrol\\ncontrols\\nend illegal\\nstate\\nstates\\nsupporting\\nsupport\\nvoters\\nvoter\\nnon\\nmeans\\nmeaning\\nborders\\nborder\", \"55<br>american\\namericans\\namerica\\nclinton\\nlike\\njobs\\njob\\nyears\\nyear\\ncountry\\npeople\\nhillary supporters\\ntrade\\nthings\\nthing\\nforeign countries\\nfailed\\nfailing\\ndeals\\ndeal\\nold\\ncriminal\\ngovernment\\ncitizens\\ntaxes\\ntax\\nimmigration\\nimmigrant\\nimmigrants\\noffice\\nofficer\\nofficers\\nunleashing\\nunleashed\\nunleash\\nschools\\nschool\\nnation\\nnationals\\nborder\\nborders\\ngreat\\nnew\\nend\\npublic\\nstudents\\nshooter\\nsupported\\nsupporter\\nsupport\\nfactories\\npresident\\nopen\\nfederal\\nmassive\\nmassively\\nobama\\nveterans\\nveteran\\nhomicide\\nsarah\\naffordable\", \"56<br>americans\\namerican\\namerica\\njob\\njobs\\nclinton\\nhillary\\ntrade\\ncountry\\nlike\\nforeign countries\\nyears\\nyear\\ndeals\\ndeal\\nnew\\nimmigration\\nimmigrant\\nimmigrants\\ncriminal\\nvote\\nvoting\\ntaxes\\ntax\\nfailed\\nfailing\\nthings\\nthing\\nstate\\nstates\\ncome\\nnation\\nnationals\\nold\\npeople\\nmassive\\nmassively\\noffice\\nofficer\\nofficers\\nborder\\nborders\\ngreat\\nfactories\\nsecure\\nsecurity\\nschools\\nschool\\nlatinos\\nlatino\\npresidential\\ncitizens\\ncitizen\\nshooter\\nisis\\nobamacare\\nopen\\nfederal\\nveterans\\nveteran\\nlost\\nwages\\nworld\\nsarah\\njustice\\njustices\\nhuge\", \"57<br>american\\namericans\\ntrade\\njob\\njobs\\nelection\\nelections\\nelected\\nmillion\\nmillions\\nlike\\nhillary\\namerica\\nvoters\\nvoter\\ngovernment\\ncountry\\ncountries\\nclinton\\nnation\\nnational\\nyears\\nyear\\nborder\\nborders\\nstate\\nstates\\nimmigration\\nimmigrant\\nillegal immigrants\\nofficials\\nvoting\\nvote\\nquestion\\nquestions\\nquestionable\\nrefugees\\nrefugee\\ntaxes\\ntax\\nbig\\npeople\\nforeign\\ninterests\\ncities\\ncompanies\\nohio\\ncriminal\\ncitizens\\ncitizen\", \"58<br>american\\namericans\\ntrade\\njob\\njobs\\ncountries\\ncountry\\ngovernment\\nyears\\nyear\\nhillary\\nforeign\\nmillion\\nmillions\\namerica\\nlike\\nnation\\nnational\\nnearly\\nold\\nincluding\\ninclude\\nincludes\\nincluded\\nbureaucracy\\nbureaucracies\\ndeals end illegal\\ndeal\\nreforms\\nreform\\nofficials\\ncompanies\\nborder\\nborders\\nstate\\nstates\\nvoting\\nvote\\nraised\\nraising\\nnorth\\nbig\", \"59<br>hillary\\namerican\\namericans\\njobs\\njob\\ncorruption\\ncorrupt\\namerica\\ncriminal\\npeople\\nlike\\ngovernment\\nobamacare\\ncountry\\ncountries\\njustice\\njustices\\npremiums\\npremium\\nillegal\\nnew\\nfuture\\nfutures\\ntrade\\ntaxes\\ntax\\nvoter\\nvoters\\nclinton\\nclintons\\nair\\ndemocratic\\nhighest\\ndemocrats\\ncancer\\nregulation\\nkris\\noffice\\nofficers\\nofficer\\nyear\\nyears\\nlosing\\nlose\\nfighter\\nfighters\\nstop\\nstopped\\nforeign\\ndeported\\ndeportation\\ndeport\\nnational\\nnation\\naffordable\\ncrimes\\ncrime\\nlives\\nlive\\nliving\\nwent\", \"60<br>american\\namericans\\nhillary\\njobs\\njob\\nmichigan\\nclinton\\nschools\\nschool\\ndeal\\nnew\\nnews\\ntrade deals\\nstate\\nstates\\ncountry\\ncountries\\namerica\\ninterests\\ntpp\\ncorrupt\\ncorruption\\ncomes\\ncoming\\ncome\\nstreet\\nlike\\npolicies\\npolicy\\nimmunity\\nclass\\npolitical\\npolitics\\nwork\\nworking\\ndonors\\ntax\\ntaxes\\nmillion\\ngreat\\npaid\\ndetroit\\njustice\\njustices\\nman\\nlifting\\nregulations\\nregulation\", \"61<br>people\\nclinton\\nclintons\\ngreat\\ntimes\\ntime\\nmedia\\npower\\npowers\\npowerful\\nfalse\\nattack\\nattacks\\nattacking\\nglobalization\\npolitics\\nstories\\nstory\\ncontrol\\ncorrupt political\\nnew government controlled\\ncorruption\\ncorrupted\\nglobal special\\ninvolves\\ninvolved\\njobs\\ncriminals\\ncriminal\\nsuccessful\\ntowns\\nlike\\nlikes\\nlikely\\nworking\\nworked\\nwork\\nyear\\nyears\\nmassive\\nludicrous\\nfinancial\\nstate\\nstates\\nstated\\ntrade\\nlies\\nlied\\ndiscredited\\nneed\\nneeds\", \"62<br>hillary\\ncorruption\\ncorrupt\\ngovernment\\ngovernments\\nlegal\\npublic\\nassociates\\nvoters\\nvoter\\npolitical\\ndeliberate\\nconfidential\\ngetting\\nlied\", \"63<br>applause\\namerican people\\nnew\\nnews\\ngreat\\nlike\\nhillary\\npercent\\nbooing\\njobs\\njob\\nobamacare\\namericans\\ntime\\ntimes\\nincluding\\nincluded\\nincludes\\nstate\\nstates\\nclinton\\nbig\\ndeals\\ndeal\\ngeneral\\nright\\nyear\\nyears\\nsaid\\nleaving\\nleave\\ngrowth\\nnational\\nnation\\nwant\\nwants\\nwanted\\nisis\\nmoney\\ncampaign\\ncampaigning\\ntrade\\nwin\\nwinning\\ngot\\npremiums\\npremium\\ncome\\ncomes\\ncoming\\ncompanies\\ncompany\\ncountry\\ncountries\\ncorruption\\ncorrupt\\ndrugs\\ndrug\\ngood\\ngreatly\\nborders\\nborder\\njonathan\\nsarah\\ncare\\ngonna\\npersonal\\nperson\\nmean\\nmeans\\nknow\\nknows\\nhampshire\\ntrump\\nmillion\\nlarge\\nreal\", \"64<br>americans\\namerican\\nnew\\nnews\\nhillary\\njobs\\njob\\nimmigration\\nimmigrants\\npeople\\nwords\\nword\\nclinton\\ntrade\\nislamic\\nislam\\npolicy\\npolicies\\ncoming\\ncome\\noverseas\\nmilitary\\nwarfare\\namerica\\ncountry\\ncountries\\nisis\\nmurder\\nmurdering\\ndeals\\ndeal\\ncity\\ncities\\nsupporters\\nsupport\\nsupported\\ndestroy\\ndestroying\\ndefeated\\ndefeat\\nrefugees\\nbillion\\nenergy\\nfailures\\nfailure\\nlarge\", \"65<br>american\\namericans\\njob\\nbring jobs\\nnew\\nnews\\npeople\\npolicies\\npolicy\\ncity\\ncities\\ncommunity\\ncommunities safe\\ncountry\\nsafely\\npoliticians\\nlaw\\nlaws\\nbad\\nhillary\\nhurt\\nhurts\\nhurting\\nyears\\nyear\\npolice\\npolicing\\ncitizens\\ncitizen\\ncrime\\ngood\\nold politician\\ntimes\\ntime\\nforeign\\nrudy\\nfuture\\nmedia\\nopportunities\\nopportunity\\ninnocent\\ninsider\\ninsiders\\npolitical\\nnearly\\nequal\\nequally\\nstates\\nstate\\namerica\\nsecurity\\nsecure\\nwashington\\nemail\\nterrorism\\nterrorizing\\nviolent\\nfavor\\nfavors\", \"66<br>tax\\ntaxes\\nhillary\\namerica\\njobs\\njob\\npeople\\ngreat\\nimmigrant\\nimmigration\\nimmigrants\\ntime\\ntimes\\nmassive\\nclinton\\nclintons\\nbusiness\\nbusinesses\\namerican\\namericans\\ngovernment\\ntrade deals\\nprivate\\ndeal\\nlike\\nschools\\nschool\\nmilitary\\ntoday\\ndollar\\ndollars\\ncriminal\\nbank\\nbanks\\nforeign\\nlaws\\nlaw\\nlawful\\nincluding\\nsafe\\ncolorado\\ncompany\\ncompanies\\neconomic revitalization\\nrevitalized\\nrevitalize\\nfail\\nfailing\\nfailed\\ncorruption\\ncorrupt\\ncorrupted\\nreal estate\\nillegal\\nnation\\nnationals\\nnational\\nsupports\\nsupporter\\nsupport\\ndrugs\\ndrug\\nthing\\nthings\\ntough\\nshooter\\nofficial\\nofficials\\nlives\\nliving\\nstarting\\nstarted\", \"67<br>americans\\namerican\\npeople\\nnew\\ncome\\ncomes\\ncoming\\nregulations\\nregulation\\ncountry\\njobs\\njob\\nmillions\\nmillion\\nschool\\nschools\\nstates\\nstate\\nobama\\ndeal\\nmilitary\\ntrade deals\\nwant\\ndisastrous\\nplay\\nnafta\\nofficers\\noffices\\noffice\\ncity\\ncities\\nrich\\ndemocratic\\nhispanic\\nlaw\\nlaws\\npublic\\nregime\\nreform\\nstreet\", \"68<br>american\\namericans\\ntaxes\\ntax\\ntaxed\\njobs\\njob\\nnew\\nclinton\\npolicy\\npolicies\\nhillary\\neconomic\\nenergy\\ntrade deals like\\nbusiness\\nbusinesses\\nregulation\\nregulations\\nregulate\\nregulated\\nnearly\\ndetroit\\nincreases\\nincrease\\nincreased\\nobama\\npercent\\nstates\\nstate\\nstarted\\nstart\\nkill\\nkilled\\nworkers\\nworker\\nmillions\\nmillion\\ntoday\\nincome\\nincomes\\nlaborers\\nlabor\\namerica\\nreform\\nreforms\\ngreat national\\ncoming\\ncome\\ncomes\\nexpense\\nexpensive\\nhelp\\nhelped power\\npowers\\nbillion\\nbillions\\nnationally\\nnation\\nnations\\nstreet\\nproduction\\nproducts\\nproduct\\nbig\\nannual\\nannually\\nsave\\nsaved\\nsaving\\nmichigan\\ncompanies\\ncompany\\nadministration\\ncity\\ncities\\npolitical\\npolitics\\npost\\nrun\\nrunning\\nmotor\\nbiggest\\nday\\ndays\\ntpp\\nyear\\nyears\\ndeal\\nhome\", \"69<br>applause\\nbooing\\nright\\namerican\\namericans\\nhillary\\npeople\\nclinton\\nclintons\\ngreat state\\namerica\\nnational\\nnations\\nnation\\nstates\\noffice\\nofficers\\nofficer\\ngonna\\nsaid\\ntotal\\ntotally\\nsays foreign\\ntime\\ntimes\\nlaw\\nmeans\\nmean\\nmeaning\\njobs\\njob\\nbad\\njustice\\njustices\\nvote\\nvotes\\nworse\\nobamacare\\nnews\\nnew\\nflorida\\nobama\\ncubans\\ncuban\\nimmigrant\\nimmigration\\nimmigrants\\nthing like\\nthank\\ntaxes\\ntax\\nsaying\\ncountry\\ncountries\\nfolks\\nmovement\\nlittle\\nschool\\nschools\\nwar\\nwars\\ngood\\npremium\\npremiums\\nsupported\\nsupport\\nsupports\\nlive\\nliving\\nlives\\nillegal\\ncommunities\\ncommunity\\ncommunication\\nremember\\nbelieve\\nbelievable\\nbelieving\\nbelieves\\nwin\\nwinning\\nthings\\nplace\\ncrooked\\nborder\\nborders\\ndebate\\ndebates\\ncare\\nhigh\", \"70<br>like\\namerican\\namericans\\nnew\\npennsylvania\\namerica\\ncountry\\ncountries\\nregulations\\nregulation\\nclinton\\nnational\\nnation\\nborders\\nborder\\nold\\njobs\\njob\\ntrillion\\ntrillions\\ntaxes\\ntax\\ntrade\\ndepleted\\nend illegal\\nprivate\\nillegally\\ngovernment\\nworld\\nvote\\nvoting\\nnavy\\nsafety\\nhillary\\nmeans\\nmeaning\\nphiladelphia\\ntrump\\nroads\\nroad\\nislamic\\nenforcement\", \"71<br>applause\\nright\\npeople going\\njobs\\njob\\ngreat\\nfolks\\nbig\\ntrade\\nlikes\\nlike\\nliked\\ngood\\ntaxes\\ntax\\ntaxed\\nwin\\nwins\\nwinning\\ncountries\\nnew\\nnews\\ncountry look\\nsaid\\nlooked\\nlooking\\nguy\\nguys\\nhappening\\nhappened\\nhappen\\nhappens\\npercent\\nstates\\nstate\\nstated\\ncompanies\\ncompany\\nclinton\\nthank\\nthankful\\nwoman\\ngot\\nbuilding\\nbuild\\nbuilds\\nbuildings\\nleft\\nsnake\\nhillary\\nthings\\nthing\\npretty\\nbad\\ntalking\\ntalk\\ntalked\\ndeal\\ndeals\\nplants\\nplant\\nmoney\\nstrong\\ndemocratic\\ndemocrat\\ndemocrats\\nsteel\\npresident\\npresidency\\nstory\\nreal\\nworking\\nworked\\nwork\\nwant\\nwants\\ntime\\ntiming\\ntimes\\nneed\", \"72<br>applause\\npeople\\njob\\njobs\\namerican\\namericans\\nhillary\\ncountry\\ncountries\\nvoting\\nvote\\nstate\\nstates\\namerica great\\nsaid\\ntrade\\ntrump\\nnew\\nnews\\ngovernment corruption\\nright\\ncorrupt\\nclinton\\ntaxes big\\ntime\\ntimes\\ntotal\\ntotally\\npercent\\ncitizens\\ncitizen\\nimmigration\\nimmigrants\\nillegal\\nillegally\\ntax\\nyears\\nyear\\nforeign\\nrefugees\\nrefugee\\ncome\\ncoming\\nmedia\\nlatino\\nlatinos\\neverybody\\ndisaster\\nsingle\\nfolks\\nclassified\\nofficials\\nserver\\nincluded\\nincluding\\nincludes\\nelection\\nelect\\nelected\\nthing\\nthings\\ncolorado\\nmilitary\\nmillion\\nmillions\\nlike\\ngiving\\nstory\\nstories\\nair\\ngood\\ngoods\\ncriminal\", \"73<br>cyber\\nsecurity\\nsecure\\nnation\\ngovernment\\ngovernments\\nstates\\nstate\\nbest\\namerica national\\nlaw\\ntechnologies\\ntechnology\\nattacks\\nattacked\\nattack\\nhacks\\nhacked\\nreview\\nreviews\\nmillion\\njoint\\nbackground\\nfederal\\nprotected\\nprotection\\nprotect\\ncriminal\\npublic\\nbasis\\nseeking\"], \"marker\": {\"opacity\": 0.3, \"line\": {\"width\": 1}, \"size\": 8}, \"mode\": \"markers\", \"hoverinfo\": \"text\", \"y\": [59.39687731758685, -30.16234091449683, -46.619934493136626, -12.911473169425072, 33.56252054459268, -521.1123950420249, 31.944665047264255, -356.5124527920074, -54.79052727929712, 38.66172729311684, -134.2771512976361, 1.2361098048109738, 89.31973349176327, -24.410871949454407, 70.07170799430955, 8.62442800495341, -1.1448058176717106, 28.216937470403305, 117.85129748042803, 60.45796432287958, 356.7719567149743, -125.07659726782506, -14.051016178177612, -109.56346621351173, 124.8801461382322, 68.89265991350707, 87.31667791388914, -62.2089285108561, -91.79780695121363, -36.313643705841564, -61.49762822461577, 85.90739098722624, -56.757928955518594, 465.00462323288957, 4.415871538376601, -21.414434013546522, 113.56440703529651, -45.112409940353004, 53.78825161406179, 0.26664097945333465, -28.258923755078843, -42.32050176590207, 35.803196040537216, -70.39506867142372, -90.24302869336996, -77.41756060768171, -22.27848008001836, 39.19452542955529, -55.15298572512547, 5.1726492585802255, -30.021113117335112, -72.03055865895034, 42.93474320366964, 26.691081569376614, -39.12292082765737, 38.216711277774934, 49.477297231773115, -98.45247718526814, 4.66137581558791, 59.95678925800018, 16.749443397508408, 96.80131401928156, 82.4502019939999, 144.18707206305453, 91.81574251571527, -125.17021693865854, 9.22062468020976, 51.767765213651806, -15.516430944232367, 29.39537667070702, -3.984868630822842, 16.097742039028645, -53.31221011311894, -75.56729926828375], \"x\": [34.23779111869901, -69.69659466444989, -43.27580818561249, 108.6191274879376, 151.4034655652076, 226.93172611567562, -7.46603133525577, -204.8726940291137, -255.40765607767867, -126.52554812817789, -79.73464355925339, 78.84997893099595, -64.32765910629969, -96.08328609944564, -100.35779343289806, -87.29770690146752, 2.8143077992910834, -104.40686004875823, 35.50205335693798, -6.64423424883608, 292.95073741334704, -26.080355336447578, 60.04886509961586, 52.379188450689334, -40.574403614761074, -41.47915682631137, 14.436439097269082, -95.3855968240593, 24.864002026374628, 138.91686272109678, -66.52601260562129, 57.29718743382997, 197.78146568297024, -306.2550558473419, -63.907333923136505, -28.50577478851163, -5.741800292151155, 105.7264026751019, 79.47119312566628, -150.12039076854788, 83.7855260153335, 42.94610770668876, -74.2974579729659, 94.40101405835013, -62.958412810251374, -30.14782089727698, 24.89070386167292, 48.65675308057535, 21.19144185443969, 32.392825803568705, 0.026828726522493768, 2.538287216006451, 104.90572879216846, 76.30576531257033, -129.7603629033913, -47.91108448057578, -30.56979568964648, -10.211391858882632, -22.57368275542628, -65.60205312122577, -41.02993019647244, 277.7804601384695, 118.2558920991549, 88.35828146645561, -26.593757147321394, 15.325035598475749, 131.69030802796252, -148.89426625009588, -47.35965078479665, 25.280314319508285, -111.81685051356409, 100.89988595031913, -11.696383232279214, 59.704709057648174], \"type\": \"scatter\"}], {}, {\"linkText\": \"Export to plot.ly\", \"showLink\": true})});</script>"
      ],
      "text/vnd.plotly.v1+html": [
       "<div id=\"4f345319-05ee-4fc8-9508-48b857562dcf\" style=\"height: 525px; width: 100%;\" class=\"plotly-graph-div\"></div><script type=\"text/javascript\">require([\"plotly\"], function(Plotly) { window.PLOTLYENV=window.PLOTLYENV || {};window.PLOTLYENV.BASE_URL=\"https://plot.ly\";Plotly.newPlot(\"4f345319-05ee-4fc8-9508-48b857562dcf\", [{\"text\": [\"0<br>applause\\nact\\namericans\\namerican\\ntaxes\\ntax\\nfederal\\nnew\\nlike\\ncountry\\ncountries\\nmilitary\\ntime\\ntimes\\ngreat\\npeople\\njob\\njobs\\nmillion\\ntremendous\\ntrade\\ntrading\\nyears\\nyear\\nstates\\nstate\\nstated\\ngood\\npublic\\neducation\\ncare\\ncareful\\nnation\\nprivate\\nnational security\\nmassive\\nestablishment\\nestablishes\\nestablish\\ninfrastructure\\ntotally\\ntotal\\nincluded\\nincluding\\ninclude\\nplan\\nplace\\nplaced\\ncommunities\\ncommunity\\nfar\\nsavings\\nofficials\\ndepartment\\nend\\nends\\naction\\nactions\\ndifferent\\nnumber\\nnumbers\\nchange\\nvoter\\nvoters\\nchoice\\nrestore\\nrestoring\\nwall\\ngovernment\\nplaying\\nclinton\\ncriminal\\nlocal\\nhealth\\nwonder\\nwonderful\\ndeal\\ndeals\\nchildcare\", \"1<br>hillary\\namerican\\namericans\\ntrade\\namerica\\ncountry\\ncountries\\nclinton\\nclintons\\ntaxes\\ntax\\njobs\\neconomic\\ndeal\\ndeals end\\nschools\\nschool\\nforeign\\ndrugs\\ndrug\\nreagan\\nborders\\nborder\\nlike\\nstart\\nstarting\\nstarted\\nregulations\\nregulation\\nold\\nsave\\nimmigration\\nimmigrant\\nmillions\\nmillion\\nnafta\\nmeans\\nmeaning\\nincludes\\nincluding\\ngrowth\\ngovernment\\nallowing\\nallows\\nallowed\\ncorruption\\ncorrupt\\npresident\", \"2<br>college\\ncolleges\\namericans\\namerican\\nstudents\\nschools\\nschool\\nyear\\nyears\\nstudent loans\\njobs\\njob\\nloan\\nmillions\\nmillion\\ntaxes\\ntax\\nincludes\\nincluding foreign\\nnew\\nadministration\\nadministrators\\nadministrative\\nhillary\\ntuition\\nrepayment\\nlike\\nprogram\\nprograms\\ngreat\\ndebt\\ngovernment\\ncost\\ncosts\\nprivate\\ntimes\\ntime\\npolitical\\nequity\\neconomy\\nyoung\\nfalse\\nfalsely\", \"3<br>applause\\ngreat\\npeople\\nthank\\nthanks\\nmike\\nreince\\nworked\\nwork\\nunbelievable\\nnation\\nnational\\nnations\\ntremendous\\ntremendously\\nbrother\\nbrothers\\nrudy\\nfantastic\\nlooking\\nlook\\nbeautiful\\nbrighter\\ncommon\\nreligions\\nsecretariat\", \"4<br>israel\\niran\\nterror\\nterrorism\\npalestinians\\nstate\\nstates\\npalestinian terrorist\\ndeal\\ndeals\\ntotally\\ntotal\\nbelieve\\nminister\\npresident\\npeople\\namerican\\namericans\\noffering\\noffer\\nknow\\nknowing\\nthank\\nproblem\\ngreat\\nyears\\nyear\\njewish\\ntime\\ntimes\\nlike\\nmilitary nuclear\\ncapability\\nweapons\\nterrorists\\nsingle\\nanti\\nmaybe\\nkerry\\nally\\napplies\\napplying\", \"5<br>drugs\\ndrug\\nhillary\\nclinton\\nclintons\\namerican\\namericans\\nlike\\njobs\\ntrade\\ntreatment\\ntreatments\\ntaxes\\ntax\\ncountry\\ncountries\\nopioid\\namerica\\ndeal\\nmike\\naddicted\\naddiction\\naddictive\\ncriminals\\ncriminal\\nstarted\\nstart\\nstarting\\nprescribe opioids\\ncorruption\\ncorrupt\\ndeals reduce\\ncome\\njustice\\njustices\\nrecovery\\nimmigration\\nimmigrant\\nimmigrants\\nmedia\\nheroin\\nprescribers\\nprescribing\\nprescribed\\nbring\\nbringing\\nuse\\nregulations\\nregulation\\ntimes\\ntime\\nexpanding\\nexpand\\ngovernment\\ngovernments\\ntraffickers\\nnafta\\ncrime\\ncrimes\\nend\", \"6<br>clinton\\nclintons\\namericans\\namerican\\nemails\\nemailed\\ngovernments\\ngovernment\\ngovernance\\namerica\\nhillary\\nforeign\\ntaxpayer\\npeople\\nlike\\nmills\\nnews\\nnew\\nhaiti\\nenforcement secret\\nspecial\\nstreet\\nsanders\", \"7<br>applause\\nhillary\\ngreat state\\nstates\\nbooing\\npeople\\namerican\\namericans\\nright\\njobs\\njob killing\\nobamacare\\ntaxes\\ntax\\nclinton\\namerica\\nthank\\nthanking\\nair\\ntaxed nation\\ncorrupt\\ncorruption\\nwars\\nwar\\nleave\\nleaving\\nillegal\\nsafe\\ncriminal\\ngood\\nprobably\\nlet\\nbig\\ncommunity\\ncommunities\\ncountry\\ncountries\\njohnny\\ndemocratic\\ndemocrats\\nlife\\ntrade\\nforeign\\nimmigration\\nimmigrant\\ncities\\nnew\\ncare\\nbegin\\nbeginning\\nbegins\\narmed\\nhistory\\nplaces\\nplace\", \"8<br>applause\\nimmigrant\\nimmigration\\nimmigrants\\nnew\\nrefugee\\nisis attack\\npresident\\nclinton\\nclintons\\namericans\\namerican\\namericanism\\nrecruits refugees\\nstates\\nstate\\npeople\\nterrorism\\nterror\\nattacked\\nattacks\\nattackers\\ncommon\\nforeign\\nnation\\nnations\\nmilitary recruiting\\nthings\\nthing\\nwar\\nislamic\\nislam\\nabsolute\\nabsolutely\\nterrorist\\nsupport\\nsupported\\nscreening\\nscreen\\nlikely\\nlike\\nliked\\nmass\\nvisas\\nvisa\\nworld radical\\nincluding\\nincludes\\ninclude\\nofficers\\noffice\\noffices\\ngreat\\ntotal\\ntotally\\nmoral\\nwarning\\nwarned\\nwarn\\nintelligence\\nwounded\\nwounding\\nyear terrorists\\nkilled\\nkilling\\nkillings\\nunbelievable\\ndeath\\nold\\nsanctions\\nrights\\nright\\nmuslim\\ninternational\\nradicalization\\nobama\\nforced\\nforces\\nforceful\\nlarge\\nsaid\\nmistakes\\nmistake\\nway\\ngirls\\nallies\\nally\\nthank\\nnecessary\\nequally\\ndecisions\\ndecision\\ndecisive\\nbombing\\nbomb\\nyears\\nideology\\nideological\\npower\\npowers\\nfar\\ntoday\\niran\\nfrance\\nchristians driven\\ncountries\\ncountry\\ncommunism\\ncommunity\\ncommunication\\ntook\\nimmediate\\nimmediately\\nchristian\\namerica\\ndays\", \"9<br>american\\namericans\\nnew\\ndollar\\ndollars\\ntax\\ntaxes\\ngovernment\\nwomen\\npeople\\nschool\\nschools\\ngreat\\ncitizens\\ncitizen\\nlike\\nlikes\\neducation\\ncoming\\ncome\\njob\\njobs\\nhillary\\nstarts\\nstart\\nstarting\\nstarted\\nfamily\\nfamilies\\namerica\\nenergy\\ntrade\\ntrading\\nyear\\nyears\\nlive\\nlives\\nliving\\nfund\\nstate\\nstates\\nfederal\\npublic\\ncommunities\\ncommunity\\nrevolution\\nbest\\nsecure\\nsecurity\\nclinton\\nclintons\\ndrug\\ndrugs\\nhome\\nhomes\\nstudent\\nstudents\\nprosperity\\nprosperous\\nincomes\\ncities\\ncity\\nsaying\", \"10<br>school\\nschools\\namericanism\\namerican\\neducation\\nfailing\\namericans living\\nstudents\\nstudent\\nnew\\nfailed policies\\nforeign\\ncountry\\ncountries\\ngovernment\\nbillions\\nbillion\\nspend\\nspends\\nspending\\nstate\\nstates\\ntrade\\ntrading\\nnation\\nnational\\npolicy\\nfederal\\nlong\\nlive\\nlives\\ndollars\\ndollar\\npublic\\ngreat\\nprivate\\ncity\\ncities\\nmillion\\nbaltimore\\njob\\njobs\\nemails\\nemail\\nemailing\\nclassified\\nhillary\\ncommunity\\ncommunities\\nproduced millions\\npeople\\nproduces\\nproduce\\nchoice\\nchildren\\nopportunity\\nopportunities\\nnationwide\\npay\\npays\\nteachers\\nteacher\\nradical\\ncoming\\ncomes\", \"11<br>cheers\\ngreat\\napplause\\npeople\\nlaughter\\nright\\nrights\\namerican\\namericans\\nschool\\nschools\\njobs\\njob\\nbig\\ntime\\ntimes\\nphyllis\\nmassive\\nlike\\nlikes\\nliking\\neducation\\ngovernment\\nremember\\ndifferent\\ndifference\\ndifferently\\nhillary\\nisis\\nsaid\\nways\\nway\\nthings\\nthing\\ngenerations\\ngeneral\\ngenerals\\ntremendous\\njudges\\njudge\\nchristians\\nchristian\\nchristianity\\nbetter\\npower\\npowerful\\nstates\\nstate\\nfamily\\nfamilies\\nreligious\\nbelieve\\nprobably\\nnuclear\\nemails\\nwarfare\\ntoday\\nlove\\nloved\\nclinton\\npercent\\ngod\\naccount\\naccounts\\npoverty\\namerica\\nturn\\nturned\\nturns\\nmillions\\nmillion\\nchoice\\nissues\\nissue\\namendment\\ngot\\nmatt\\nfaith\\nfailing\\nfailed\\nfail\\nknow\\nknows\", \"12<br>american\\namericans\\nclinton\\nclintons\\nhillary\\nmilitary\\nforeign\\npeople\\ngreat\\njobs\\njob\\nsecurity\\nsecure\\ngod\\ninclude\\nincluded\\nincludes\\nincluding\\ndifferences\\ndifferent\\nlaw\\ntrade\\namerica\\nright\\nrights\\ncalled\\nsmallest\\nfbi\\nactive\\nactivity\\nschools\\nschool\\nprogram\\nprograms\\nfailed\\nfails\\nfailing\\nwars\\nwar\\nsupported\\nsupport\\nsupporting\\nsafe\\nconfidential new\\nwords\\nword\\ntoday\\nyears\\nyear\\ncountry\\ncountries\\nrepublican\\ndestroy phones\\ndestroyed\\ncreated\\ncreating\\ncreate\", \"13<br>american\\namericanism\\namericans\\namerica\\nnew\\nveterans\\nveteran\\nwork\\nworking\\nincluding\\nincludes\\nrespect\\ngreat\\ncommander\\ncommanders\\ncare\\nstate\\nstates\\njob\\njobs\\nwant\\nwants\\nillegal\\ngovernment\\nmeans\\nscreening\\nreform\\nreforming\\ntoday\\ndrugs\\nemail\\nfederal\", \"14<br>energy\\namericans\\namerican\\ntax\\ntaxes\\nnew\\njobs\\njob\\neconomic\\nincluding\\nincludes\\ninclude\\nplan\\nplans\\nnatural\\ncoal\\ncountry\\ncountries\\nrestrictions\\nrestriction\\nrestrict\\nprojects\\nfederal\\nfederally\\npolicing\\npolice\\nshale\\nshales\\nproduction\\ngas\\namerica\\nsafe\\nsafely\\nstate\\nstates\\ngrowth\\nobama\\naction\\nactions\\nviolent\\nclinton\\nsafety\\noil\\nclean\\nvirginia\\nagenda\\nagendas\\nbusiness\\nbusinesses\\npercent\\ncrime\\ncity\\ncities\\ntrillion\\ntrillions\\nincrease\\ninfrastructure\\noffshoring\\noffshore\\nproduce\\nproduced\", \"15<br>americans\\namerican\\nnew\\ntrade\\npeople\\njobs\\nhillary\\njob regulations\\ncity\\ncities\\nwater\\ncomes\\ncome\\ncoming\\nsingle\\nfree\\npolitical\\nstates\\nstate\\nclinton\\nproduction\\nproducts inside\\ninsiders\\nfailure\\nfailures\\ntaking\\nregulation\\nmassive\\nbillion\\nbring\\nbringing\\nstart\\nstarted\\nmillions\\nmillion\\nchina\\nruling\\nquality\", \"16<br>families\\nwork\\nworking\\ntax\\ntaxes\\nchildcare\\nchild care\\nparent\\nparents\\nincome\\nfamily outlined\\nfunds\\nfund\\nincluding\\nincludes\\npolicy\\npolicies\\nproviding\\nprovide\\nprovided\\ncountry\\nplans\\nplan\\nbetter\\ncongresswoman\\nsavings\\nsave\\ntoday\\naccount\\naccounts\\nlower\\namerican\\namericans\\noutlining\\noutline\\nsolutions\\nsolution\\npaid\\nregulatory\\ndollar\\ndollars\\nfederal\\ncredit\", \"17<br>american\\namericans\\nhillary\\nclinton\\ntrade\\nright\\njobs\\nnew\\nschool\\nschools\\njob regulations\\ngreat\\nmillions\\nmillion\\nincluding\\nincludes\\ncome\\nimmediately\\ngovernment\\npresident\\npresidential\\nregulation\\nprosperity\\nprosperous\\nchildren\\nbetter\\namerica\\nlawful\\nlaw\\npolicy\\ncountry\\nwant\\ntax\\nlife\\nphones\\nsaid\\nlove\", \"18<br>defensive\\ndefenses\\nnew\\nmilitary\\namerican\\namericans\\nstate\\nstates\\ndefense spending\\nnational\\nnations\\nnation\\ngovernment\\nwars\\nwar\\npolicy\\npolicies\\namerica\\ncyber\\nmissile\\ncombat\\nadditional\\naddition\\nclinton\\nbillion\\nyears\\nyear\\ncurrent\\ncurrently\\nships\\nship\\nincluding\\nlaw\\nlaws\\nobama\\nbudget\\niran\\nbased\\nbase\\nhillary\\ntechnology\\ntechnologies\\ntechnological\\nisis\\nsecurity\\nenergy\\noffice\\nwarfare\\nrebuild\\nrebuilding\\nadversaries\\ngenerals active\\ntook\\nspend\\ngeneration\\ngenerous\\npromoting\\npromote\\ntrillion\\ncrucial\\nserver\", \"19<br>american\\namericans\\nclinton\\nclintons\\ncrime\\ncrimes\\nhillary\\nmassive\\ngovernment\\nnew\\njobs\\njob\\nemail\\nemails\\nsafe community\\ncountry\\ncorrupt\\npeople\\ncorruption relates\\ntime\\nchildren\\ncommunities\\npresident\\nmillions\\nmillion\\ncriminal\\nlaw\\nlaws\\nconcerning\\nfuture\\nscandal\\nscandalous\\ndays\\nday\\nlie\\npoverty\\nappoint\\nappointing\\nimmigrants\\nimmigration\\nbig\\nofficers\\noffice\\noffices\\nofficer\\nreceived classified\\ncompletely\\ndepartment\", \"20<br>american\\namericans\\njobs\\njob\\nhillary\\ntrade\\ntrading\\nclinton\\ntimes\\ntime\\nlaw\\nlaws\\nfuture\\ncitizens\\ncitizen\\nlive\\nliving\\nlives\\nopportunity\\nopportunities\\ncountry\\ncountries\\nmedia\\nnation\\nnational\\nnations\\ngovernment\\nspeaking\\nspeak\\npersonal\\nnafta\\nmilitary\\nschools\\nschool\\npeople\\nlike\\nequal\\nequally\\nterrorism\\nterrorizing\\ndemocrats\\ndemocratic\\namerica\\npresident\\npresidency\\nnew\\nimmigrants\\nimmigration\\nimmigrant\\ninstead\\ninnocent\\nparents\\nparent\\nthing\\nthings\\ngood\\nemail\\nemails\\nfighting\\nfight\\nchange\\nmillions\\nmillion\\ntotally\\nmichelle\", \"21<br>applause tell\\npeople\\npeoples\\nlike\\nlikes\\nclinton\\nclintons\\nright\\ngreat\\namerican\\namericans\\nhillary\\nsaid\\nbig\\ntotally\\ntotal\\nbooing\\nfolks\\ndeals\\ndeal\\ndealing\\nwant\\nwants\\nthing\\nthings\\ntime\\ntimes\\nlook\\nstate\\nstates\\nknow\\nknows\\nnew\\ndebates\\ndebate\\ncountry\\ncountries\\namerica\\ncriminal\\nsomebody\\ngood news\\nremember\\nwon\\npercent\\njobs\\njob\\ntrade\\neverybody\\nlittle\\nthink\\nthinks\\ntoday\\nborders\\nborder\\ntaxes\\ntax\\ncalled\\ncalling\\ncalls\\nlooking young guy hey\\nwork\\nworking\\nworked\\nworks\\ninformation\\ntrump\\ncomes\\ncome\\ncoming\\ngovernment\\ngovernments\\nobama\\nbeautiful\\ngreatest\\nrepublican\\nrepublicans\\ncommon\\nbetter\\nlet\\nopen\\nplace\\nsecurity\\nsecure\\nnumber\\nnumbers\\nnumbered\\ncorrupt\\ncorruption\\nclean\\nbelieve\\nbelieves\\nbeliever\\ngoing\\ngot\\ntelling\\ntells\\npolitical\\npolitics\\nyears\\nyear\\ngetting\\ngets\\nimmigration\\nimmigrant\\nflorida\", \"22<br>great\\nnew\\nthank\\nrights\\nright\\npeople\\neconomic\\neconomics\\neconomically\\namerica\\nschool\\nschools\\namerican\\namazing\\nlike\\nchristian\\nben\\ngod\\ngoing\", \"23<br>new\\nnews\\namerican\\namericans\\nclinton\\njobs\\njob\\nhillary\\ntrade deals\\nforeign\\ngovernment\\ngovernments\\nreforms\\ninsider\\ninsiders\\nenergy\\ntelecom\\ninterests\\npay\\npaying\\nmillions\\nmillion\\nericsson\\nbacked\\ngetting\\ndeal\\neconomic\\nplan\\nplans\\nadministration\\ncountries\\ncountry\\nchange\\nimmigration\\nohio\\ncompanies\\ncompany\", \"24<br>people\\nimmigrated\\nimmigration\\nimmigrants\\nimmigrant\\namericans\\namerican\\nradical\\nradicalization\\nradicalism\\nradicalized\\namerica\\nsupport\\nsupports\\nsupported\\nsupportive\\ncommunity\\ncommunism\\ncommunities\\nterrorist\\nterrorists\\nislamic\\nislam\\nlaws\\ngay\\ngays\\npresident\\nclinton\\nstated\\nstates\\nstate\\nsecurity\\nhillary\\ncountry\\ncountries\\nbetter\\nlarge\\nnato\\nterrorism\\nterror\\nlaw admit\\ninside\\noverseas\\nisis\\nplan\\nplans\\nplanning\\nissues\\nissue\\nissued\\nnew\\nparents\\nparent\\nnation\\nnational\\nincreased\\nincrease\\nnumbers\\nnumber\\npolicy\\npolicies\\npolitically\\npolitical\\nwomen\\nmuslims\\nmuslim\\nadmitted\\nadmits\\nadmitting\\nguns\\ngun\", \"25<br>american\\namericans\\namerica\\nhillary\\nenforcement\\nenforce\\nnew\\nimmigration\\nimmigrate\\nimmigrants\\nclinton\\ndeals\\ndeal\\ntrade\\nofficers\\noffice\\nvote\\nvoting\\nvotes\\nthings\\nthing\\nobamacare\\nyears\\nyear\\ncountry\\ncountries\\nsupported\\nsupports\\nsupport\\nsupporter\\nlike\\ntaxes\\ntax\\nvisas\\nvisa\\nchina\\nstate\\nstates\\nnation\\nnationals\\nlatino\\nlatinos\\nschools\\nschool\\namnesty\\njobs\\njob\\ncriminal\\ncriminals\\nshooter\\nmillions\\nmillion\\nmassive\\nmassively\\nbusinesses\\nbusiness\\npresident\\nthousands\\ncompanies\\nillegal\", \"26<br>americans\\namerican\\nhillary\\nclinton\\npeople\\nattacks\\nattack\\nmembers\\ncitizens safe\\nsecurity\\nsecured\\nlife work\\ninsiders attacking\\ngovernment\\nworking\\ncampaign\\nstates\\nstate\\nlaw\\nlaws\\nfund\\nfunding\\ncity\\ncities\\nnew\\nisis\\ninsider\\nplanned\\nplan\\nfailing\\nfailed\\nschools\\nschool\\namerica\\nsexist\\ncrime\\ndifferent\", \"27<br>hillary\\nclinton\\nclintons\\nnew\\namerican\\namericans\\npeople\\namerica\\npresided\\npresident\\npushing\\npush\\nmassive\\nfailed\\nchange\\ntax\\ntaxes\\nlet\\nendless\\nwages\\nwage\\ntrade\\nfriend\\nfriends\\nwords\\namazing\\nreal\\nworkers\\npersonal\\nperson\\ncome\\ncoming\\ncomes\\ndollars\\ndollar\\nsingle\\nmissile\\ndefense\\njobs\\npolitical failure\\nchina\\ngetting\\ngets\\nnation\\nnational\\ncountry\\ncountries\\nlike\\nfailures\\ncore\\ndefend\\nputin\\ninsiders\\nnuclear\\neconomic\", \"28<br>american\\namericans\\ncountry\\ncountries\\ncriminal\\nimmigration\\nimmigrant\\nimmigrants\\nborder\\nborders\\nvisa\\nvisas\\npeople\\njustice\\nforced\\nforce\\nforceful\\nday\\ndays\\nnational\\nnation\\ncitizens\\nfederal\\nhillary\\nopen\\nreleased\\nreleases\\nperiod\\namnesty\\narrive\\ncrimes\\ncrime\", \"29<br>donald\\nquestions\\nquestion\\ninaudible\\npeople\\ngreat\\nsaid\\nthing\\nthings\\nlike\\nlikes\\nyes\\ncountry\\ncountries\\ntrump\\npresident\\npresidency\\npresidents\\ngets\\ngetting\\ntime\\ntimes\\nago\\nclinton\\nbig\\nguy\\nguys\\njohn\\nnews\\nnew\\nhillary\\ndifferent\\ndifference\\nknow\\nknows\\njob\\njobs\\nputin\\ntotally\\ntotal\\nrussia\\ncase\\ncases\\nlook\\nlooks\\nlooked\\nlooking\\nprobably\\ngood\\nnumbers\\nnumber\\ntrade\\ngoing\\ntremendous\\nbiggest\\nchina\\nright\\nrights\\nstarted\\nstart\\nnato\\nsomebody\\ngeneral\\ncampaign\\ncampaigns\\nmassive\\ndevelopers\\ndevelopments\\ndeveloper\\ndevelop\\nmaybe\\nobama\\ntalk\\ntalking\\ntalked\\ngovernment\\nahead\\nnight\\ntelevision\\npage\\npages\\nlied\\nlies\\nlet\\nletting\\nrepublican\\nmike\", \"30<br>american\\namericans\\nnew\\nnews\\nhillary\\nclinton\\nclintons\\npeople\\namerica\\njobs\\njob\\ncountry\\ncountries\\nbig\\ncome\\nstreet\\nstreets\\npolitical\\ngreat\\nregulations\\nregulation\\nyear\\nyears\\nnation\\nnational\\nnationalities\\ngetting\\ncitizens\\nunleashed\\nunleash\\nofficers\\noffice\\nschool\\nschools\\ndeals\\nmedia\\nsave\\nfailed\\nvote\\nvoting\\nhomicide\\naccess\\nmillions\\nmillion\\nstate\\nstates\\nislamic\", \"31<br>american\\namericans\\nclinton\\nclintons\\nnew government\\nhillary\\nstarts\\nstart\\nstarting\\nstarted\\npolicy\\npolicies\\nstreet\\nstreets\\npeople\\ngetting\\ntrade\\nbig\\ninterests\\ntrump\\nsupport\\nsupports\\ncoming\\ncome\\nregulation\\nregulations\\nincluding\\nincludes\\nschools\\nschool\\ndeals\\nsingle\\ncities\\ncity\\namerica\\nlike\\nfinancial\\nrecent\\nrecently\\ncountry\\ncountries\\nclass\\njobs\\njob\\nsave\\nfighting\\nfight\\naccess\", \"32<br>american\\namericans\\nnew\\ntaxes\\nenergy\\nmassive tax\\nincludes\\nincluding\\nincluded\\ndollars\\ndollar\\ngreat\\namerica\\nwomen\\nclinton\\nclintons\\noffice\\noffices\\nschool\\nschools\\nbig\\nstate\\nstates\\nstarts\\nstart\\nstarting\\nstarted\\ntoday\\npeople\\ntrade\\nsavings\\nsave\\nfederal\\nforgotten\\nunleash\\nunleashed\\nnation\\nnational\\ncoming\\ncome\\nincome\\nreduce\\nspecial\\njobs\\njob\\nhillary\\nfunds\\nfund\\ndrug\\ndrugs\\nquality\\nhealth\\ngrant\", \"33<br>american\\namericans\\nmillions\\nmillion\\namerica\\nstate\\nstates\\nclintons\\nclinton policies\\njobs\\njob\\npolicy\\nhillary\\ncountry\\npoliticians\\nfuture\\nlaw\\nliving\\nlive\\nlives\\ncivil\\ncitizen\\ncitizens\\nchildren\\nprovided\\nprovide\\nproviding\\ncrime\\nworld\\ntrump\\nlooks\\nlook\\ninsiders\\nschools\\nschool\\nviolence\\nyears\\nyear\\nbest\\nfreedom\\nnafta\\neffective\", \"34<br>american\\namericans\\ntaxes\\ntax\\njobs\\njob\\nnew\\ngreat\\nlaw\\nlaws\\namerica\\nschool\\nschools\\ncities\\ncity\\nincludes\\nincluding\\nclintons\\nclinton\\nafrican middle\\ncommunities\\ncommunity\\nchange\\nfailed\\nfailing\\ntrade\\nnearly\\neducation\\ngreatest\\nmassive\\ncompany\\ncompanies\\nhillary\\nsavings\\nsaved\\nsave\\nequally\\nglass\\nproposing\\npropose\\nproposal\\nfinancial reforms\\npeople\\nreform\\nopponent\\nopponents\\nworkers\\ndetroit\\ninfrastructure\\nbusiness\\nbusinesses\\nnation\\nnational\\nnations\\nwages\\nasking\", \"35<br>americans\\namericanism\\nnew\\ntrade\\ntaxes\\ntaxing\\ntax\\njobs\\njob\\namerican economic\\ngrowth\\nregulations\\nregulating\\nregulation\\nplan\\nplans\\nmillion\\nmillions\\nenergy\\ngreat\\namerica\\nclinton\\nincomes\\nincome\\npeople\\ninfrastructure\\npolicy\\npolicies\\nfederal\\nincluding\\nincludes\\ndollar\\ndollars\\nproduction\\nproduct\\nproductive\\nwealth\\nyears\\nyear\\ncome\\ncomes\\ncoming\\nsavings\\nsave\\nsaved\\ncalls\\ncompletely\\ncomplete\\nnation\\nnational\\nrate\\nrates\\nworking\\nwork\\nworked\\nbusiness\\nreforms\\nreform\\nreduce\\nreduces\\nreduced\\nsingle\\ncare\\neconomy\\ncost\\ncosts\\nproperty\\nclass\\npower\\nbenefit\\nearned\\nearning\\nentitlements\", \"36<br>american\\namericans\\njobs\\nnew\\ncrime job\\ntrade\\nschools\\nschool\\nrefugee\\nrefugees\\ntax\\ntaxes\\ncomes\\ncome\\ncoming\\nsafe\\npeople\\nregulations\\nregulation\\ngovernment\\nmillions\\nmillion\\ngreat\\nfamilies\\nfamily\\nhelp\\nhelping\\nfree children\\nstate\\nstates\\niowa\\npoverty\\ncongress\\nnation\\nnational\\nhillary\\ndemocrat\\ndemocratic\\nclinton\\npolicy\\npolicies\\nincomes\\nprovide\\nproviding\\nlowers\\nlower\\nsingle\\nbenefits\\nway\\nopponent\", \"37<br>applause\\namerican\\namericans\\nbooing\\npeople\\njobs\\njob\\nclinton\\ndeal\\nmedia\\nthank\\nisis\\nstate\\nstates\\nhillary\\ntotally\\ntotal\\ntrade deals\\npolicies\\npolicy\\nright\\nfolks\\namerica\\nworld\\nhappening\\nhappen\\nhappened\\nlike\\nhorrible\\nhorribly\\nenergy\\ncontrol\\ncontrols\\nsaw\\ndemocratic\\ndemocrats\\ncitizens\\ncitizen\\ncountry\\ncountries\\nnew\\npolling\\npolls\\nrefugee\\nrefugees\\nforeign\\nnation\\nnationals\\nnational\\nlarge\\nlargely\\ndisastrous\\nglobalism\\nglobal\\nday\\ndays\\nplay\\nplaying\\nbig donors\\nmississippi\\nfuture\\ntaxes\\nbad\\npolitical\\npolitically\\ntime\\ntimes\\nwages\\nvote\\nvoted\\nvoting\\nvotes\", \"38<br>applause\\npeople\\nright\\nrights\\ngreat\\nterrorism\\nterror\\nhillary\\nlike\\nlikes\\nliked\\nsaid\\ntime\\ntimes\\nthink\\nthinking\\nbig\\nisis\\neverybody\\nfolks\\nknow\\nknows\\nknowing\\ncountry\\ncountries\\ndifferent\\ndifferences\\ntotal\\ntotally\\nwant\\nwanted\\nwants\\nsenate\\nsenator\\nobama\\ncome\\ncoming\\ncomes\\nstate\\nstates\\ntrump\\npercent\\nclinton\\nclintons\\nraising\\nraise\\npay\\npaying\\nnew\\nnews\\nstarted\\nstart\\nstarting\\nguy\\nguys\\ndonald\\ngood\\nmilitary\\nlook\\nlooking\\nraised tremendous\\ngreatest\\nreal\\ntough\\ndeal\\ndeals\\nday\\ndays\\nprobably\\nprimaries\\nprimary\\nrefugees\\nrefugee\\nbillion\\nbillions\\ntax\\ntaxes\\nlong\\nworked\\nworks\\nworking\\nwork\\nworkings\\npolitics\\npolitical\\nlargely\\nlarge\\nremember\\ntoday\\nputin\\noil\\nsaying\\nsays\\nplace\\nplaces\\nmillion\\nmillions\\nlove\\nloving\\nreagan\\ntrade\\njapan\\nwall\\nwalls\\neconomic\\neconomically\", \"39<br>applause\\ngreat\\namerican\\namericans\\npeople\\npremium\\ncare\\njob\\njobs\\ninsurance\\ninsurers\\nhealth\\nobamacare\\nbelieved\\nbelieve\\nbelieving\\npennsylvania premiums\\nclinton\\ntotally\\nworkers\\nincredible\\nbringing\\nbring\\ntax\\ntaxes\\nprice\\nprices\\nwork\\nworking\\nstate\\nstates\\npolitical\\npolitics\\nthank\\nthanks\\nschool\\nschools\\nlike\\nfamilies\\nfamily\\nplan\\ncongress\\nmaster\\ndeal\\nprivate\\ndoctor\\ndoctors\", \"40<br>applause\\npeople\\nright\\ngreat\\ntaxes\\ntax\\ngood\\nhillary\\nlike\\nliked\\nknow\\nknows\\nsaid\\nobama\\ngot\\nfolks\\nbig\\nlook\\nlooks\\nlooked\\nlooking\\nbad\\ngonna\\nbusinesses\\nbusiness\\nwant\\nwanted\\nwanting\\nwants\\npercent\\nnew\\nworking\\nwork\\nworked\\nthank\\namericans\\namerican\\ncountry\\ncountries\\njustices\\njustice\\nhappens\\nhappen\\nhappening\\nhappened\\nnumber\\nnumbers\\nway\\nthings\\nthing\\nmillion\\nmillions\\nreal\\ngeneral\\ngun\\nguns\\nguy\\nguys\\ntime\\ntimes\\nfrance\\namerica\\nbeautiful\\nlittle\\neconomic\\njob\\njobs\\ndifferent\\nproblem\\nproblems\\ngoing\\nair\\nclinton\\nago\\nnational\\nprobably\\ncoming\\ncome\\ncomes\\nstate\\nstates\", \"41<br>hillary\\namerican\\namericans\\nclintons\\njobs\\njob\\namerica\\nclinton wants\\nnew\\ndeal\\nmichigan\\ndemocrats\\ndemocratic\\ndemocrat\\ntrade\\nrefugees\\nrefugee\\nincludes\\nincluding\\nwant\\nchina\\nschoen\\nemails\\nemail\\ncriminal\\nbelieve\\nbelieving\\nbelieves\\nhouse\\nlaid\\nwashington\\nrich\\nstate\\nstates\\nchange\\nschools\\nschool\\nradicalism\\nradical\\nfailing\\nfailed\\ngreat\\nnafta\\npolitical\\nwar\\nwars\\ntax\\ntaxes\\npremium\\ncrime\\nillegal\\nsupporters\\nsupport\\nsupported\", \"42<br>american\\namericans\\namerica\\nclinton\\nclintons\\nincludes\\nincluding\\nnew\\ntax\\njobs\\njob\\ngovernment\\nhillary\\ncountry\\ncountries\\ntrade\\nvote\\nflorida\\nair\\nlike\\nhouse voting\\nplan\\nemails\\nemail\\nmeans\\nmeaning\\ncoast\\nstart\\nstarted\\nstarting\\ndeal\\ndeals\\nimmigration\\nimmigrant\\nimmigrants\\nnational\\nnation\\nrepublicans\\nrepublican\\nend\\nends\\nending\\nforeign\\nthing\\nthings\\nreagan\\nenforcement\\nson\\nhoover\\ndepleted\\nfather\", \"43<br>people\\napplause\\nindiana\\ntaxes\\ntaxed\\ntax\\ngreat\\njobs\\njob\\nsaid\\nleader\\nleaders\\ngovernor\\nmike\\ntremendous\\npresident\\npence\\ngot\\nclinton\\nnew\\nthings\\nthing\\nexecutive\\nbig\\nincredible\\naway\\ntotally\\ngeneral\\nbobby\\nobama\\nparty\\neverybody\\ntrump\\nmillion\\nmillions\\npolicy\\nfund\\nfunding\\nschool\\nschools\\nlike\\nlikes\\nhillary\\ntrade\\nhorrible\", \"44<br>hillary\\nclinton\\nclintons\\njobs\\njob\\nimmigrants\\nimmigration\\nimmigrant\\namericans\\namerican\\namericanism\\nchina\\nnew\\nisis\\namerica\\nmillion\\nmillions\\ndepartment\\npolicy\\npolicies\\ndeals\\ndeal\\ndealings\\ntrade\\ngreat\\nforeign governments\\nstarted\\nstart\\ncampaign\\nsecurity\\nradical\\ncountry\\ncountries\\npeople\\nmiddle\\nregimes\\nregime\\nmassive\\nmendoza\\nsecret\\nsecrets\\nambassador\\nnote\\nnotes\\nwashington\\nhanding\\nhanded\\nhand\\nhands\\ncome\\ncoming\\nbusiness\\nbusinesses\\nmaking\\ncompanies\\ncompany\\nworkers\\nworker\\nsupported\\nsupporters\\nsupport\\nsupporting\\nsupports\\nsupporter\\npresident\\npresidency\\nbig\\nwomen\\ndeath\\nrules\\nruled\\nworld\\nstate\\nstates\\nlarge\\nsanctions\\ngovernment\\ngoverned\\nmanufacturing\\nmanufactur\\nincludes\\nincluding\\nanti\", \"45<br>immigration\\nimmigrants\\nimmigrant\\namerican\\namericans\\npeople\\ngreat\\nillegal\\nillegally\\nnew\\nnews\\ncountry\\ncountries\\ncriminal\\ncriminals\\nincluding\\ninclude\\nborder\\nborders\\nfederal\\nlike\\nlikely\\nvisa\\nvisas\\nlaws\\nlaw\\nlawful\\nstate\\nstates\\nnumber\\nnumbers\\nclinton includes incredible\\noffice\\noffices\\nofficers\\nsecurity\\nsecure\\ndeported\\ndeportation\\ndeportable\\ndeportations\\ndeport\\namnesty\\namnesties\\nenforce\\nenforced\\nenforcement\\nworkers\\nworker\\nright\\nfolks\\nhillary\\ntalk\\ntalks\\ntalking\\nincredibly\\nlegal\\nlegally\\nlegalized\\nwork\\nworking\\nworked\\nworks\\nissues\\nissue\\nissuing\\nvets\\nvetting\\nvetted\\nlet\\nindividuals\\nindividually\\npowerful\\npower\\npowers\\nmedia\\nadministration\\nbelieve\\nmillion\\nmillions\\ncrime\\ncrimes\\npolicy\\npolicies\\nyear old\\ncrisis\\nremoval\\nremoved\\nremove\\nremoving\\namerica\\nproblem\\nproblems\\nlocal\\nthank\\nyears\\nnation\\nnational\\nnations\\ndeath\\ndeaths\\nhome\\ntotally\\ntotal\\nglobe\\nbegin\\nbeginning\\nobama\\npresident\\nhouse\\nhousing\\ntimes\\ntime\\ncomes\\ncome\\ncoming\\nforce\\nforced\\nspecial\\ndirectly\\nprogram\\nprograms\\ninterests\\ninteresting\\nwant\\nwanted\\nwanting\\nfacing\\nface\\ntremendous\\ntremendously\\nsupport\\neverybody\", \"46<br>americans\\namerican\\nnew\\nnews\\npeople\\nhillary\\njobs\\njob\\ntrade deals\\ntax\\ntaxes\\nlike\\nbig\\namerica\\nmillions\\nmillion\\nclinton\\nclintons\\nsafe\\ncome\\nenergy\\nstreet\\nstreets\\nstate\\nstates\\ndeal\\nyears\\nyear\\nmedia\\ninterests\\ngets\\ngetting immunity\\nclass\\nislamic\\nexecutive\\nexecutives\\npolitics\\npolitical\\nvoters\\nvoter\\nregulations\\nregulation\", \"47<br>applause\\njobs\\njob\\namericans\\ngreat\\ntrade\\namerican future\\nlike\\nbooing\\nstate\\nstates\\ntaxes\\ntax\\nhillary\\nmichigan\\ncountry\\ncountries\\nnews\\nnew\\ntotal\\ntotally\\namerica\\nlook\\nlooks\\npolicy\\nlost\\npeople\\ngovernments\\ngood\\ngoods\\nfailing government\\nmotor\\nmotors announced\\nfailed\\nrights\\nbig\\nhappening right\\nclinton policies\\nscreening\\nhappen\\nhappened\\ntremendous\\ntrump\\nstrong\\ncommon\\nrefugee\\nrefugees\\ntpp\\nworker\\nworkers\\npoliticians\\nmoney\\naway\\ntime\\ntimes\\ncar\\ncars\\nisis\\nequally\\ntoday\", \"48<br>americans\\namericanism\\ntrade\\ntrading\\namerica\\namerican people\\nimmigration\\nnew\\nnews\\nillegal immigrants\\ngreat\\nimmigrant families\\nillegally\\nborder\\nborders\\ntonight\\ntaxes\\ntax\\ngreatest\\nwork\\nworks\\nworking\\ndeal\\ndeals\\ncountry\\ncountries\\nlaw\\nlaws\\nlawful\\nnearly\\njobs\\njob\\nnation\\nnational\\nnations\\npolicy\\npolicies\\njustice\\njustices\\neconomic\\nclinton\\nmassive\\nviolence\\nwant\\nwants\\nforeign\\nfamily\\nbelieve\\nbelievable\\nbelieving\\nbelievers\\nmillion\\nmillions\\noffice\\nofficers\\nsupporters\\nsupport\\nsupported\\ncommunities\\ncommunity\\ncitizens\\nsafe\\nstate\\nstates\\nterrorism\\nterror\\npolitically\\npolitical\\npolitics\\nworkers\\nfacts\\nfact\\nmiddle\\nworld\\ndifference\\ndifferent\\nyear\\nyears\\ngoods\\ngood\\nprotecting\\nprotection\\nprotected\\nprotect\\nprotects\\nfree\\nrecent\\nrecently\\nmass\\naway\\ntotal\\ntotally\\ncities threaten\\nthreatens\\nthreatening\\nsyria\\ncontinue\\ncontinued\\ntoday\\npresidency\\npresident\\nbad\\nbrother\\nobama\\nfair\\nmary\\nsarah\", \"49<br>americans\\namerican\\nclinton\\nclintons\\nveterans\\nveteran\\ntime\\ntimely\\ncare\\ninclude\\nincluding\\nincludes\\nincluded\\nhillary\\ntimes described\\nemails\\nemployees\\nemployee\\nsafe\\nservice\\nrecent email\\nreal\\nlaw\\nlaws\\nlawful\\nhealth\\npublic services\\ncities\\nmillions\\nmillion\\ndescribes\\nprivate\\nrecently\\npolice\\npolicing\\nfederal\\npersonal\\nperson\\nincreasing\\nincreased\\nincrease\\nneeded\\nneed\\nneeds\\ndestroys\\ncountry\\nreforming\\nreforms\\nreform\\nbad\\nwaiting\\nwait\\nmental\\nnote\\nnotes\\nofficers\\ncorporations\\ncorporate\\namerica\\namericas\\nfacilities\\nfacility\\nhighest\\nruling\\nrules\\nsave\\nsaving\\nsaved\\ngiving\\nlegislation\\nlegislative\", \"50<br>policies\\ntrade\\namerica\\namerican\\namericans\\nnew foreign policy\\npresident\\npresidency\\nclinton\\nislam\\nislamic\\nstates\\nstate\\nobama\\nmilitary\\nfriends\\ncommon\\ndefense\\ncountry\\ncountries\\nfinancial\\nwar\\ntoday\\nchina\\ninterests\\ninterested\\nwestern\\ngreat friend\\ndeal\\nnational\\nnation\\nnations\\nsecurity\\nimporting\\nimportant\\ninstead\\nstruggles\\nstruggle\\nway\\nways\\nallies\\nally\\ngovernment\\ntaking\\ntakes\\nmassive\\noil\\nbest\\nchallengers\\nchallenges\\nchallenge\\nrespect\\nrespects\\nrespected\\nequipment\\niran\\nbuilding\\nbuild\\nradical\\nclear\\njobs\\njob\\nmissions\\nmission\\nfinally\\nhistory\", \"51<br>applause\\nclinton\\njob\\njobs\\namericans\\namerican\\nisis\\nright\\npeople\\ncountry\\ncountries\\nhillary\\nclintons personal\\ngreat\\nobamacare\\nwants\\nwant\\nobama\\nstate\\nstates\\nthing\\nthings\\ntimes\\ntime\\nold\\nbooing\\nbrand new\\ntotal\\ntotally\\nforced\\nforce\\ntaxes\\ntax\\nimmigration\\nimmigrants\\nimmigrant\\ncorruption\\ncorrupt\\nwin\\nwinning\\nlike\\nwow\\nrefugees\\nrefugee\\ngood\\nohio\\nbuildings\\nbuild\\nbuilding\\nperson\\nnafta\\nwikileaks\\nwikileak\\nimportant\\nthink\\ndonald\\nago\\nwars\\nwar\\ntrade\\ngetting\\nmassive\\nmassively\\nyears\\nyear\\ngod\\nadults\\nterm\\nterms\", \"52<br>applause\\npeople\\nright\\nbooing\\ngreat\\nlike\\nbig\\npolitics\\nhillary\\nnew\\nnews\\nclinton\\nclintons\\nwin\\nwinning\\njobs\\nsaid\\ncorrupt political\\ngets\\ngetting\\ngood\\ngoods\\namerica\\nnational\\nnations\\nnation\\nstart\\nstarted\\nstarting\\nstate\\nstates\\nfolks\\ngreatest\\njob deal\\ntoday\\ntrade\\nplace\\nplaces\\nhorrible\\ncorruption\\ngeneral\\ngenerations\\ngenerals\\nsafe\\ncountry\\ncountries\\ntime\\ntimes\\namerican\\namericans\\nmassive\\nnorth\\nlook\\nlooked\\nthing\\nthings\\nthinking\\nthink\\ncarolina\\npercent tax\\ntaxes\\nlaughter\\ntrump\\nmilitary\\nyears\\nyear\\nwent\\nobamacare\\nobama\\nreal\\ndeals\\ndealing\\nenergy\\nold\\nmike\\ncities\", \"53<br>trump\\ngreat\\npeople\\napplause country\\nchina\\nright\\nbig\\ngood\\nlike\\nnew\\nnews\\nbillion\\ncountries\\ngot\\nmilitary\\nneed\\nneeds\\ntrillion\\nmexico\\nway\\nmanufacturing\\nmanufacturer\\nmanufactured\\nsaid\\nwant\\nwants\\nwanted\\nwall\\nnumber\\nthings\\nthing\\nairports\\nairport\\neverybody\\nobamacare\\nreal\\nnice\\nbuilds walls\\nthousands\\ndeal\\ndeals\\njobs\\njob\\nfully\\nzero\\nbuild\\nbuilding\\nbuildings\\niraq\\nold\\ngonna\\nperson\\nsomebody\\nbridges\\nbridge\\nfree\\nbeat\\nbeating\\npresident\\nstates\\nstate\\ncars\\ncar\\namerica\\namericas\", \"54<br>hillary\\nclinton\\nclintons\\ngovernment\\ngovernments\\namerica\\ncountry\\ncountries\\ntrade\\nimmigration\\nimmigrants\\namerican\\namericans\\nquote\\nobama\\ncitizens\\ncitizen\\nelection\\nelections\\nelected\\ncome\\ncomes\\nvoting\\nvote\\nvotes\\nofficials\\nofficial\\nforeign\\nexecutive\\nclassified\\ncorruption\\ncorrupt\\nexpand\\nexpanding\\nenforcement\\ncriminal\\nmillion\\nmillions\\nsecurity\\nsecure\\nsaid\\npresident\\ndemocrats\\ndemocratic\\nkennedy\\ncontrol\\ncontrols\\nend illegal\\nstate\\nstates\\nsupporting\\nsupport\\nvoters\\nvoter\\nnon\\nmeans\\nmeaning\\nborders\\nborder\", \"55<br>american\\namericans\\namerica\\nclinton\\nlike\\njobs\\njob\\nyears\\nyear\\ncountry\\npeople\\nhillary supporters\\ntrade\\nthings\\nthing\\nforeign countries\\nfailed\\nfailing\\ndeals\\ndeal\\nold\\ncriminal\\ngovernment\\ncitizens\\ntaxes\\ntax\\nimmigration\\nimmigrant\\nimmigrants\\noffice\\nofficer\\nofficers\\nunleashing\\nunleashed\\nunleash\\nschools\\nschool\\nnation\\nnationals\\nborder\\nborders\\ngreat\\nnew\\nend\\npublic\\nstudents\\nshooter\\nsupported\\nsupporter\\nsupport\\nfactories\\npresident\\nopen\\nfederal\\nmassive\\nmassively\\nobama\\nveterans\\nveteran\\nhomicide\\nsarah\\naffordable\", \"56<br>americans\\namerican\\namerica\\njob\\njobs\\nclinton\\nhillary\\ntrade\\ncountry\\nlike\\nforeign countries\\nyears\\nyear\\ndeals\\ndeal\\nnew\\nimmigration\\nimmigrant\\nimmigrants\\ncriminal\\nvote\\nvoting\\ntaxes\\ntax\\nfailed\\nfailing\\nthings\\nthing\\nstate\\nstates\\ncome\\nnation\\nnationals\\nold\\npeople\\nmassive\\nmassively\\noffice\\nofficer\\nofficers\\nborder\\nborders\\ngreat\\nfactories\\nsecure\\nsecurity\\nschools\\nschool\\nlatinos\\nlatino\\npresidential\\ncitizens\\ncitizen\\nshooter\\nisis\\nobamacare\\nopen\\nfederal\\nveterans\\nveteran\\nlost\\nwages\\nworld\\nsarah\\njustice\\njustices\\nhuge\", \"57<br>american\\namericans\\ntrade\\njob\\njobs\\nelection\\nelections\\nelected\\nmillion\\nmillions\\nlike\\nhillary\\namerica\\nvoters\\nvoter\\ngovernment\\ncountry\\ncountries\\nclinton\\nnation\\nnational\\nyears\\nyear\\nborder\\nborders\\nstate\\nstates\\nimmigration\\nimmigrant\\nillegal immigrants\\nofficials\\nvoting\\nvote\\nquestion\\nquestions\\nquestionable\\nrefugees\\nrefugee\\ntaxes\\ntax\\nbig\\npeople\\nforeign\\ninterests\\ncities\\ncompanies\\nohio\\ncriminal\\ncitizens\\ncitizen\", \"58<br>american\\namericans\\ntrade\\njob\\njobs\\ncountries\\ncountry\\ngovernment\\nyears\\nyear\\nhillary\\nforeign\\nmillion\\nmillions\\namerica\\nlike\\nnation\\nnational\\nnearly\\nold\\nincluding\\ninclude\\nincludes\\nincluded\\nbureaucracy\\nbureaucracies\\ndeals end illegal\\ndeal\\nreforms\\nreform\\nofficials\\ncompanies\\nborder\\nborders\\nstate\\nstates\\nvoting\\nvote\\nraised\\nraising\\nnorth\\nbig\", \"59<br>hillary\\namerican\\namericans\\njobs\\njob\\ncorruption\\ncorrupt\\namerica\\ncriminal\\npeople\\nlike\\ngovernment\\nobamacare\\ncountry\\ncountries\\njustice\\njustices\\npremiums\\npremium\\nillegal\\nnew\\nfuture\\nfutures\\ntrade\\ntaxes\\ntax\\nvoter\\nvoters\\nclinton\\nclintons\\nair\\ndemocratic\\nhighest\\ndemocrats\\ncancer\\nregulation\\nkris\\noffice\\nofficers\\nofficer\\nyear\\nyears\\nlosing\\nlose\\nfighter\\nfighters\\nstop\\nstopped\\nforeign\\ndeported\\ndeportation\\ndeport\\nnational\\nnation\\naffordable\\ncrimes\\ncrime\\nlives\\nlive\\nliving\\nwent\", \"60<br>american\\namericans\\nhillary\\njobs\\njob\\nmichigan\\nclinton\\nschools\\nschool\\ndeal\\nnew\\nnews\\ntrade deals\\nstate\\nstates\\ncountry\\ncountries\\namerica\\ninterests\\ntpp\\ncorrupt\\ncorruption\\ncomes\\ncoming\\ncome\\nstreet\\nlike\\npolicies\\npolicy\\nimmunity\\nclass\\npolitical\\npolitics\\nwork\\nworking\\ndonors\\ntax\\ntaxes\\nmillion\\ngreat\\npaid\\ndetroit\\njustice\\njustices\\nman\\nlifting\\nregulations\\nregulation\", \"61<br>people\\nclinton\\nclintons\\ngreat\\ntimes\\ntime\\nmedia\\npower\\npowers\\npowerful\\nfalse\\nattack\\nattacks\\nattacking\\nglobalization\\npolitics\\nstories\\nstory\\ncontrol\\ncorrupt political\\nnew government controlled\\ncorruption\\ncorrupted\\nglobal special\\ninvolves\\ninvolved\\njobs\\ncriminals\\ncriminal\\nsuccessful\\ntowns\\nlike\\nlikes\\nlikely\\nworking\\nworked\\nwork\\nyear\\nyears\\nmassive\\nludicrous\\nfinancial\\nstate\\nstates\\nstated\\ntrade\\nlies\\nlied\\ndiscredited\\nneed\\nneeds\", \"62<br>hillary\\ncorruption\\ncorrupt\\ngovernment\\ngovernments\\nlegal\\npublic\\nassociates\\nvoters\\nvoter\\npolitical\\ndeliberate\\nconfidential\\ngetting\\nlied\", \"63<br>applause\\namerican people\\nnew\\nnews\\ngreat\\nlike\\nhillary\\npercent\\nbooing\\njobs\\njob\\nobamacare\\namericans\\ntime\\ntimes\\nincluding\\nincluded\\nincludes\\nstate\\nstates\\nclinton\\nbig\\ndeals\\ndeal\\ngeneral\\nright\\nyear\\nyears\\nsaid\\nleaving\\nleave\\ngrowth\\nnational\\nnation\\nwant\\nwants\\nwanted\\nisis\\nmoney\\ncampaign\\ncampaigning\\ntrade\\nwin\\nwinning\\ngot\\npremiums\\npremium\\ncome\\ncomes\\ncoming\\ncompanies\\ncompany\\ncountry\\ncountries\\ncorruption\\ncorrupt\\ndrugs\\ndrug\\ngood\\ngreatly\\nborders\\nborder\\njonathan\\nsarah\\ncare\\ngonna\\npersonal\\nperson\\nmean\\nmeans\\nknow\\nknows\\nhampshire\\ntrump\\nmillion\\nlarge\\nreal\", \"64<br>americans\\namerican\\nnew\\nnews\\nhillary\\njobs\\njob\\nimmigration\\nimmigrants\\npeople\\nwords\\nword\\nclinton\\ntrade\\nislamic\\nislam\\npolicy\\npolicies\\ncoming\\ncome\\noverseas\\nmilitary\\nwarfare\\namerica\\ncountry\\ncountries\\nisis\\nmurder\\nmurdering\\ndeals\\ndeal\\ncity\\ncities\\nsupporters\\nsupport\\nsupported\\ndestroy\\ndestroying\\ndefeated\\ndefeat\\nrefugees\\nbillion\\nenergy\\nfailures\\nfailure\\nlarge\", \"65<br>american\\namericans\\njob\\nbring jobs\\nnew\\nnews\\npeople\\npolicies\\npolicy\\ncity\\ncities\\ncommunity\\ncommunities safe\\ncountry\\nsafely\\npoliticians\\nlaw\\nlaws\\nbad\\nhillary\\nhurt\\nhurts\\nhurting\\nyears\\nyear\\npolice\\npolicing\\ncitizens\\ncitizen\\ncrime\\ngood\\nold politician\\ntimes\\ntime\\nforeign\\nrudy\\nfuture\\nmedia\\nopportunities\\nopportunity\\ninnocent\\ninsider\\ninsiders\\npolitical\\nnearly\\nequal\\nequally\\nstates\\nstate\\namerica\\nsecurity\\nsecure\\nwashington\\nemail\\nterrorism\\nterrorizing\\nviolent\\nfavor\\nfavors\", \"66<br>tax\\ntaxes\\nhillary\\namerica\\njobs\\njob\\npeople\\ngreat\\nimmigrant\\nimmigration\\nimmigrants\\ntime\\ntimes\\nmassive\\nclinton\\nclintons\\nbusiness\\nbusinesses\\namerican\\namericans\\ngovernment\\ntrade deals\\nprivate\\ndeal\\nlike\\nschools\\nschool\\nmilitary\\ntoday\\ndollar\\ndollars\\ncriminal\\nbank\\nbanks\\nforeign\\nlaws\\nlaw\\nlawful\\nincluding\\nsafe\\ncolorado\\ncompany\\ncompanies\\neconomic revitalization\\nrevitalized\\nrevitalize\\nfail\\nfailing\\nfailed\\ncorruption\\ncorrupt\\ncorrupted\\nreal estate\\nillegal\\nnation\\nnationals\\nnational\\nsupports\\nsupporter\\nsupport\\ndrugs\\ndrug\\nthing\\nthings\\ntough\\nshooter\\nofficial\\nofficials\\nlives\\nliving\\nstarting\\nstarted\", \"67<br>americans\\namerican\\npeople\\nnew\\ncome\\ncomes\\ncoming\\nregulations\\nregulation\\ncountry\\njobs\\njob\\nmillions\\nmillion\\nschool\\nschools\\nstates\\nstate\\nobama\\ndeal\\nmilitary\\ntrade deals\\nwant\\ndisastrous\\nplay\\nnafta\\nofficers\\noffices\\noffice\\ncity\\ncities\\nrich\\ndemocratic\\nhispanic\\nlaw\\nlaws\\npublic\\nregime\\nreform\\nstreet\", \"68<br>american\\namericans\\ntaxes\\ntax\\ntaxed\\njobs\\njob\\nnew\\nclinton\\npolicy\\npolicies\\nhillary\\neconomic\\nenergy\\ntrade deals like\\nbusiness\\nbusinesses\\nregulation\\nregulations\\nregulate\\nregulated\\nnearly\\ndetroit\\nincreases\\nincrease\\nincreased\\nobama\\npercent\\nstates\\nstate\\nstarted\\nstart\\nkill\\nkilled\\nworkers\\nworker\\nmillions\\nmillion\\ntoday\\nincome\\nincomes\\nlaborers\\nlabor\\namerica\\nreform\\nreforms\\ngreat national\\ncoming\\ncome\\ncomes\\nexpense\\nexpensive\\nhelp\\nhelped power\\npowers\\nbillion\\nbillions\\nnationally\\nnation\\nnations\\nstreet\\nproduction\\nproducts\\nproduct\\nbig\\nannual\\nannually\\nsave\\nsaved\\nsaving\\nmichigan\\ncompanies\\ncompany\\nadministration\\ncity\\ncities\\npolitical\\npolitics\\npost\\nrun\\nrunning\\nmotor\\nbiggest\\nday\\ndays\\ntpp\\nyear\\nyears\\ndeal\\nhome\", \"69<br>applause\\nbooing\\nright\\namerican\\namericans\\nhillary\\npeople\\nclinton\\nclintons\\ngreat state\\namerica\\nnational\\nnations\\nnation\\nstates\\noffice\\nofficers\\nofficer\\ngonna\\nsaid\\ntotal\\ntotally\\nsays foreign\\ntime\\ntimes\\nlaw\\nmeans\\nmean\\nmeaning\\njobs\\njob\\nbad\\njustice\\njustices\\nvote\\nvotes\\nworse\\nobamacare\\nnews\\nnew\\nflorida\\nobama\\ncubans\\ncuban\\nimmigrant\\nimmigration\\nimmigrants\\nthing like\\nthank\\ntaxes\\ntax\\nsaying\\ncountry\\ncountries\\nfolks\\nmovement\\nlittle\\nschool\\nschools\\nwar\\nwars\\ngood\\npremium\\npremiums\\nsupported\\nsupport\\nsupports\\nlive\\nliving\\nlives\\nillegal\\ncommunities\\ncommunity\\ncommunication\\nremember\\nbelieve\\nbelievable\\nbelieving\\nbelieves\\nwin\\nwinning\\nthings\\nplace\\ncrooked\\nborder\\nborders\\ndebate\\ndebates\\ncare\\nhigh\", \"70<br>like\\namerican\\namericans\\nnew\\npennsylvania\\namerica\\ncountry\\ncountries\\nregulations\\nregulation\\nclinton\\nnational\\nnation\\nborders\\nborder\\nold\\njobs\\njob\\ntrillion\\ntrillions\\ntaxes\\ntax\\ntrade\\ndepleted\\nend illegal\\nprivate\\nillegally\\ngovernment\\nworld\\nvote\\nvoting\\nnavy\\nsafety\\nhillary\\nmeans\\nmeaning\\nphiladelphia\\ntrump\\nroads\\nroad\\nislamic\\nenforcement\", \"71<br>applause\\nright\\npeople going\\njobs\\njob\\ngreat\\nfolks\\nbig\\ntrade\\nlikes\\nlike\\nliked\\ngood\\ntaxes\\ntax\\ntaxed\\nwin\\nwins\\nwinning\\ncountries\\nnew\\nnews\\ncountry look\\nsaid\\nlooked\\nlooking\\nguy\\nguys\\nhappening\\nhappened\\nhappen\\nhappens\\npercent\\nstates\\nstate\\nstated\\ncompanies\\ncompany\\nclinton\\nthank\\nthankful\\nwoman\\ngot\\nbuilding\\nbuild\\nbuilds\\nbuildings\\nleft\\nsnake\\nhillary\\nthings\\nthing\\npretty\\nbad\\ntalking\\ntalk\\ntalked\\ndeal\\ndeals\\nplants\\nplant\\nmoney\\nstrong\\ndemocratic\\ndemocrat\\ndemocrats\\nsteel\\npresident\\npresidency\\nstory\\nreal\\nworking\\nworked\\nwork\\nwant\\nwants\\ntime\\ntiming\\ntimes\\nneed\", \"72<br>applause\\npeople\\njob\\njobs\\namerican\\namericans\\nhillary\\ncountry\\ncountries\\nvoting\\nvote\\nstate\\nstates\\namerica great\\nsaid\\ntrade\\ntrump\\nnew\\nnews\\ngovernment corruption\\nright\\ncorrupt\\nclinton\\ntaxes big\\ntime\\ntimes\\ntotal\\ntotally\\npercent\\ncitizens\\ncitizen\\nimmigration\\nimmigrants\\nillegal\\nillegally\\ntax\\nyears\\nyear\\nforeign\\nrefugees\\nrefugee\\ncome\\ncoming\\nmedia\\nlatino\\nlatinos\\neverybody\\ndisaster\\nsingle\\nfolks\\nclassified\\nofficials\\nserver\\nincluded\\nincluding\\nincludes\\nelection\\nelect\\nelected\\nthing\\nthings\\ncolorado\\nmilitary\\nmillion\\nmillions\\nlike\\ngiving\\nstory\\nstories\\nair\\ngood\\ngoods\\ncriminal\", \"73<br>cyber\\nsecurity\\nsecure\\nnation\\ngovernment\\ngovernments\\nstates\\nstate\\nbest\\namerica national\\nlaw\\ntechnologies\\ntechnology\\nattacks\\nattacked\\nattack\\nhacks\\nhacked\\nreview\\nreviews\\nmillion\\njoint\\nbackground\\nfederal\\nprotected\\nprotection\\nprotect\\ncriminal\\npublic\\nbasis\\nseeking\"], \"marker\": {\"opacity\": 0.3, \"line\": {\"width\": 1}, \"size\": 8}, \"mode\": \"markers\", \"hoverinfo\": \"text\", \"y\": [59.39687731758685, -30.16234091449683, -46.619934493136626, -12.911473169425072, 33.56252054459268, -521.1123950420249, 31.944665047264255, -356.5124527920074, -54.79052727929712, 38.66172729311684, -134.2771512976361, 1.2361098048109738, 89.31973349176327, -24.410871949454407, 70.07170799430955, 8.62442800495341, -1.1448058176717106, 28.216937470403305, 117.85129748042803, 60.45796432287958, 356.7719567149743, -125.07659726782506, -14.051016178177612, -109.56346621351173, 124.8801461382322, 68.89265991350707, 87.31667791388914, -62.2089285108561, -91.79780695121363, -36.313643705841564, -61.49762822461577, 85.90739098722624, -56.757928955518594, 465.00462323288957, 4.415871538376601, -21.414434013546522, 113.56440703529651, -45.112409940353004, 53.78825161406179, 0.26664097945333465, -28.258923755078843, -42.32050176590207, 35.803196040537216, -70.39506867142372, -90.24302869336996, -77.41756060768171, -22.27848008001836, 39.19452542955529, -55.15298572512547, 5.1726492585802255, -30.021113117335112, -72.03055865895034, 42.93474320366964, 26.691081569376614, -39.12292082765737, 38.216711277774934, 49.477297231773115, -98.45247718526814, 4.66137581558791, 59.95678925800018, 16.749443397508408, 96.80131401928156, 82.4502019939999, 144.18707206305453, 91.81574251571527, -125.17021693865854, 9.22062468020976, 51.767765213651806, -15.516430944232367, 29.39537667070702, -3.984868630822842, 16.097742039028645, -53.31221011311894, -75.56729926828375], \"x\": [34.23779111869901, -69.69659466444989, -43.27580818561249, 108.6191274879376, 151.4034655652076, 226.93172611567562, -7.46603133525577, -204.8726940291137, -255.40765607767867, -126.52554812817789, -79.73464355925339, 78.84997893099595, -64.32765910629969, -96.08328609944564, -100.35779343289806, -87.29770690146752, 2.8143077992910834, -104.40686004875823, 35.50205335693798, -6.64423424883608, 292.95073741334704, -26.080355336447578, 60.04886509961586, 52.379188450689334, -40.574403614761074, -41.47915682631137, 14.436439097269082, -95.3855968240593, 24.864002026374628, 138.91686272109678, -66.52601260562129, 57.29718743382997, 197.78146568297024, -306.2550558473419, -63.907333923136505, -28.50577478851163, -5.741800292151155, 105.7264026751019, 79.47119312566628, -150.12039076854788, 83.7855260153335, 42.94610770668876, -74.2974579729659, 94.40101405835013, -62.958412810251374, -30.14782089727698, 24.89070386167292, 48.65675308057535, 21.19144185443969, 32.392825803568705, 0.026828726522493768, 2.538287216006451, 104.90572879216846, 76.30576531257033, -129.7603629033913, -47.91108448057578, -30.56979568964648, -10.211391858882632, -22.57368275542628, -65.60205312122577, -41.02993019647244, 277.7804601384695, 118.2558920991549, 88.35828146645561, -26.593757147321394, 15.325035598475749, 131.69030802796252, -148.89426625009588, -47.35965078479665, 25.280314319508285, -111.81685051356409, 100.89988595031913, -11.696383232279214, 59.704709057648174], \"type\": \"scatter\"}], {}, {\"linkText\": \"Export to plot.ly\", \"showLink\": true})});</script>"
      ]
     },
     "metadata": {},
     "output_type": "display_data"
    }
   ],
   "source": [
    "ht = [\"<br>\".join([str(i),x]) for i,x in enumerate(kwds)]\n",
    "\n",
    "trace = go.Scatter(\n",
    "    x=D_tsne[:,0],\n",
    "    y=D_tsne[:,1],\n",
    "    mode='markers',\n",
    "    marker= dict(size= 8,\n",
    "                 line= dict(width=1),\n",
    "                 opacity= 0.3\n",
    "                ),\n",
    "    text= ht,\n",
    "    hoverinfo='text')\n",
    "\n",
    "data = [trace]\n",
    "\n",
    "iplot(data)"
   ]
  },
  {
   "cell_type": "code",
   "execution_count": 21,
   "metadata": {
    "collapsed": false
   },
   "outputs": [
    {
     "name": "stdout",
     "output_type": "stream",
     "text": [
      "americans americanism new trade taxes taxing tax jobs job american economic growth regulations regulating regulation plan plans million millions energy great america clinton incomes income people infrastructure policy policies federal including includes dollar dollars production product productive wealth years year come comes coming savings save saved calls completely complete nation national rate rates working work worked business reforms reform reduce reduces reduced single care economy cost costs property class power benefit earned earning entitlements\n",
      "\n",
      "\n",
      "applause booing right american americans hillary people clinton clintons great state america national nations nation states office officers officer gonna said total totally says foreign time times law means mean meaning jobs job bad justice justices vote votes worse obamacare news new florida obama cubans cuban immigrant immigration immigrants thing like thank taxes tax saying country countries folks movement little school schools war wars good premium premiums supported support supports live living lives illegal communities community communication remember believe believable believing believes win winning things place crooked border borders debate debates care high\n"
     ]
    }
   ],
   "source": [
    "# print(citations[62])\n",
    "# print(\"\\n\")\n",
    "# print(kwds[62])\n",
    "# print(\"\\n\")\n",
    "# print(speeches[62])\n",
    "\n",
    "print(\" \".join(kwds[35].split(\"\\n\")))\n",
    "print(\"\\n\")\n",
    "print(\" \".join(kwds[69].split(\"\\n\")))"
   ]
  },
  {
   "cell_type": "code",
   "execution_count": 22,
   "metadata": {
    "collapsed": false
   },
   "outputs": [],
   "source": [
    "dist_out = 1-pairwise_distances(D_tsne, metric=\"l1\")\n",
    "dist_out[dist_out==1.0] = np.nan"
   ]
  },
  {
   "cell_type": "code",
   "execution_count": 23,
   "metadata": {
    "collapsed": false
   },
   "outputs": [],
   "source": [
    "maxpair = np.unravel_index(np.nanargmax(dist_out), dist_out.shape)\n",
    "minpair = np.unravel_index(np.nanargmin(dist_out), dist_out.shape)"
   ]
  },
  {
   "cell_type": "code",
   "execution_count": 24,
   "metadata": {
    "collapsed": false
   },
   "outputs": [
    {
     "name": "stdout",
     "output_type": "stream",
     "text": [
      "35\n",
      " Donald J. Trump: \"Remarks to the Economic Club of New York at the Waldorf Astoria in New York City,\" September 15, 2016. Online by Gerhard Peters and John T. Woolley, The American Presidency Project. http://www.presidency.ucsb.edu/ws/?pid=119209.\n",
      "americans americanism new trade taxes taxing tax jobs job american economic growth regulations regulating regulation plan plans million millions energy great america clinton incomes income people infrastructure policy policies federal including includes dollar dollars production product productive wealth years year come comes coming savings save saved calls completely complete nation national rate rates working work worked business reforms reform reduce reduces reduced single care economy cost costs property class power benefit earned earning entitlements\n",
      "\n",
      "\n",
      "68\n",
      " Donald J. Trump: \"Remarks to the Economic Club of New York at the Waldorf Astoria in New York City,\" September 15, 2016. Online by Gerhard Peters and John T. Woolley, The American Presidency Project. http://www.presidency.ucsb.edu/ws/?pid=119209.\n",
      "american americans taxes tax taxed jobs job new clinton policy policies hillary economic energy trade deals like business businesses regulation regulations regulate regulated nearly detroit increases increase increased obama percent states state started start kill killed workers worker millions million today income incomes laborers labor america reform reforms great national coming come comes expense expensive help helped power powers billion billions nationally nation nations street production products product big annual annually save saved saving michigan companies company administration city cities political politics post run running motor biggest day days tpp year years deal home\n"
     ]
    }
   ],
   "source": [
    "print(maxpair[0])\n",
    "print(citations[maxpair[0]])\n",
    "print(\" \".join(kwds[maxpair[0]].split(\"\\n\")))\n",
    "print(\"\\n\")\n",
    "print(maxpair[1])\n",
    "print(citations[maxpair[0]])\n",
    "print(\" \".join(kwds[maxpair[1]].split(\"\\n\")))"
   ]
  },
  {
   "cell_type": "code",
   "execution_count": 25,
   "metadata": {
    "collapsed": false
   },
   "outputs": [
    {
     "name": "stdout",
     "output_type": "stream",
     "text": [
      "5\n",
      " Donald J. Trump: \"Remarks at the Cross Insurance Center in Bangor, Maine,\" October 15, 2016. Online by Gerhard Peters and John T. Woolley, The American Presidency Project. http://www.presidency.ucsb.edu/ws/?pid=119172.\n",
      "drugs drug hillary clinton clintons american americans like jobs trade treatment treatments taxes tax country countries opioid america deal mike addicted addiction addictive criminals criminal started start starting prescribe opioids corruption corrupt deals reduce come justice justices recovery immigration immigrant immigrants media heroin prescribers prescribing prescribed bring bringing use regulations regulation times time expanding expand government governments traffickers nafta crime crimes end\n",
      "\n",
      "\n",
      "33\n",
      " Donald J. Trump: \"Remarks at the Cross Insurance Center in Bangor, Maine,\" October 15, 2016. Online by Gerhard Peters and John T. Woolley, The American Presidency Project. http://www.presidency.ucsb.edu/ws/?pid=119172.\n",
      "american americans millions million america state states clintons clinton policies jobs job policy hillary country politicians future law living live lives civil citizen citizens children provided provide providing crime world trump looks look insiders schools school violence years year best freedom nafta effective\n"
     ]
    }
   ],
   "source": [
    "print(minpair[0])\n",
    "print(citations[minpair[0]])\n",
    "print(\" \".join(kwds[minpair[0]].split(\"\\n\")))\n",
    "print(\"\\n\")\n",
    "print(minpair[1])\n",
    "print(citations[minpair[0]])\n",
    "print(\" \".join(kwds[minpair[1]].split(\"\\n\")))"
   ]
  },
  {
   "cell_type": "code",
   "execution_count": null,
   "metadata": {
    "collapsed": true
   },
   "outputs": [],
   "source": []
  }
 ],
 "metadata": {
  "kernelspec": {
   "display_name": "Python [Root]",
   "language": "python",
   "name": "Python [Root]"
  },
  "language_info": {
   "codemirror_mode": {
    "name": "ipython",
    "version": 2
   },
   "file_extension": ".py",
   "mimetype": "text/x-python",
   "name": "python",
   "nbconvert_exporter": "python",
   "pygments_lexer": "ipython2",
   "version": "2.7.12"
  }
 },
 "nbformat": 4,
 "nbformat_minor": 0
}
